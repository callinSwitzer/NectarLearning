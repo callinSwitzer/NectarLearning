{
 "cells": [
  {
   "cell_type": "code",
   "execution_count": null,
   "metadata": {},
   "outputs": [],
   "source": [
    "import sys\n",
    "sys.executable"
   ]
  },
  {
   "cell_type": "code",
   "execution_count": null,
   "metadata": {},
   "outputs": [],
   "source": [
    "sys.version"
   ]
  },
  {
   "cell_type": "code",
   "execution_count": null,
   "metadata": {},
   "outputs": [],
   "source": [
    "import PySpin"
   ]
  },
  {
   "cell_type": "code",
   "execution_count": null,
   "metadata": {},
   "outputs": [],
   "source": [
    "# Retrieve singleton reference to system object\n",
    "system = PySpin.System.GetInstance()\n",
    "\n",
    "# Get current library version\n",
    "version = system.GetLibraryVersion()\n",
    "print('Library version: %d.%d.%d.%d' % (version.major, version.minor, version.type, version.build))\n",
    "\n",
    "# Retrieve list of cameras from the system\n",
    "cam_list = system.GetCameras()\n",
    "\n",
    "num_cameras = cam_list.GetSize()"
   ]
  },
  {
   "cell_type": "code",
   "execution_count": null,
   "metadata": {},
   "outputs": [],
   "source": [
    "num_cameras"
   ]
  },
  {
   "cell_type": "code",
   "execution_count": null,
   "metadata": {},
   "outputs": [],
   "source": [
    "import cv2"
   ]
  },
  {
   "cell_type": "code",
   "execution_count": null,
   "metadata": {},
   "outputs": [],
   "source": [
    "cam_list"
   ]
  },
  {
   "cell_type": "code",
   "execution_count": 1,
   "metadata": {},
   "outputs": [],
   "source": [
    "import PySpinAcq"
   ]
  },
  {
   "cell_type": "code",
   "execution_count": 2,
   "metadata": {},
   "outputs": [],
   "source": [
    "from PySpinAcq import Acquisition"
   ]
  },
  {
   "cell_type": "code",
   "execution_count": 3,
   "metadata": {},
   "outputs": [
    {
     "name": "stdout",
     "output_type": "stream",
     "text": [
      "Library version: 1.20.0.15\n",
      "Number of cameras detected: 2\n",
      "Running example for all cameras...\n",
      "*** DEVICE INFORMATION ***\n",
      "\n",
      "Printing device information for camera 0... \n",
      "\n",
      "DeviceID: 16060682\n",
      "DeviceSerialNumber: 16060682\n",
      "DeviceVendorName: Point Grey Research\n",
      "DeviceModelName: Chameleon3 CM3-U3-13Y3C\n",
      "DeviceType: U3V\n",
      "DeviceDisplayName: Point Grey Research Chameleon3 CM3-U3-13Y3C\n",
      "DeviceAccessStatus: ReadWrite\n",
      "DeviceVersion: FW:v1.9.3.00 FPGA:v2.02\n",
      "DeviceDriverVersion: PGRUSBCam.sys : 2.7.3.235\n",
      "DeviceUserID: \n",
      "DeviceIsUpdater: 0\n",
      "DeviceInstanceId: USB\\VID_1E10&PID_3300&MI_00\\6&2A9AC141&0&0000\n",
      "DeviceCurrentSpeed: SuperSpeed\n",
      "GUIXMLLocation: Device\n",
      "GUIXMLPath: Input.xml\n",
      "GenICamXMLLocation: Device\n",
      "GenICamXMLPath: \n",
      "DeviceU3VProtocol: 1\n",
      "\n",
      "Printing device information for camera 1... \n",
      "\n",
      "DeviceID: 16061221\n",
      "DeviceSerialNumber: 16061221\n",
      "DeviceVendorName: Point Grey Research\n",
      "DeviceModelName: Chameleon3 CM3-U3-13Y3C\n",
      "DeviceType: U3V\n",
      "DeviceDisplayName: Point Grey Research Chameleon3 CM3-U3-13Y3C\n",
      "DeviceAccessStatus: ReadWrite\n",
      "DeviceVersion: FW:v1.9.3.00 FPGA:v2.02\n",
      "DeviceDriverVersion: PGRUSBCam.sys : 2.7.3.235\n",
      "DeviceUserID: \n",
      "DeviceIsUpdater: 0\n",
      "DeviceInstanceId: USB\\VID_1E10&PID_3300&MI_00\\6&669320F&0&0000\n",
      "DeviceCurrentSpeed: SuperSpeed\n",
      "GUIXMLLocation: Device\n",
      "GUIXMLPath: Input.xml\n",
      "GenICamXMLLocation: Device\n",
      "GenICamXMLPath: \n",
      "DeviceU3VProtocol: 1\n",
      "\n",
      "*** IMAGE ACQUISITION ***\n",
      "\n",
      "Camera 0 acquisition mode set to continuous...\n",
      "Camera 0 started acquiring images...\n",
      "Camera 0 serial number set to 16060682...\n",
      "\n",
      "Camera 1 acquisition mode set to continuous...\n",
      "Camera 1 started acquiring images...\n",
      "Camera 1 serial number set to 16061221...\n",
      "\n",
      "Camera 0 grabbed image 0, width = 1280, height = 1024\n",
      "Image saved at AcquisitionMultipleCamera-16061221-0.jpg\n",
      "\n",
      "Camera 1 grabbed image 0, width = 1280, height = 1024\n",
      "Image saved at AcquisitionMultipleCamera-16061221-0.jpg\n",
      "\n",
      "Camera 0 grabbed image 1, width = 1280, height = 1024\n",
      "Image saved at AcquisitionMultipleCamera-16061221-1.jpg\n",
      "\n",
      "Camera 1 grabbed image 1, width = 1280, height = 1024\n",
      "Image saved at AcquisitionMultipleCamera-16061221-1.jpg\n",
      "\n",
      "Camera 0 grabbed image 2, width = 1280, height = 1024\n",
      "Image saved at AcquisitionMultipleCamera-16061221-2.jpg\n",
      "\n",
      "Camera 1 grabbed image 2, width = 1280, height = 1024\n",
      "Image saved at AcquisitionMultipleCamera-16061221-2.jpg\n",
      "\n",
      "Camera 0 grabbed image 3, width = 1280, height = 1024\n",
      "Image saved at AcquisitionMultipleCamera-16061221-3.jpg\n",
      "\n",
      "Camera 1 grabbed image 3, width = 1280, height = 1024\n",
      "Image saved at AcquisitionMultipleCamera-16061221-3.jpg\n",
      "\n",
      "Camera 0 grabbed image 4, width = 1280, height = 1024\n",
      "Image saved at AcquisitionMultipleCamera-16061221-4.jpg\n",
      "\n",
      "Camera 1 grabbed image 4, width = 1280, height = 1024\n",
      "Image saved at AcquisitionMultipleCamera-16061221-4.jpg\n",
      "\n",
      "Camera 0 grabbed image 5, width = 1280, height = 1024\n",
      "Image saved at AcquisitionMultipleCamera-16061221-5.jpg\n",
      "\n",
      "Camera 1 grabbed image 5, width = 1280, height = 1024\n",
      "Image saved at AcquisitionMultipleCamera-16061221-5.jpg\n",
      "\n",
      "Camera 0 grabbed image 6, width = 1280, height = 1024\n",
      "Image saved at AcquisitionMultipleCamera-16061221-6.jpg\n",
      "\n",
      "Camera 1 grabbed image 6, width = 1280, height = 1024\n",
      "Image saved at AcquisitionMultipleCamera-16061221-6.jpg\n",
      "\n",
      "Camera 0 grabbed image 7, width = 1280, height = 1024\n",
      "Image saved at AcquisitionMultipleCamera-16061221-7.jpg\n",
      "\n",
      "Camera 1 grabbed image 7, width = 1280, height = 1024\n",
      "Image saved at AcquisitionMultipleCamera-16061221-7.jpg\n",
      "\n",
      "Camera 0 grabbed image 8, width = 1280, height = 1024\n",
      "Image saved at AcquisitionMultipleCamera-16061221-8.jpg\n",
      "\n",
      "Camera 1 grabbed image 8, width = 1280, height = 1024\n",
      "Image saved at AcquisitionMultipleCamera-16061221-8.jpg\n",
      "\n",
      "Camera 0 grabbed image 9, width = 1280, height = 1024\n",
      "Image saved at AcquisitionMultipleCamera-16061221-9.jpg\n",
      "\n",
      "Camera 1 grabbed image 9, width = 1280, height = 1024\n",
      "Image saved at AcquisitionMultipleCamera-16061221-9.jpg\n",
      "\n",
      "Example complete... \n",
      "\n"
     ]
    },
    {
     "name": "stdin",
     "output_type": "stream",
     "text": [
      "Done! Press Enter to exit... \n"
     ]
    },
    {
     "data": {
      "text/plain": [
       "True"
      ]
     },
     "execution_count": 3,
     "metadata": {},
     "output_type": "execute_result"
    }
   ],
   "source": [
    "Acquisition.main()"
   ]
  },
  {
   "cell_type": "code",
   "execution_count": null,
   "metadata": {},
   "outputs": [],
   "source": []
  }
 ],
 "metadata": {
  "kernelspec": {
   "display_name": "nectarLearn2",
   "language": "python",
   "name": "nectarlearn2"
  },
  "language_info": {
   "codemirror_mode": {
    "name": "ipython",
    "version": 3
   },
   "file_extension": ".py",
   "mimetype": "text/x-python",
   "name": "python",
   "nbconvert_exporter": "python",
   "pygments_lexer": "ipython3",
   "version": "3.5.5"
  }
 },
 "nbformat": 4,
 "nbformat_minor": 2
}
