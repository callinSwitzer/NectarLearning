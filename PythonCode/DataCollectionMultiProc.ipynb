{
 "cells": [
  {
   "cell_type": "markdown",
   "metadata": {},
   "source": [
    "# Collect data for nectar experiment"
   ]
  },
  {
   "cell_type": "code",
   "execution_count": 1,
   "metadata": {},
   "outputs": [
    {
     "name": "stdout",
     "output_type": "stream",
     "text": [
      "3.5.4 |Anaconda custom (64-bit)| (default, Sep 19 2017, 08:15:17) [MSC v.1900 64 bit (AMD64)]\n",
      "C:\\Users\\Combes4\\Anaconda2\\envs\\NectarCamera\\python.exe\n"
     ]
    }
   ],
   "source": [
    "import nectarUtils\n",
    "from nectarUtils import *\n",
    "import nectarUtils as nu\n",
    "\n",
    "import beeDataAcq\n",
    "from beeDataAcq import cameraSetup, saveVid\n",
    "\n",
    "import importlib\n",
    "import shutil\n",
    "\n",
    "from multiprocessing import Process, Pipe\n",
    "\n",
    "\n",
    "%matplotlib inline\n",
    "print(sys.version)\n",
    "print(sys.executable)\n",
    "\n",
    "# define directories\n",
    "baseDir = os.getcwd()\n",
    "\n",
    "# may want to make this directory somewhere else, if dropbox becomes a problem\n",
    "dataDir = r\"D:\\Dropbox\\AcademiaDropbox\\UW\\BeeDecisionProject\\NectarData\"\n",
    "if not os.path.isdir(dataDir):\n",
    "    os.mkdir(dataDir)\n",
    "\n",
    "figDir = r\"D:\\Dropbox\\AcademiaDropbox\\UW\\BeeDecisionProject\\NectarFigs\"\n",
    "if not os.path.isdir(figDir):\n",
    "    os.mkdir(figDir)"
   ]
  },
  {
   "cell_type": "code",
   "execution_count": 2,
   "metadata": {},
   "outputs": [],
   "source": [
    "# check cameras\n",
    "parent_conn, child_conn = Pipe()\n",
    "p = Process(target=cameraSetup.main, args=(child_conn, ))\n",
    "p.start()"
   ]
  },
  {
   "cell_type": "code",
   "execution_count": null,
   "metadata": {},
   "outputs": [],
   "source": [
    "# send stop signal\n",
    "parent_conn.send(\"stop\")"
   ]
  },
  {
   "cell_type": "code",
   "execution_count": 3,
   "metadata": {},
   "outputs": [
    {
     "data": {
      "text/plain": [
       "['COM4', 'COM8']"
      ]
     },
     "execution_count": 3,
     "metadata": {},
     "output_type": "execute_result"
    }
   ],
   "source": [
    "# list serial ports\n",
    "nu.serial_ports()"
   ]
  },
  {
   "cell_type": "code",
   "execution_count": 4,
   "metadata": {},
   "outputs": [
    {
     "name": "stdout",
     "output_type": "stream",
     "text": [
      "connected to arduino on COM4\n"
     ]
    },
    {
     "data": {
      "text/plain": [
       "' Setup complete\\r\\n'"
      ]
     },
     "execution_count": 4,
     "metadata": {},
     "output_type": "execute_result"
    }
   ],
   "source": [
    "# connect to com8\n",
    "PORT1 = \"COM4\"\n",
    "connected1 = False\n",
    "if \"ser1\" in globals():\n",
    "    ser1.close()\n",
    "ser1 = serial.Serial(PORT1,9600, timeout=1.0) # stop if no data comes in 1 second\n",
    "while not connected1:\n",
    "    serin1 = ser1.read()\n",
    "    connected1 = True\n",
    "    print(\"connected to arduino on \" + PORT1)\n",
    "str(ser1.readline().decode(\"UTF-8\"))    "
   ]
  },
  {
   "cell_type": "code",
   "execution_count": 5,
   "metadata": {},
   "outputs": [
    {
     "name": "stdout",
     "output_type": "stream",
     "text": [
      "connected to arduino on COM8\n"
     ]
    },
    {
     "data": {
      "text/plain": [
       "' Setup complete\\r\\n'"
      ]
     },
     "execution_count": 5,
     "metadata": {},
     "output_type": "execute_result"
    }
   ],
   "source": [
    "# connect to com8\n",
    "PORT2 = \"COM8\"\n",
    "connected2 = False\n",
    "if \"ser2\" in globals():\n",
    "    ser2.close()\n",
    "ser2 = serial.Serial(PORT2,9600, timeout=1.0) # stop if no data comes in 1 second\n",
    "while not connected2:\n",
    "    serin2 = ser2.read()\n",
    "    connected2 = True\n",
    "    print(\"connected to arduino on \" + PORT2)\n",
    "str(ser2.readline().decode(\"UTF-8\"))    "
   ]
  },
  {
   "cell_type": "code",
   "execution_count": 61,
   "metadata": {},
   "outputs": [
    {
     "data": {
      "text/plain": [
       "2"
      ]
     },
     "execution_count": 61,
     "metadata": {},
     "output_type": "execute_result"
    }
   ],
   "source": [
    "ser2.write(\"ff\".encode(\"utf-8\")) # com8"
   ]
  },
  {
   "cell_type": "code",
   "execution_count": 94,
   "metadata": {},
   "outputs": [
    {
     "data": {
      "text/plain": [
       "2"
      ]
     },
     "execution_count": 94,
     "metadata": {},
     "output_type": "execute_result"
    }
   ],
   "source": [
    "ser1.write(\"ff\".encode(\"utf-8\")) # com4"
   ]
  },
  {
   "cell_type": "code",
   "execution_count": 95,
   "metadata": {},
   "outputs": [],
   "source": [
    "# calibrate both at the same time\n",
    "\n",
    "_ = importlib.reload(nectarUtils)\n",
    "cal1, cal2 = nu.multiCalibrate(ser1, ser2)"
   ]
  },
  {
   "cell_type": "code",
   "execution_count": 96,
   "metadata": {},
   "outputs": [],
   "source": [
    "#cal1 = nu.multiCalibrate(ser1) # can use this function to do a single calibration\n",
    "\n",
    "#cal2 = nu.multiCalibrate(ser2)"
   ]
  },
  {
   "cell_type": "code",
   "execution_count": 97,
   "metadata": {},
   "outputs": [
    {
     "data": {
      "image/png": "[encoded data removed]",
      "text/plain": [
       "<matplotlib.figure.Figure at 0x1b503264a20>"
      ]
     },
     "metadata": {},
     "output_type": "display_data"
    },
    {
     "data": {
      "image/png": "[encoded data removed]",
      "text/plain": [
       "<matplotlib.figure.Figure at 0x1b503b13160>"
      ]
     },
     "metadata": {},
     "output_type": "display_data"
    }
   ],
   "source": [
    "_ = importlib.reload(nectarUtils)\n",
    "nu.plotCalibration(cal1)\n",
    "nu.plotCalibration(cal2)"
   ]
  },
  {
   "cell_type": "code",
   "execution_count": 98,
   "metadata": {},
   "outputs": [
    {
     "name": "stdout",
     "output_type": "stream",
     "text": [
      "\n",
      "TimeStamp is enabled.\n",
      "\n",
      "\n",
      "TimeStamp is enabled.\n",
      "\n"
     ]
    },
    {
     "data": {
      "image/png": "[encoded data removed]",
      "text/plain": [
       "<matplotlib.figure.Figure at 0x1b503251940>"
      ]
     },
     "metadata": {},
     "output_type": "display_data"
    }
   ],
   "source": [
    "# get image calibration\n",
    "calImg1, calImg2 = beeDataAcq.saveVid.getCalibrationImages()"
   ]
  },
  {
   "cell_type": "code",
   "execution_count": 103,
   "metadata": {},
   "outputs": [],
   "source": [
    "_ = importlib.reload(nectarUtils)\n",
    "_ = importlib.reload(beeDataAcq.saveVid)\n",
    "_ = importlib.reload(beeDataAcq.cameraSetup)"
   ]
  },
  {
   "cell_type": "code",
   "execution_count": 104,
   "metadata": {},
   "outputs": [
    {
     "name": "stdout",
     "output_type": "stream",
     "text": [
      "4.0 seconds elapsed\n",
      "5.0 seconds elapsed\n",
      "ACTION\n",
      "ACTION\n",
      "ACTION\n",
      "69.0 seconds elapsed\n",
      "76.0 seconds elapsed\n",
      "124.0 seconds elapsed\n",
      "132.0 seconds elapsed\n",
      "204.0 seconds elapsed\n",
      "214.0 seconds elapsed\n",
      "284.0 seconds elapsed\n",
      "303.0 seconds elapsed\n",
      "386.0 seconds elapsed\n",
      "395.0 seconds elapsed\n",
      "471.0 seconds elapsed\n",
      "478.0 seconds elapsed\n",
      "547.0 seconds elapsed\n",
      "555.0 seconds elapsed\n",
      "620.0 seconds elapsed\n",
      "628.0 seconds elapsed\n",
      "ACTION\n",
      "705.0 seconds elapsed\n",
      "717.0 seconds elapsed\n",
      "keyboard break\n",
      "keyboard break\n",
      "DONE\n"
     ]
    }
   ],
   "source": [
    "# start video (asynchronously) -- pthe process is stopped with parent_conn.send(\"stop\")\n",
    "parent_conn, child_conn = Pipe()\n",
    "p = Process(target=saveVid.main, args=(child_conn, calImg1, calImg2 ))\n",
    "p.start()\n",
    "\n",
    "\n",
    "# this is not asynchronous -- you must press \"q\" in the command prompt twice to exit\n",
    "try:\n",
    "    dat1, dat1_file, dat2, dat2_file= nu.multiReadAndSave(ser1, ser2, cal1, cal2,\n",
    "                                                           dataDir = dataDir, maxTime = 60*20)\n",
    "    print(\"DONE\")\n",
    "except: \n",
    "    print(\"timeout\")\n",
    "# stops video recording\n",
    "parent_conn.send(\"stop\")"
   ]
  },
  {
   "cell_type": "code",
   "execution_count": 105,
   "metadata": {},
   "outputs": [],
   "source": [
    "# stops video recording\n",
    "parent_conn.send(\"stop\")"
   ]
  },
  {
   "cell_type": "code",
   "execution_count": 107,
   "metadata": {},
   "outputs": [
    {
     "name": "stdout",
     "output_type": "stream",
     "text": [
      "C:\\Users\\Combes4\\Desktop\\TempVids\\2019_04_02__14_43_33_295\n",
      "3  movie files moved\n"
     ]
    }
   ],
   "source": [
    "# post-processing of data\n",
    "if parent_conn.poll():\n",
    "    movieFileName = parent_conn.recv()\n",
    "else:\n",
    "    movieFileName = \"unknown\"\n",
    "print(movieFileName)\n",
    "\n",
    "# combine datasets\n",
    "dat_combined = dat1.append(pd.DataFrame( dat2), ignore_index=True)\n",
    "dat_combined[\"video_file\"] = np.nan\n",
    "dat_combined.loc[0,\"video_file\"] = movieFileName\n",
    "#dat_combined.loc[1, \"notes\"] = movieFileName + str(\"    MovieFile\")\n",
    "dat_combined.head()\n",
    "\n",
    "# save combined dataset\n",
    "dat_combined.to_csv(os.path.join(dataDir, np.sort([dat2_file, dat1_file])[0].replace(\".\", \"___cmbnd.\")), index = False)\n",
    "\n",
    "# remove individual datasets\n",
    "if os.path.isfile(os.path.join(dataDir, dat1_file)):\n",
    "    os.remove(os.path.join(dataDir, dat1_file))\n",
    "else: \n",
    "    print(\"File doesn't exist\")\n",
    "if os.path.isfile(os.path.join(dataDir, dat2_file)):\n",
    "    os.remove(os.path.join(dataDir, dat2_file)) \n",
    "else: \n",
    "    print(\"File doesn't exist\")\n",
    "\n",
    "\n",
    "# combine movie and nectar files into one\n",
    "movieFiles2Move = [fname \n",
    "             for fname in os.listdir(os.path.dirname(movieFileName)) \n",
    "             if fname.startswith(os.path.basename(movieFileName))]\n",
    "\n",
    "nectarFile2Copy = os.path.join(dataDir, np.sort([dat2_file, dat1_file])[0].replace(\".\", \"___cmbnd.\"))\n",
    "\n",
    "# make new folder\n",
    "CombinedFolder = os.path.join(dataDir, np.sort([dat2_file, dat1_file])[0].replace(\".csv\", \"\"))\n",
    "\n",
    "if not os.path.isdir(CombinedFolder):\n",
    "    os.mkdir(CombinedFolder)\n",
    "\n",
    "# MOVE MOVIES\n",
    "try: \n",
    "    for i in range(len(movieFiles2Move)):\n",
    "        shutil.move(os.path.join(os.path.dirname(movieFileName), movieFiles2Move[i]), \n",
    "                    os.path.join(CombinedFolder, movieFiles2Move[i]))\n",
    "    print(len(movieFiles2Move), \" movie files moved\")\n",
    "except: \n",
    "    print(\"can't move movies\")\n",
    "\n",
    "    \n",
    "# MOVE DATA\n",
    "try:\n",
    "    shutil.move(nectarFile2Copy, os.path.join(CombinedFolder, os.path.basename(nectarFile2Copy)))\n",
    "except: \n",
    "    print(\"can't move nectar data\")"
   ]
  },
  {
   "cell_type": "code",
   "execution_count": 110,
   "metadata": {},
   "outputs": [],
   "source": [
    "d1 = os.path.join(CombinedFolder, os.path.basename(nectarFile2Copy))"
   ]
  },
  {
   "cell_type": "code",
   "execution_count": 119,
   "metadata": {},
   "outputs": [
    {
     "data": {
      "text/plain": [
       "'D:\\\\Dropbox\\\\AcademiaDropbox\\\\UW\\\\BeeDecisionProject\\\\NectarData\\\\2019_04_02__14_43_21_775574\\\\2019_04_02__14_43_33_295.csv'"
      ]
     },
     "execution_count": 119,
     "metadata": {},
     "output_type": "execute_result"
    }
   ],
   "source": [
    "d2 = os.path.join(CombinedFolder, os.path.basename(movieFileName) + \".csv\")\n",
    "d2"
   ]
  },
  {
   "cell_type": "code",
   "execution_count": 178,
   "metadata": {},
   "outputs": [
    {
     "data": {
      "text/html": [
       "<div>\n",
       "<style>\n",
       "    .dataframe thead tr:only-child th {\n",
       "        text-align: right;\n",
       "    }\n",
       "\n",
       "    .dataframe thead th {\n",
       "        text-align: left;\n",
       "    }\n",
       "\n",
       "    .dataframe tbody tr th {\n",
       "        vertical-align: top;\n",
       "    }\n",
       "</style>\n",
       "<table border=\"1\" class=\"dataframe\">\n",
       "  <thead>\n",
       "    <tr style=\"text-align: right;\">\n",
       "      <th></th>\n",
       "      <th>index</th>\n",
       "      <th>base</th>\n",
       "      <th>limit_1</th>\n",
       "      <th>limit_2</th>\n",
       "      <th>mid</th>\n",
       "      <th>notes</th>\n",
       "      <th>port</th>\n",
       "      <th>timestamp</th>\n",
       "      <th>top</th>\n",
       "      <th>video_file</th>\n",
       "    </tr>\n",
       "  </thead>\n",
       "  <tbody>\n",
       "    <tr>\n",
       "      <th>20035</th>\n",
       "      <td>20035</td>\n",
       "      <td>161</td>\n",
       "      <td>0</td>\n",
       "      <td>0</td>\n",
       "      <td>810</td>\n",
       "      <td>NaN</td>\n",
       "      <td>COM8</td>\n",
       "      <td>2019-04-02 14:56:01.951350</td>\n",
       "      <td>216</td>\n",
       "      <td>NaN</td>\n",
       "    </tr>\n",
       "    <tr>\n",
       "      <th>20036</th>\n",
       "      <td>20036</td>\n",
       "      <td>161</td>\n",
       "      <td>0</td>\n",
       "      <td>0</td>\n",
       "      <td>810</td>\n",
       "      <td>NaN</td>\n",
       "      <td>COM8</td>\n",
       "      <td>2019-04-02 14:56:02.012314</td>\n",
       "      <td>216</td>\n",
       "      <td>NaN</td>\n",
       "    </tr>\n",
       "    <tr>\n",
       "      <th>20037</th>\n",
       "      <td>20037</td>\n",
       "      <td>161</td>\n",
       "      <td>0</td>\n",
       "      <td>0</td>\n",
       "      <td>810</td>\n",
       "      <td>NaN</td>\n",
       "      <td>COM8</td>\n",
       "      <td>2019-04-02 14:56:02.061286</td>\n",
       "      <td>216</td>\n",
       "      <td>NaN</td>\n",
       "    </tr>\n",
       "    <tr>\n",
       "      <th>20038</th>\n",
       "      <td>20038</td>\n",
       "      <td>161</td>\n",
       "      <td>0</td>\n",
       "      <td>0</td>\n",
       "      <td>810</td>\n",
       "      <td>NaN</td>\n",
       "      <td>COM8</td>\n",
       "      <td>2019-04-02 14:56:02.132859</td>\n",
       "      <td>216</td>\n",
       "      <td>NaN</td>\n",
       "    </tr>\n",
       "    <tr>\n",
       "      <th>20039</th>\n",
       "      <td>20039</td>\n",
       "      <td>161</td>\n",
       "      <td>0</td>\n",
       "      <td>0</td>\n",
       "      <td>810</td>\n",
       "      <td>NaN</td>\n",
       "      <td>COM8</td>\n",
       "      <td>2019-04-02 14:56:02.184216</td>\n",
       "      <td>216</td>\n",
       "      <td>NaN</td>\n",
       "    </tr>\n",
       "  </tbody>\n",
       "</table>\n",
       "</div>"
      ],
      "text/plain": [
       "       index  base  limit_1  limit_2  mid notes  port  \\\n",
       "20035  20035   161        0        0  810   NaN  COM8   \n",
       "20036  20036   161        0        0  810   NaN  COM8   \n",
       "20037  20037   161        0        0  810   NaN  COM8   \n",
       "20038  20038   161        0        0  810   NaN  COM8   \n",
       "20039  20039   161        0        0  810   NaN  COM8   \n",
       "\n",
       "                       timestamp  top video_file  \n",
       "20035 2019-04-02 14:56:01.951350  216        NaN  \n",
       "20036 2019-04-02 14:56:02.012314  216        NaN  \n",
       "20037 2019-04-02 14:56:02.061286  216        NaN  \n",
       "20038 2019-04-02 14:56:02.132859  216        NaN  \n",
       "20039 2019-04-02 14:56:02.184216  216        NaN  "
      ]
     },
     "execution_count": 178,
     "metadata": {},
     "output_type": "execute_result"
    }
   ],
   "source": [
    "dd1 = pd.read_csv(d1).reset_index()\n",
    "dd1['timestamp'] = pd.to_datetime(dd1['timestamp'])\n",
    "dd1.tail()"
   ]
  },
  {
   "cell_type": "code",
   "execution_count": 179,
   "metadata": {},
   "outputs": [
    {
     "data": {
      "text/html": [
       "<div>\n",
       "<style>\n",
       "    .dataframe thead tr:only-child th {\n",
       "        text-align: right;\n",
       "    }\n",
       "\n",
       "    .dataframe thead th {\n",
       "        text-align: left;\n",
       "    }\n",
       "\n",
       "    .dataframe tbody tr th {\n",
       "        vertical-align: top;\n",
       "    }\n",
       "</style>\n",
       "<table border=\"1\" class=\"dataframe\">\n",
       "  <thead>\n",
       "    <tr style=\"text-align: right;\">\n",
       "      <th></th>\n",
       "      <th>index</th>\n",
       "      <th>datetime</th>\n",
       "      <th>beeInImage1</th>\n",
       "      <th>darkArea1</th>\n",
       "      <th>beeInImage2</th>\n",
       "      <th>darkArea2</th>\n",
       "      <th>timestamp</th>\n",
       "    </tr>\n",
       "  </thead>\n",
       "  <tbody>\n",
       "    <tr>\n",
       "      <th>0</th>\n",
       "      <td>0</td>\n",
       "      <td>2019_04_02__14_43_33_296</td>\n",
       "      <td>False</td>\n",
       "      <td>0.0</td>\n",
       "      <td>False</td>\n",
       "      <td>0.0</td>\n",
       "      <td>2019-04-02 14:43:33.296</td>\n",
       "    </tr>\n",
       "    <tr>\n",
       "      <th>1</th>\n",
       "      <td>1</td>\n",
       "      <td>2019_04_02__14_43_35_155</td>\n",
       "      <td>False</td>\n",
       "      <td>0.0</td>\n",
       "      <td>False</td>\n",
       "      <td>0.0</td>\n",
       "      <td>2019-04-02 14:43:35.155</td>\n",
       "    </tr>\n",
       "    <tr>\n",
       "      <th>2</th>\n",
       "      <td>2</td>\n",
       "      <td>2019_04_02__14_43_35_552</td>\n",
       "      <td>False</td>\n",
       "      <td>0.0</td>\n",
       "      <td>False</td>\n",
       "      <td>0.0</td>\n",
       "      <td>2019-04-02 14:43:35.552</td>\n",
       "    </tr>\n",
       "    <tr>\n",
       "      <th>3</th>\n",
       "      <td>3</td>\n",
       "      <td>2019_04_02__14_43_35_898</td>\n",
       "      <td>False</td>\n",
       "      <td>0.0</td>\n",
       "      <td>False</td>\n",
       "      <td>0.0</td>\n",
       "      <td>2019-04-02 14:43:35.898</td>\n",
       "    </tr>\n",
       "    <tr>\n",
       "      <th>4</th>\n",
       "      <td>4</td>\n",
       "      <td>2019_04_02__14_43_36_263</td>\n",
       "      <td>False</td>\n",
       "      <td>0.0</td>\n",
       "      <td>False</td>\n",
       "      <td>0.0</td>\n",
       "      <td>2019-04-02 14:43:36.263</td>\n",
       "    </tr>\n",
       "  </tbody>\n",
       "</table>\n",
       "</div>"
      ],
      "text/plain": [
       "   index                  datetime  beeInImage1  darkArea1  beeInImage2  \\\n",
       "0      0  2019_04_02__14_43_33_296        False        0.0        False   \n",
       "1      1  2019_04_02__14_43_35_155        False        0.0        False   \n",
       "2      2  2019_04_02__14_43_35_552        False        0.0        False   \n",
       "3      3  2019_04_02__14_43_35_898        False        0.0        False   \n",
       "4      4  2019_04_02__14_43_36_263        False        0.0        False   \n",
       "\n",
       "   darkArea2               timestamp  \n",
       "0        0.0 2019-04-02 14:43:33.296  \n",
       "1        0.0 2019-04-02 14:43:35.155  \n",
       "2        0.0 2019-04-02 14:43:35.552  \n",
       "3        0.0 2019-04-02 14:43:35.898  \n",
       "4        0.0 2019-04-02 14:43:36.263  "
      ]
     },
     "execution_count": 179,
     "metadata": {},
     "output_type": "execute_result"
    }
   ],
   "source": [
    "dd2 = pd.read_csv(d2).reset_index()\n",
    "dd2['timestamp'] = pd.to_datetime(dd2['datetime'], format=\"%Y_%m_%d__%H_%M_%S_%f\")\n",
    "dd2.head()"
   ]
  },
  {
   "cell_type": "code",
   "execution_count": 180,
   "metadata": {},
   "outputs": [
    {
     "name": "stdout",
     "output_type": "stream",
     "text": [
      "(20040, 5)\n",
      "(1342, 3)\n"
     ]
    }
   ],
   "source": [
    "sd1 = dd1.loc[:, [\"base\", \"mid\", \"top\", \"port\", \"timestamp\"]].sort_values('timestamp')\n",
    "print(sd1.shape)\n",
    "sd2 = dd2.loc[:, [\"beeInImage1\", \"beeInImage2\", \"timestamp\"]]\n",
    "print(sd2.shape)"
   ]
  },
  {
   "cell_type": "code",
   "execution_count": 204,
   "metadata": {},
   "outputs": [],
   "source": [
    "MergedCameraNectar = pd.merge_asof( sd1.reset_index(),sd2.reset_index(), on = \"timestamp\", direction = \"nearest\")"
   ]
  },
  {
   "cell_type": "code",
   "execution_count": 205,
   "metadata": {},
   "outputs": [
    {
     "data": {
      "text/html": [
       "<div>\n",
       "<style>\n",
       "    .dataframe thead tr:only-child th {\n",
       "        text-align: right;\n",
       "    }\n",
       "\n",
       "    .dataframe thead th {\n",
       "        text-align: left;\n",
       "    }\n",
       "\n",
       "    .dataframe tbody tr th {\n",
       "        vertical-align: top;\n",
       "    }\n",
       "</style>\n",
       "<table border=\"1\" class=\"dataframe\">\n",
       "  <thead>\n",
       "    <tr style=\"text-align: right;\">\n",
       "      <th></th>\n",
       "      <th>index_x</th>\n",
       "      <th>base</th>\n",
       "      <th>mid</th>\n",
       "      <th>top</th>\n",
       "      <th>port</th>\n",
       "      <th>timestamp</th>\n",
       "      <th>index_y</th>\n",
       "      <th>beeInImage1</th>\n",
       "      <th>beeInImage2</th>\n",
       "    </tr>\n",
       "  </thead>\n",
       "  <tbody>\n",
       "    <tr>\n",
       "      <th>20035</th>\n",
       "      <td>20037</td>\n",
       "      <td>161</td>\n",
       "      <td>810</td>\n",
       "      <td>216</td>\n",
       "      <td>COM8</td>\n",
       "      <td>2019-04-02 14:56:02.061286</td>\n",
       "      <td>1340</td>\n",
       "      <td>False</td>\n",
       "      <td>False</td>\n",
       "    </tr>\n",
       "    <tr>\n",
       "      <th>20036</th>\n",
       "      <td>20038</td>\n",
       "      <td>161</td>\n",
       "      <td>810</td>\n",
       "      <td>216</td>\n",
       "      <td>COM8</td>\n",
       "      <td>2019-04-02 14:56:02.132859</td>\n",
       "      <td>1340</td>\n",
       "      <td>False</td>\n",
       "      <td>False</td>\n",
       "    </tr>\n",
       "    <tr>\n",
       "      <th>20037</th>\n",
       "      <td>10040</td>\n",
       "      <td>115</td>\n",
       "      <td>955</td>\n",
       "      <td>417</td>\n",
       "      <td>COM4</td>\n",
       "      <td>2019-04-02 14:56:02.133246</td>\n",
       "      <td>1340</td>\n",
       "      <td>False</td>\n",
       "      <td>False</td>\n",
       "    </tr>\n",
       "    <tr>\n",
       "      <th>20038</th>\n",
       "      <td>20039</td>\n",
       "      <td>161</td>\n",
       "      <td>810</td>\n",
       "      <td>216</td>\n",
       "      <td>COM8</td>\n",
       "      <td>2019-04-02 14:56:02.184216</td>\n",
       "      <td>1340</td>\n",
       "      <td>False</td>\n",
       "      <td>False</td>\n",
       "    </tr>\n",
       "    <tr>\n",
       "      <th>20039</th>\n",
       "      <td>10041</td>\n",
       "      <td>115</td>\n",
       "      <td>955</td>\n",
       "      <td>417</td>\n",
       "      <td>COM4</td>\n",
       "      <td>2019-04-02 14:56:02.185215</td>\n",
       "      <td>1340</td>\n",
       "      <td>False</td>\n",
       "      <td>False</td>\n",
       "    </tr>\n",
       "  </tbody>\n",
       "</table>\n",
       "</div>"
      ],
      "text/plain": [
       "       index_x  base  mid  top  port                  timestamp  index_y  \\\n",
       "20035    20037   161  810  216  COM8 2019-04-02 14:56:02.061286     1340   \n",
       "20036    20038   161  810  216  COM8 2019-04-02 14:56:02.132859     1340   \n",
       "20037    10040   115  955  417  COM4 2019-04-02 14:56:02.133246     1340   \n",
       "20038    20039   161  810  216  COM8 2019-04-02 14:56:02.184216     1340   \n",
       "20039    10041   115  955  417  COM4 2019-04-02 14:56:02.185215     1340   \n",
       "\n",
       "       beeInImage1  beeInImage2  \n",
       "20035        False        False  \n",
       "20036        False        False  \n",
       "20037        False        False  \n",
       "20038        False        False  \n",
       "20039        False        False  "
      ]
     },
     "execution_count": 205,
     "metadata": {},
     "output_type": "execute_result"
    }
   ],
   "source": [
    "MergedCameraNectar.tail()"
   ]
  },
  {
   "cell_type": "code",
   "execution_count": 206,
   "metadata": {},
   "outputs": [
    {
     "data": {
      "text/plain": [
       "<matplotlib.collections.LineCollection at 0x1b50600d240>"
      ]
     },
     "execution_count": 206,
     "metadata": {},
     "output_type": "execute_result"
    },
    {
     "data": {
      "image/png": "[encoded data removed]",
      "text/plain": [
       "<matplotlib.figure.Figure at 0x1b5060c3eb8>"
      ]
     },
     "metadata": {},
     "output_type": "display_data"
    }
   ],
   "source": [
    "MergedCameraNectar.loc[MergedCameraNectar.beeInImage1 == True, \"timestamp\"]\n",
    "plt.vlines(np.array(MergedCameraNectar.loc[MergedCameraNectar.beeInImage1 == True, \"timestamp\"]), \n",
    "           ymin = 0, ymax = 10)"
   ]
  },
  {
   "cell_type": "code",
   "execution_count": 231,
   "metadata": {},
   "outputs": [
    {
     "data": {
      "image/png": "[encoded data removed]",
      "text/plain": [
       "<matplotlib.figure.Figure at 0x1b506171b00>"
      ]
     },
     "metadata": {},
     "output_type": "display_data"
    },
    {
     "data": {
      "image/png": "[encoded data removed]",
      "text/plain": [
       "<matplotlib.figure.Figure at 0x1b5062d3550>"
      ]
     },
     "metadata": {},
     "output_type": "display_data"
    }
   ],
   "source": [
    "fig, ax = plt.subplots(figsize = [10,2])\n",
    "ax.plot(MergedCameraNectar.loc[MergedCameraNectar.port == \"COM4\", \"timestamp\"], \n",
    "        MergedCameraNectar.loc[MergedCameraNectar.port == \"COM4\", \"top\"], label = \"COM4_top\")\n",
    "ax.plot(MergedCameraNectar.loc[MergedCameraNectar.port == \"COM4\", \"timestamp\"], \n",
    "        MergedCameraNectar.loc[MergedCameraNectar.port == \"COM4\", \"mid\"], label = \"COM4_mid\")\n",
    "ax.vlines(np.array(MergedCameraNectar.loc[MergedCameraNectar.beeInImage1 == True, \"timestamp\"]), \n",
    "           ymin = 0, ymax = 100, label = \"bee in img 1\")\n",
    "plt.legend()\n",
    "import matplotlib.dates as mdates\n",
    "myFmt = mdates.DateFormatter('%H:%M:%S')\n",
    "ax.xaxis.set_major_formatter(myFmt)\n",
    "\n",
    "\n",
    "fig, ax = plt.subplots(figsize = [10,2])\n",
    "\n",
    "ax.plot(MergedCameraNectar.loc[MergedCameraNectar.port == \"COM8\", \"timestamp\"], \n",
    "        MergedCameraNectar.loc[MergedCameraNectar.port == \"COM8\", \"top\"],  label = \"COM8_top\")\n",
    "ax.plot(MergedCameraNectar.loc[MergedCameraNectar.port == \"COM8\", \"timestamp\"], \n",
    "        MergedCameraNectar.loc[MergedCameraNectar.port == \"COM8\", \"mid\"], label = \"COM8_mid\")\n",
    "ax.vlines(np.array(MergedCameraNectar.loc[MergedCameraNectar.beeInImage2 == True, \"timestamp\"]), \n",
    "           ymin = 0, ymax = 100, label = \"bee in img 2\")\n",
    "plt.legend()\n",
    "ax.xaxis.set_major_formatter(myFmt)\n",
    "plt.show()\n"
   ]
  },
  {
   "cell_type": "code",
   "execution_count": null,
   "metadata": {},
   "outputs": [],
   "source": []
  },
  {
   "cell_type": "code",
   "execution_count": null,
   "metadata": {},
   "outputs": [],
   "source": [
    "dataDir"
   ]
  },
  {
   "cell_type": "code",
   "execution_count": null,
   "metadata": {},
   "outputs": [],
   "source": [
    "tmpDat = np.empty(3, dtype = '<U26')"
   ]
  },
  {
   "cell_type": "code",
   "execution_count": null,
   "metadata": {},
   "outputs": [],
   "source": [
    "import datetime\n",
    "tmpDat[0] = str(datetime.datetime.now().strftime(\"%Y_%m_%d__%H_%M_%S_%f\")[:-3])"
   ]
  },
  {
   "cell_type": "code",
   "execution_count": null,
   "metadata": {},
   "outputs": [],
   "source": [
    "tmpDat"
   ]
  },
  {
   "cell_type": "code",
   "execution_count": null,
   "metadata": {},
   "outputs": [],
   "source": []
  },
  {
   "cell_type": "code",
   "execution_count": null,
   "metadata": {},
   "outputs": [],
   "source": []
  },
  {
   "cell_type": "code",
   "execution_count": null,
   "metadata": {},
   "outputs": [],
   "source": []
  },
  {
   "cell_type": "code",
   "execution_count": null,
   "metadata": {},
   "outputs": [],
   "source": []
  },
  {
   "cell_type": "code",
   "execution_count": null,
   "metadata": {},
   "outputs": [],
   "source": []
  },
  {
   "cell_type": "code",
   "execution_count": null,
   "metadata": {},
   "outputs": [],
   "source": []
  },
  {
   "cell_type": "code",
   "execution_count": null,
   "metadata": {},
   "outputs": [],
   "source": []
  },
  {
   "cell_type": "code",
   "execution_count": null,
   "metadata": {},
   "outputs": [],
   "source": []
  },
  {
   "cell_type": "markdown",
   "metadata": {},
   "source": [
    "# Try to save video as something besides AVI"
   ]
  },
  {
   "cell_type": "code",
   "execution_count": null,
   "metadata": {},
   "outputs": [],
   "source": [
    "\n",
    "import numpy as np\n",
    "import cv2\n",
    "import datetime\n",
    "import PyCapture2 as fc2\n",
    "import sys\n",
    "import time\n",
    "import os\n",
    "import re\n",
    "import skimage.io as io\n",
    "import csv\n",
    "from itertools import islice\n",
    "\n",
    "\n",
    "import beeDataAcq.cameraSetup as cs"
   ]
  },
  {
   "cell_type": "code",
   "execution_count": null,
   "metadata": {},
   "outputs": [],
   "source": [
    "def saveVidHelper(cam, cam2, fileFormat, fileName, fileName2, frameRate, maxImgs = 500):\n",
    "    \n",
    "    numImages = 0\n",
    "\n",
    "    avi = fc2.AVIRecorder()\n",
    "    avi2 = fc2.AVIRecorder()\n",
    "\n",
    "    for i in range(maxImgs):\n",
    "        \n",
    "        try:\n",
    "            image = cam.retrieveBuffer()\n",
    "            image2 = cam2.retrieveBuffer()\n",
    "            \n",
    "            \n",
    "        except fc2.Fc2error as fc2Err:\n",
    "            print(\"Error retrieving buffer : \", fc2Err)\n",
    "            continue\n",
    "\n",
    "        print(\"Grabbed image {}\".format(i))\n",
    "\n",
    "        if (i == 0):\n",
    "            if fileFormat == \"AVI\":\n",
    "                avi.AVIOpen(fileName, frameRate)\n",
    "                avi2.AVIOpen(fileName2, frameRate)\n",
    "            elif fileFormat == \"MJPG\":\n",
    "                avi.MJPGOpen(fileName, frameRate, 75)\n",
    "                avi2.MJPGOpen(fileName2, frameRate, 75)\n",
    "            elif fileFormat == \"H264\":\n",
    "                avi.H264Open(fileName, frameRate, image.getCols(), image.getRows(), 1000000)\n",
    "                avi2.H264Open(fileName2, frameRate, image2.getCols(), image2.getRows(), 1000000)\n",
    "            else:\n",
    "                print(\"Specified format is not available.\")\n",
    "                return\n",
    "            \n",
    "            # show still image\n",
    "            img = np.concatenate((cs.img2array(image), cs.img2array(image2)), axis = 1)\n",
    "\n",
    "            # Display the resulting frame\n",
    "            cv2.imshow('image', img)\n",
    "            \n",
    "\n",
    "        # break when \"q\" is pressed on keyboard\n",
    "        k = cv2.waitKey(1) & 0xFF\n",
    "\n",
    "        if (k  == ord('q')) or (k == 27):\n",
    "            for jj in range(10):\n",
    "                cv2.destroyAllWindows()\n",
    "            break\n",
    "\n",
    "        # refref add image timestamp\n",
    "        avi.append(image)\n",
    "        avi2.append(image2)\n",
    "        numImages += 1\n",
    "        print(\"Appended image {}...\".format(i))\n",
    "\n",
    "    # close windows if loop ends\n",
    "    for jj in range(10):\n",
    "        cv2.destroyAllWindows()\n",
    "        \n",
    "    print(\"Appended {} images to {} file: {}...\".format(numImages, fileFormat, fileName))\n",
    "    avi.close()\n",
    "    avi2.close()"
   ]
  },
  {
   "cell_type": "code",
   "execution_count": null,
   "metadata": {},
   "outputs": [],
   "source": [
    "bus = fc2.BusManager()\n",
    "numCams = bus.getNumOfCameras()\n",
    "\n",
    "\n",
    "c = fc2.Camera()\n",
    "c.connect(bus.getCameraFromIndex(0))\n",
    "d = fc2.Camera()\n",
    "d.connect(bus.getCameraFromIndex(1))\n",
    "\n",
    "# start capture\n",
    "cs.enableEmbeddedTimeStamp(c, True)\n",
    "c.startCapture()\n",
    "cs.enableEmbeddedTimeStamp(c, True)\n",
    "d.startCapture()"
   ]
  },
  {
   "cell_type": "code",
   "execution_count": null,
   "metadata": {},
   "outputs": [],
   "source": [
    "saveVidHelper(c,d, \"MJPG\",  br\"C:\\Users\\Combes4\\Desktop\\TempVids\\V1_M\", \n",
    "              br\"C:\\Users\\Combes4\\Desktop\\TempVids\\V2_MJPG\", \n",
    "              5, maxImgs = 10)"
   ]
  },
  {
   "cell_type": "code",
   "execution_count": null,
   "metadata": {},
   "outputs": [],
   "source": [
    "avi = fc2.AVIRecorder()\n",
    "image = c.retrieveBuffer()"
   ]
  },
  {
   "cell_type": "code",
   "execution_count": null,
   "metadata": {},
   "outputs": [],
   "source": [
    "# avi.H264Open(br\"C:\\Users\\Combes4\\Desktop\\TempVids\\V1_h264\", 5, image.getCols(), image.getRows(), 1000000)\n",
    "avi.MJPGOpen(br\"C:\\Users\\Combes4\\Desktop\\TempVids\\V1_MJPG\", 5, 75)"
   ]
  },
  {
   "cell_type": "code",
   "execution_count": null,
   "metadata": {},
   "outputs": [],
   "source": [
    "avi.append(image)"
   ]
  },
  {
   "cell_type": "code",
   "execution_count": null,
   "metadata": {},
   "outputs": [],
   "source": [
    "avi.close()"
   ]
  },
  {
   "cell_type": "code",
   "execution_count": null,
   "metadata": {},
   "outputs": [],
   "source": [
    "br\"C:\\Users\\Combes4\\Desktop\\TempVids\\V1\""
   ]
  },
  {
   "cell_type": "code",
   "execution_count": null,
   "metadata": {},
   "outputs": [],
   "source": []
  },
  {
   "cell_type": "code",
   "execution_count": null,
   "metadata": {},
   "outputs": [],
   "source": []
  },
  {
   "cell_type": "code",
   "execution_count": null,
   "metadata": {},
   "outputs": [],
   "source": []
  },
  {
   "cell_type": "code",
   "execution_count": null,
   "metadata": {},
   "outputs": [],
   "source": []
  },
  {
   "cell_type": "code",
   "execution_count": null,
   "metadata": {},
   "outputs": [],
   "source": []
  },
  {
   "cell_type": "code",
   "execution_count": null,
   "metadata": {},
   "outputs": [],
   "source": []
  },
  {
   "cell_type": "markdown",
   "metadata": {},
   "source": [
    "# video processing"
   ]
  },
  {
   "cell_type": "code",
   "execution_count": null,
   "metadata": {},
   "outputs": [],
   "source": []
  },
  {
   "cell_type": "code",
   "execution_count": null,
   "metadata": {},
   "outputs": [],
   "source": [
    "import numpy as np\n",
    "import cv2\n",
    "import datetime\n",
    "import PyCapture2 as fc2\n",
    "import sys\n",
    "import time\n",
    "import os\n",
    "import re\n",
    "import skimage.io as io\n",
    "%matplotlib inline\n",
    "import matplotlib.pyplot as plt\n",
    "\n",
    "import beeDataAcq.cameraSetup\n",
    "import beeDataAcq.saveVid"
   ]
  },
  {
   "cell_type": "code",
   "execution_count": null,
   "metadata": {},
   "outputs": [],
   "source": [
    "import importlib\n",
    "_ = importlib.reload(beeDataAcq.saveVid)\n",
    "_ = importlib.reload(beeDataAcq.cameraSetup)"
   ]
  },
  {
   "cell_type": "code",
   "execution_count": null,
   "metadata": {},
   "outputs": [],
   "source": [
    "calImg1, calImg2 = beeDataAcq.saveVid.getCalibrationImages()"
   ]
  },
  {
   "cell_type": "code",
   "execution_count": null,
   "metadata": {},
   "outputs": [],
   "source": [
    "bee"
   ]
  },
  {
   "cell_type": "code",
   "execution_count": null,
   "metadata": {},
   "outputs": [],
   "source": []
  },
  {
   "cell_type": "code",
   "execution_count": null,
   "metadata": {},
   "outputs": [],
   "source": []
  },
  {
   "cell_type": "code",
   "execution_count": null,
   "metadata": {},
   "outputs": [],
   "source": []
  },
  {
   "cell_type": "code",
   "execution_count": null,
   "metadata": {},
   "outputs": [],
   "source": []
  },
  {
   "cell_type": "code",
   "execution_count": null,
   "metadata": {},
   "outputs": [],
   "source": []
  },
  {
   "cell_type": "code",
   "execution_count": null,
   "metadata": {},
   "outputs": [],
   "source": []
  },
  {
   "cell_type": "code",
   "execution_count": null,
   "metadata": {},
   "outputs": [],
   "source": []
  },
  {
   "cell_type": "code",
   "execution_count": null,
   "metadata": {},
   "outputs": [],
   "source": []
  },
  {
   "cell_type": "code",
   "execution_count": null,
   "metadata": {},
   "outputs": [],
   "source": []
  },
  {
   "cell_type": "code",
   "execution_count": null,
   "metadata": {},
   "outputs": [],
   "source": [
    "calImg11, calImg22 = beeDataAcq.saveVid.getCalibrationImages()"
   ]
  },
  {
   "cell_type": "code",
   "execution_count": null,
   "metadata": {},
   "outputs": [],
   "source": [
    "calImg111, calImg222 = beeDataAcq.saveVid.getCalibrationImages()"
   ]
  },
  {
   "cell_type": "code",
   "execution_count": null,
   "metadata": {},
   "outputs": [],
   "source": [
    "calImg1"
   ]
  },
  {
   "cell_type": "code",
   "execution_count": null,
   "metadata": {},
   "outputs": [],
   "source": [
    "# # black is 0, white is 255\n",
    "# print(calImg1[0:3, 0:3])\n",
    "# print(calImg111[0:3, 0:3])"
   ]
  },
  {
   "cell_type": "code",
   "execution_count": null,
   "metadata": {},
   "outputs": [],
   "source": [
    "# # How much could it possibly change?\n",
    "# # how much darker can the image get? -- darker == lower numbers\n",
    "# possibleChange = calImg1[0:3, 0:3]\n",
    "# possibleChange"
   ]
  },
  {
   "cell_type": "code",
   "execution_count": null,
   "metadata": {},
   "outputs": [],
   "source": [
    "calImg1.dtype == \"int16\""
   ]
  },
  {
   "cell_type": "markdown",
   "metadata": {},
   "source": [
    "# Start analysis"
   ]
  },
  {
   "cell_type": "code",
   "execution_count": null,
   "metadata": {},
   "outputs": [],
   "source": []
  },
  {
   "cell_type": "code",
   "execution_count": null,
   "metadata": {},
   "outputs": [],
   "source": []
  },
  {
   "cell_type": "code",
   "execution_count": null,
   "metadata": {},
   "outputs": [],
   "source": []
  },
  {
   "cell_type": "code",
   "execution_count": null,
   "metadata": {},
   "outputs": [],
   "source": []
  },
  {
   "cell_type": "code",
   "execution_count": null,
   "metadata": {},
   "outputs": [],
   "source": []
  },
  {
   "cell_type": "code",
   "execution_count": null,
   "metadata": {},
   "outputs": [],
   "source": []
  },
  {
   "cell_type": "code",
   "execution_count": null,
   "metadata": {},
   "outputs": [],
   "source": []
  },
  {
   "cell_type": "code",
   "execution_count": null,
   "metadata": {},
   "outputs": [],
   "source": []
  },
  {
   "cell_type": "code",
   "execution_count": null,
   "metadata": {},
   "outputs": [],
   "source": []
  },
  {
   "cell_type": "code",
   "execution_count": null,
   "metadata": {},
   "outputs": [],
   "source": []
  },
  {
   "cell_type": "code",
   "execution_count": null,
   "metadata": {},
   "outputs": [],
   "source": []
  },
  {
   "cell_type": "code",
   "execution_count": null,
   "metadata": {},
   "outputs": [],
   "source": []
  },
  {
   "cell_type": "code",
   "execution_count": null,
   "metadata": {},
   "outputs": [],
   "source": []
  },
  {
   "cell_type": "code",
   "execution_count": null,
   "metadata": {},
   "outputs": [],
   "source": []
  },
  {
   "cell_type": "code",
   "execution_count": null,
   "metadata": {},
   "outputs": [],
   "source": []
  },
  {
   "cell_type": "code",
   "execution_count": null,
   "metadata": {},
   "outputs": [],
   "source": []
  },
  {
   "cell_type": "code",
   "execution_count": null,
   "metadata": {},
   "outputs": [],
   "source": []
  },
  {
   "cell_type": "code",
   "execution_count": null,
   "metadata": {},
   "outputs": [],
   "source": []
  },
  {
   "cell_type": "code",
   "execution_count": null,
   "metadata": {},
   "outputs": [],
   "source": []
  },
  {
   "cell_type": "code",
   "execution_count": null,
   "metadata": {},
   "outputs": [],
   "source": []
  },
  {
   "cell_type": "code",
   "execution_count": null,
   "metadata": {},
   "outputs": [],
   "source": []
  },
  {
   "cell_type": "code",
   "execution_count": null,
   "metadata": {},
   "outputs": [],
   "source": []
  },
  {
   "cell_type": "code",
   "execution_count": null,
   "metadata": {},
   "outputs": [],
   "source": []
  },
  {
   "cell_type": "code",
   "execution_count": null,
   "metadata": {},
   "outputs": [],
   "source": []
  },
  {
   "cell_type": "code",
   "execution_count": null,
   "metadata": {},
   "outputs": [],
   "source": []
  },
  {
   "cell_type": "code",
   "execution_count": null,
   "metadata": {},
   "outputs": [],
   "source": []
  },
  {
   "cell_type": "code",
   "execution_count": null,
   "metadata": {},
   "outputs": [],
   "source": []
  },
  {
   "cell_type": "code",
   "execution_count": null,
   "metadata": {},
   "outputs": [],
   "source": []
  },
  {
   "cell_type": "code",
   "execution_count": null,
   "metadata": {},
   "outputs": [],
   "source": [
    "def beeInImage(calImg, frame):\n",
    "    '''\n",
    "    Returns True if a bee is detected in the image\n",
    "    \n",
    "    Detects bees by size of dark blobs in the image\n",
    "    \n",
    "    Parameters\n",
    "    ----------\n",
    "    calImg : np.array(int16) -- note that it is NOT uint8, which is default\n",
    "        Calibration image (no bee visible)\n",
    "    frame : np.array(int16) \n",
    "        frame of current image to compare with calibration image\n",
    "\n",
    "    Returns\n",
    "    -------\n",
    "    bool\n",
    "        True if there is a bee in the frame\n",
    "   \n",
    "    '''\n",
    "    \n",
    "    # check dtype\n",
    "    if calImg.dtype != \"int16\":\n",
    "        calImg = calImg.astype('int16') \n",
    "    if frame.dtype != \"int16\":\n",
    "        frame = frame.astype('int16')\n",
    "    \n",
    "    # get image difference\n",
    "    im1Diff = (calImg - frame) \n",
    "    height,width = im1Diff.shape\n",
    "    \n",
    "    # crop image to a circle\n",
    "    mask_circ = np.zeros((height,width), np.uint8)\n",
    "    cv2.circle(mask_circ,(int(width/2),int(height/2)),int(np.min([width,height])/2),(255),thickness=-1)\n",
    "    imDiff_cropped = cv2.bitwise_and(im1Diff, im1Diff, mask=mask_circ)\n",
    "\n",
    "    # gaussian blur\n",
    "    blur = cv2.GaussianBlur(imDiff_cropped,(121,121),0)\n",
    "    \n",
    "    # get darker sections (positive threshold gives dark areas)\n",
    "    ret_dark,th3_dark = cv2.threshold(blur,70,255,cv2.THRESH_BINARY)\n",
    "    \n",
    "    # get areas\n",
    "    img, cnts, _ = cv2.findContours(th3_dark.astype('uint8'), cv2.RETR_LIST, cv2.CHAIN_APPROX_SIMPLE)\n",
    "    mask = np.ones(th3_dark.shape[:2], dtype=\"uint8\") * 0 # create a blank black mask\n",
    "\n",
    "    areas = np.array([cv2.contourArea(c, False) for c in cnts])\n",
    "\n",
    "    # if there is at least one area over XX, then it's a bee\n",
    "    return(any(areas > 1000))\n",
    "\n",
    "    "
   ]
  },
  {
   "cell_type": "code",
   "execution_count": null,
   "metadata": {},
   "outputs": [],
   "source": [
    "\n",
    "\n",
    "\n",
    "\n",
    "# refref: only look at circular part of image\n",
    "# negative means it got lighter, positive means it got darker\n",
    "im1Diff = (calImg1[::10,::10] - calImg11[::10,::10]) \n",
    "height,width = im1Diff.shape\n",
    "mask_circ = np.zeros((height,width), np.uint8)\n",
    "\n",
    "cv2.circle(mask_circ,(int(width/2),int(height/2)),int(np.min([width,height])/2),(255),thickness=-1)\n",
    "\n",
    "# io.imshow(mask_circ)\n",
    "imDiff_cropped = cv2.bitwise_and(im1Diff, im1Diff, mask=mask_circ)\n",
    "io.imshow(imDiff_cropped)\n"
   ]
  },
  {
   "cell_type": "code",
   "execution_count": null,
   "metadata": {},
   "outputs": [],
   "source": [
    "# # threshold image where it changed a lot (more than 20)\n",
    "# plt.matshow((np.abs(im1Diff)>10) * 1, vmin=0, vmax=1)\n",
    "# plt.colorbar()\n",
    "# plt.show()"
   ]
  },
  {
   "cell_type": "code",
   "execution_count": null,
   "metadata": {},
   "outputs": [],
   "source": [
    "# # convert to 8bit\n",
    "# #img8 = ((im1Diff + 256)/2).astype('uint8')\n",
    "# img8 = ((np.abs(im1Diff)>10) * 255).astype('uint8')\n",
    "# img8 = cv2.bitwise_not(img8)"
   ]
  },
  {
   "cell_type": "code",
   "execution_count": null,
   "metadata": {},
   "outputs": [],
   "source": [
    "# io.imshow(img8)"
   ]
  },
  {
   "cell_type": "code",
   "execution_count": null,
   "metadata": {},
   "outputs": [],
   "source": [
    "121/16"
   ]
  },
  {
   "cell_type": "code",
   "execution_count": null,
   "metadata": {},
   "outputs": [],
   "source": [
    "# Gaussian filtering\n",
    "# negative is lighter, positive is darker\n",
    "# REFREF: in function on other page, chage 121 to 11\n",
    "blur = cv2.GaussianBlur(imDiff_cropped,(5,5),0)\n",
    "plt.matshow(blur)\n",
    "plt.colorbar()"
   ]
  },
  {
   "cell_type": "code",
   "execution_count": null,
   "metadata": {},
   "outputs": [],
   "source": [
    "# negative means it got lighter (unless image is inverted)\n",
    "\n",
    "                #image, threshold, maxvalue, type of threshold\n",
    "                # return max val if image > threshValue\n",
    "# cv2.threshold(blur,   50,     255,    cv2.THRESH_BINARY)\n",
    "\n",
    "\n",
    "# I manually chose the threshold\n",
    "\n",
    "# get darker sections\n",
    "ret_dark,th3_dark = cv2.threshold(blur,70,255,cv2.THRESH_BINARY)\n",
    "\n",
    "\n",
    "\n",
    "# get lighter sections\n",
    "ret_light,th3_light = cv2.threshold(blur,-10,255,cv2.THRESH_BINARY_INV)\n",
    "# I manually chose a threshold of 10above\n",
    "plt.matshow(cv2.bitwise_not(th3_dark))\n",
    "plt.colorbar()\n",
    "plt.title(\"Darker areas\", y=-0.2)\n",
    "plt.show()\n",
    "plt.matshow(th3_light)\n",
    "plt.title(\"lighter areas\", y=-0.2)\n",
    "plt.colorbar()\n",
    "plt.show()"
   ]
  },
  {
   "cell_type": "code",
   "execution_count": null,
   "metadata": {},
   "outputs": [],
   "source": [
    "# show darker and lighter colors\n",
    "plt.matshow(th3_light + cv2.bitwise_not(th3_dark))\n",
    "plt.colorbar()\n",
    "plt.show()"
   ]
  },
  {
   "cell_type": "code",
   "execution_count": null,
   "metadata": {},
   "outputs": [],
   "source": [
    "# get areas\n",
    "img, cnts, _ = cv2.findContours(th3_dark.astype('uint8'), cv2.RETR_LIST, cv2.CHAIN_APPROX_SIMPLE)\n",
    "mask = np.ones(th3_dark.shape[:2], dtype=\"uint8\") * 0 # create a blank black mask\n",
    "\n",
    "areas = np.array([cv2.contourArea(c, False) for c in cnts])\n",
    "\n",
    "\n",
    "# calculate moments of binary image\n",
    "def getCenter(contour):\n",
    "    M = cv2.moments(contour)\n",
    "    # calculate x,y coordinate of center\n",
    "    cX = int(M[\"m10\"] / M[\"m00\"])\n",
    "    cY = int(M[\"m01\"] / M[\"m00\"])\n",
    "    return([cX, cY])\n",
    "\n",
    "centers = np.array([getCenter(c) for c in cnts])\n",
    "centers\n",
    "# if there is at least one area over XX, then it's a bee"
   ]
  },
  {
   "cell_type": "code",
   "execution_count": null,
   "metadata": {},
   "outputs": [],
   "source": [
    "np.argmax(areas)"
   ]
  },
  {
   "cell_type": "code",
   "execution_count": null,
   "metadata": {},
   "outputs": [],
   "source": [
    "# fill small holes, but only for dark area -- refref might not even need this\n",
    "kernel = cv2.getStructuringElement(cv2.MORPH_ELLIPSE, (4,4))\n",
    "erosion = cv2.erode(th3_dark,kernel,iterations = 3)\n",
    "dilation = cv2.dilate(erosion, kernel, iterations = 3)\n",
    "\n",
    "img, cnts, _ = cv2.findContours(dilation.copy().astype('uint8'), cv2.RETR_LIST, cv2.CHAIN_APPROX_SIMPLE)\n",
    "mask = np.ones(im1Diff.shape[:2], dtype=\"uint8\") * 0 # create a blank black mask\n",
    "\n",
    "areas = [cv2.contourArea(c, False) for c in cnts]\n",
    "\n",
    "# if there is at least one area over XX, then it's a bee\n",
    "\n",
    "areas"
   ]
  },
  {
   "cell_type": "code",
   "execution_count": null,
   "metadata": {},
   "outputs": [],
   "source": [
    "# find bad contours\n",
    "def is_contour_good(c, img):\n",
    "    # approximate the contour\n",
    "    area1 = cv2.contourArea(c, False) \n",
    "    print(area1)    \n",
    "    if area1 < 1000:\n",
    "        return(False)\n",
    "        print(\"Bad Contour\")\n",
    "    else:\n",
    "        return(True)"
   ]
  },
  {
   "cell_type": "code",
   "execution_count": null,
   "metadata": {},
   "outputs": [],
   "source": [
    "# loop over the contours\n",
    "for c in cnts:\n",
    "    # if the contour is good, draw it on the mask (draw white on a black background)\n",
    "    if is_contour_good(c, blur):\n",
    "        print(\"contour drawn\")\n",
    "        cv2.drawContours(mask, [c], -1, np.random.randint(100, 255), -1)\n",
    "\n",
    "        io.imshow(mask)\n",
    "        plt.show()\n"
   ]
  },
  {
   "cell_type": "code",
   "execution_count": null,
   "metadata": {},
   "outputs": [],
   "source": [
    "img, cts, _ = cv2.findContours(mask.copy(),  cv2.RETR_LIST, cv2.CHAIN_APPROX_SIMPLE)"
   ]
  },
  {
   "cell_type": "code",
   "execution_count": null,
   "metadata": {},
   "outputs": [],
   "source": [
    "len(cts)"
   ]
  },
  {
   "cell_type": "code",
   "execution_count": null,
   "metadata": {},
   "outputs": [],
   "source": []
  },
  {
   "cell_type": "code",
   "execution_count": null,
   "metadata": {},
   "outputs": [],
   "source": []
  },
  {
   "cell_type": "code",
   "execution_count": null,
   "metadata": {},
   "outputs": [],
   "source": [
    "io.imshow(im_with_keypoints)"
   ]
  },
  {
   "cell_type": "code",
   "execution_count": null,
   "metadata": {},
   "outputs": [],
   "source": [
    "cv2.imshow(\"Keypoints\", im_with_keypoints)\n",
    "cv2.waitKey(0)\n"
   ]
  },
  {
   "cell_type": "code",
   "execution_count": null,
   "metadata": {},
   "outputs": [],
   "source": [
    "cv2.destroyAllWindows()"
   ]
  },
  {
   "cell_type": "code",
   "execution_count": null,
   "metadata": {},
   "outputs": [],
   "source": [
    "# Set up the detector with default parameters.\n",
    "im=cv2.bitwise_not(im1Diff)\n",
    "\n",
    "params = cv2.SimpleBlobDetector_Params()\n",
    "detector = cv2.SimpleBlobDetector_create(params)\n",
    "\n",
    "\n",
    "# Detect blobs.\n",
    "keypoints = detector.detect(im)\n",
    "im=cv2.bitwise_not(im)"
   ]
  },
  {
   "cell_type": "code",
   "execution_count": null,
   "metadata": {},
   "outputs": [],
   "source": []
  },
  {
   "cell_type": "code",
   "execution_count": null,
   "metadata": {},
   "outputs": [],
   "source": []
  },
  {
   "cell_type": "code",
   "execution_count": null,
   "metadata": {},
   "outputs": [],
   "source": []
  },
  {
   "cell_type": "code",
   "execution_count": null,
   "metadata": {},
   "outputs": [],
   "source": [
    "percChange = np.divide(im1Diff, possibleChange)"
   ]
  },
  {
   "cell_type": "code",
   "execution_count": null,
   "metadata": {},
   "outputs": [],
   "source": [
    "percChange"
   ]
  },
  {
   "cell_type": "code",
   "execution_count": null,
   "metadata": {},
   "outputs": [],
   "source": [
    "np.max(percChange)"
   ]
  },
  {
   "cell_type": "code",
   "execution_count": null,
   "metadata": {},
   "outputs": [],
   "source": [
    "io.imshow(percChange)"
   ]
  },
  {
   "cell_type": "code",
   "execution_count": null,
   "metadata": {},
   "outputs": [],
   "source": [
    "plt.matshow(calImg1)\n",
    "plt.colorbar()\n",
    "plt.show()\n",
    "plt.matshow(calImg11)\n",
    "plt.colorbar()\n",
    "plt.show()"
   ]
  },
  {
   "cell_type": "code",
   "execution_count": null,
   "metadata": {},
   "outputs": [],
   "source": [
    "im1Diff = calImg1 - calImg11\n",
    "np.min(im1Diff)"
   ]
  },
  {
   "cell_type": "code",
   "execution_count": null,
   "metadata": {},
   "outputs": [],
   "source": [
    "im1Diff = np.subtract(calImg2, calImg22)"
   ]
  },
  {
   "cell_type": "code",
   "execution_count": null,
   "metadata": {},
   "outputs": [],
   "source": [
    "io.imshow(im1Diff)"
   ]
  },
  {
   "cell_type": "code",
   "execution_count": null,
   "metadata": {},
   "outputs": [],
   "source": [
    "io.imshow(np.abs(im1Diff))"
   ]
  },
  {
   "cell_type": "code",
   "execution_count": null,
   "metadata": {},
   "outputs": [],
   "source": [
    "# calculate change as portion of possible change"
   ]
  },
  {
   "cell_type": "code",
   "execution_count": null,
   "metadata": {},
   "outputs": [],
   "source": []
  },
  {
   "cell_type": "code",
   "execution_count": null,
   "metadata": {},
   "outputs": [],
   "source": [
    "plt.matshow(im1Diff)\n",
    "plt.colorbar()"
   ]
  },
  {
   "cell_type": "code",
   "execution_count": null,
   "metadata": {},
   "outputs": [],
   "source": [
    "np.min(im1Diff)"
   ]
  },
  {
   "cell_type": "code",
   "execution_count": null,
   "metadata": {},
   "outputs": [],
   "source": []
  },
  {
   "cell_type": "code",
   "execution_count": null,
   "metadata": {},
   "outputs": [],
   "source": []
  },
  {
   "cell_type": "code",
   "execution_count": null,
   "metadata": {},
   "outputs": [],
   "source": []
  },
  {
   "cell_type": "markdown",
   "metadata": {},
   "source": [
    "# Try to speed up im2array"
   ]
  },
  {
   "cell_type": "code",
   "execution_count": null,
   "metadata": {},
   "outputs": [],
   "source": [
    "import numpy as np\n",
    "import cv2\n",
    "import datetime\n",
    "import PyCapture2 as fc2\n",
    "import sys\n",
    "import time\n",
    "import os\n",
    "import re\n",
    "import skimage.io as io\n",
    "import msvcrt"
   ]
  },
  {
   "cell_type": "code",
   "execution_count": null,
   "metadata": {},
   "outputs": [],
   "source": [
    "bus = fc2.BusManager()\n",
    "numCams = bus.getNumOfCameras()\n",
    "print(\"Number of cameras detected: \", numCams)\n",
    "if not numCams:\n",
    "    #raise ValueError(\"Insufficient number of cameras. Exiting...\")\n",
    "    print(\"Insufficient number of cameras. Exiting...\")\n",
    "    exit()\n",
    "\n",
    "\n",
    "# print camera info\n",
    "c = fc2.Camera()\n",
    "c.connect(bus.getCameraFromIndex(0))\n",
    "\n",
    "\n",
    "d = fc2.Camera()\n",
    "d.connect(bus.getCameraFromIndex(1))\n",
    "\n",
    "\n",
    "# start capture\n",
    "\n",
    "c.startCapture()\n",
    "\n",
    "d.startCapture()"
   ]
  },
  {
   "cell_type": "code",
   "execution_count": null,
   "metadata": {},
   "outputs": [],
   "source": [
    "def img2array(image):\n",
    "    return(np.array(image.getData(), dtype=\"uint8\").reshape( (image.getRows(), image.getCols()) ))"
   ]
  },
  {
   "cell_type": "code",
   "execution_count": null,
   "metadata": {},
   "outputs": [],
   "source": []
  },
  {
   "cell_type": "code",
   "execution_count": null,
   "metadata": {},
   "outputs": [],
   "source": [
    "# start here"
   ]
  },
  {
   "cell_type": "code",
   "execution_count": null,
   "metadata": {},
   "outputs": [],
   "source": [
    "stt = time.time()\n",
    "im1 = c.retrieveBuffer()\n",
    "dat = im1.getData()\n",
    "print(time.time() - stt)\n"
   ]
  },
  {
   "cell_type": "code",
   "execution_count": null,
   "metadata": {},
   "outputs": [],
   "source": []
  },
  {
   "cell_type": "code",
   "execution_count": null,
   "metadata": {},
   "outputs": [],
   "source": [
    "# show image\n",
    "io.imshow(img2array(im1))"
   ]
  },
  {
   "cell_type": "code",
   "execution_count": null,
   "metadata": {},
   "outputs": [],
   "source": [
    "# dir(im1)"
   ]
  },
  {
   "cell_type": "code",
   "execution_count": null,
   "metadata": {},
   "outputs": [],
   "source": [
    "# downsample\n",
    "from itertools import islice\n",
    "\n",
    "def downsample_to_proportion(rows, proportion=1):\n",
    "    return(list(islice(rows, 0, len(rows), int(1/proportion))))\n"
   ]
  },
  {
   "cell_type": "code",
   "execution_count": null,
   "metadata": {},
   "outputs": [],
   "source": [
    "# reduce resolution by 4X to make it faster\n",
    "stt = time.time()\n",
    "proportion = 1/4\n",
    "downList = downsample_to_proportion(dat, proportion = proportion)\n",
    "lstLst =   [writeArr(ctr, proportion = proportion) for ctr in range(1024)]\n",
    "new_list = downsample_to_proportion(lstLst, proportion =proportion)\n",
    "smallImg = np.array(new_list)\n",
    "print(time.time() - stt)\n",
    "print(smallImg.shape)"
   ]
  },
  {
   "cell_type": "code",
   "execution_count": null,
   "metadata": {},
   "outputs": [],
   "source": [
    "def reduceSize(dat, originalShape = [1024, 1280], proportion = 1/4):\n",
    "    # reduce resolution by 4X to make it faster\n",
    "\n",
    "    def downsample_to_proportion(rows, proportion=1):\n",
    "        return(list(islice(rows, 0, len(rows), int(1/proportion))))\n",
    "\n",
    "    def writeArr(ctr, proportion = 0.25):\n",
    "        return(downList[int(ctr*originalShape[1]*proportion):\\\n",
    "                        int((ctr+1)*originalShape[1]*proportion)])\n",
    "    \n",
    "    downList = downsample_to_proportion(dat, proportion = proportion)\n",
    "    lstLst =   [writeArr(ctr, proportion = proportion)\\\n",
    "                for ctr in range(originalShape[0])]\n",
    "    new_list = downsample_to_proportion(lstLst, proportion =proportion)\n",
    "    smallImg = np.array(new_list)\n",
    "    return(smallImg)"
   ]
  },
  {
   "cell_type": "code",
   "execution_count": null,
   "metadata": {},
   "outputs": [],
   "source": [
    "im1 = c.retrieveBuffer()\n",
    "dat = im1.getData()\n",
    "smallImg = reduceSize(dat, (im1.getRows(), im1.getCols()), proportion = 1/5)\n",
    "plt.matshow(smallImg)"
   ]
  },
  {
   "cell_type": "code",
   "execution_count": null,
   "metadata": {},
   "outputs": [],
   "source": [
    "def img2array(image):\n",
    "    return(np.array(image.getData(), dtype=\"uint8\").reshape( (image.getRows(), image.getCols()) ))"
   ]
  },
  {
   "cell_type": "code",
   "execution_count": null,
   "metadata": {},
   "outputs": [],
   "source": []
  },
  {
   "cell_type": "code",
   "execution_count": null,
   "metadata": {},
   "outputs": [],
   "source": []
  },
  {
   "cell_type": "markdown",
   "metadata": {},
   "source": [
    "# REFREF: Do more tuning with bee detecting on smaller images"
   ]
  },
  {
   "cell_type": "code",
   "execution_count": null,
   "metadata": {},
   "outputs": [],
   "source": []
  },
  {
   "cell_type": "code",
   "execution_count": null,
   "metadata": {},
   "outputs": [],
   "source": []
  },
  {
   "cell_type": "code",
   "execution_count": null,
   "metadata": {},
   "outputs": [],
   "source": []
  },
  {
   "cell_type": "code",
   "execution_count": null,
   "metadata": {},
   "outputs": [],
   "source": []
  },
  {
   "cell_type": "code",
   "execution_count": null,
   "metadata": {},
   "outputs": [],
   "source": []
  },
  {
   "cell_type": "code",
   "execution_count": null,
   "metadata": {},
   "outputs": [],
   "source": []
  },
  {
   "cell_type": "code",
   "execution_count": null,
   "metadata": {},
   "outputs": [],
   "source": []
  },
  {
   "cell_type": "code",
   "execution_count": null,
   "metadata": {},
   "outputs": [],
   "source": []
  },
  {
   "cell_type": "code",
   "execution_count": null,
   "metadata": {},
   "outputs": [],
   "source": []
  },
  {
   "cell_type": "markdown",
   "metadata": {},
   "source": [
    "# Simultaneous data collection\n"
   ]
  },
  {
   "cell_type": "code",
   "execution_count": null,
   "metadata": {},
   "outputs": [],
   "source": [
    "\n",
    "## refref process images in real time (simple bee in / out at each timestep)\n",
    "\n",
    "import nectarUtils\n",
    "from nectarUtils import *\n",
    "import nectarUtils as nu\n",
    "\n",
    "import beeDataAcq\n",
    "from beeDataAcq import cameraSetup, saveVid\n",
    "\n",
    "import importlib\n",
    "\n",
    "from multiprocessing import Process, Pipe\n",
    "\n",
    "\n",
    "%matplotlib inline\n",
    "print(sys.version)\n",
    "print(sys.executable)\n",
    "\n",
    "# define directories\n",
    "baseDir = os.getcwd()\n",
    "\n",
    "# may want to make this directory somewhere else, if dropbox becomes a problem\n",
    "dataDir = r\"D:\\Dropbox\\AcademiaDropbox\\UW\\BeeDecisionProject\\NectarData\"\n",
    "if not os.path.isdir(dataDir):\n",
    "    os.mkdir(dataDir)\n",
    "\n",
    "figDir = r\"D:\\Dropbox\\AcademiaDropbox\\UW\\BeeDecisionProject\\NectarFigs\"\n",
    "if not os.path.isdir(figDir):\n",
    "    os.mkdir(figDir)"
   ]
  },
  {
   "cell_type": "code",
   "execution_count": null,
   "metadata": {},
   "outputs": [],
   "source": [
    "# get image calibration\n",
    "calImg1, calImg2 = beeDataAcq.saveVid.getCalibrationImages()"
   ]
  },
  {
   "cell_type": "code",
   "execution_count": null,
   "metadata": {},
   "outputs": [],
   "source": [
    "_ = importlib.reload(nectarUtils)\n",
    "_ = importlib.reload(beeDataAcq.saveVid)\n",
    "_ = importlib.reload(beeDataAcq.cameraSetup)"
   ]
  },
  {
   "cell_type": "code",
   "execution_count": null,
   "metadata": {},
   "outputs": [],
   "source": [
    "# start video (asynchronously) -- pthe process is stopped with parent_conn.send(\"stop\")\n",
    "parent_conn, child_conn = Pipe()\n",
    "p = Process(target=saveVid.main, args=(child_conn, calImg1, calImg2 ))\n",
    "p.start()\n",
    "\n"
   ]
  },
  {
   "cell_type": "code",
   "execution_count": null,
   "metadata": {},
   "outputs": [],
   "source": [
    "# this is not asynchronous -- you must press \"q\" in the command prompt twice to exit\n",
    "dat1, dat1_file, dat2, dat2_file= nu.multiReadAndSave(ser1, ser2, cal1, cal2,\n",
    "                                                       dataDir = dataDir, maxTime = 30)\n",
    "print(\"DONE\")"
   ]
  },
  {
   "cell_type": "code",
   "execution_count": null,
   "metadata": {},
   "outputs": [],
   "source": [
    "# stops video recording\n",
    "parent_conn.send(\"stop\")"
   ]
  },
  {
   "cell_type": "code",
   "execution_count": null,
   "metadata": {},
   "outputs": [],
   "source": [
    "arr = [0]"
   ]
  },
  {
   "cell_type": "code",
   "execution_count": null,
   "metadata": {},
   "outputs": [],
   "source": [
    "max(arr)"
   ]
  },
  {
   "cell_type": "code",
   "execution_count": null,
   "metadata": {},
   "outputs": [],
   "source": []
  },
  {
   "cell_type": "code",
   "execution_count": null,
   "metadata": {},
   "outputs": [],
   "source": []
  },
  {
   "cell_type": "code",
   "execution_count": null,
   "metadata": {},
   "outputs": [],
   "source": []
  },
  {
   "cell_type": "code",
   "execution_count": null,
   "metadata": {},
   "outputs": [],
   "source": [
    "if parent_conn.poll():\n",
    "    movieFileName = parent_conn.recv()\n",
    "else:\n",
    "    movieFileName = \"unknown\"\n",
    "print(movieFileName)\n",
    "\n",
    "# combine datasets\n",
    "dat_combined = dat1.append(pd.DataFrame( dat2), ignore_index=True)\n",
    "dat_combined[\"video_file\"] = np.nan\n",
    "dat_combined.loc[0,\"video_file\"] = movieFileName\n",
    "#dat_combined.loc[1, \"notes\"] = movieFileName + str(\"    MovieFile\")\n",
    "dat_combined.head()\n",
    "\n",
    "# save combined dataset\n",
    "dat_combined.to_csv(os.path.join(dataDir, np.sort([dat2_file, dat1_file])[0].replace(\".\", \"___cmbnd.\")), index = False)\n",
    "\n",
    "# remove individual datasets\n",
    "if os.path.isfile(os.path.join(dataDir, dat1_file)):\n",
    "    os.remove(os.path.join(dataDir, dat1_file))\n",
    "else: \n",
    "    print(\"File doesn't exist\")\n",
    "if os.path.isfile(os.path.join(dataDir, dat2_file)):\n",
    "    os.remove(os.path.join(dataDir, dat2_file)) \n",
    "else: \n",
    "    print(\"File doesn't exist\")\n",
    "\n"
   ]
  },
  {
   "cell_type": "code",
   "execution_count": null,
   "metadata": {},
   "outputs": [],
   "source": [
    "dataDir"
   ]
  },
  {
   "cell_type": "code",
   "execution_count": null,
   "metadata": {},
   "outputs": [],
   "source": [
    "### refref: save data for when bee is in or out of camera view\n",
    "## see saveVid file\n",
    "## may need a calibration"
   ]
  },
  {
   "cell_type": "code",
   "execution_count": null,
   "metadata": {},
   "outputs": [],
   "source": []
  },
  {
   "cell_type": "code",
   "execution_count": null,
   "metadata": {},
   "outputs": [],
   "source": []
  },
  {
   "cell_type": "code",
   "execution_count": null,
   "metadata": {},
   "outputs": [],
   "source": []
  },
  {
   "cell_type": "code",
   "execution_count": null,
   "metadata": {},
   "outputs": [],
   "source": []
  },
  {
   "cell_type": "code",
   "execution_count": null,
   "metadata": {},
   "outputs": [],
   "source": []
  },
  {
   "cell_type": "code",
   "execution_count": null,
   "metadata": {},
   "outputs": [],
   "source": []
  },
  {
   "cell_type": "code",
   "execution_count": null,
   "metadata": {},
   "outputs": [],
   "source": [
    "import subprocess"
   ]
  },
  {
   "cell_type": "code",
   "execution_count": null,
   "metadata": {},
   "outputs": [],
   "source": [
    "# refref here: \n",
    "# I want to start a subprocess to collect video data\n",
    "subprocess.check_call(r\"for i in 1 2 3 4 5; do sleep 0.1s; done\", shell=True)"
   ]
  },
  {
   "cell_type": "code",
   "execution_count": null,
   "metadata": {},
   "outputs": [],
   "source": []
  },
  {
   "cell_type": "code",
   "execution_count": null,
   "metadata": {},
   "outputs": [],
   "source": [
    "nu.plotTrial(dat1)\n",
    "nu.plotTrial(dat2)"
   ]
  },
  {
   "cell_type": "code",
   "execution_count": null,
   "metadata": {},
   "outputs": [],
   "source": [
    "plt.figure(figsize = [15,4])\n",
    "plt.plot(dat_combined.loc[dat_combined.port == \"COM8\"][\"timestamp\"],\n",
    "         dat_combined.loc[dat_combined.port == \"COM8\"][[\"top\", \"mid\", \"base\"]], '-', marker = \"o\")\n",
    "\n",
    "plt.show()\n",
    "plt.figure(figsize = [15,4])\n",
    "plt.plot(dat_combined.loc[dat_combined.port == \"COM4\"][\"timestamp\"],\n",
    "         dat_combined.loc[dat_combined.port == \"COM4\"][[\"top\", \"mid\", \"base\"]], '-', marker = \"o\")\n",
    "plt.show()\n",
    "#dat_combined.loc[dat_combined.port == \"COM4\"].plot(y = \"base\", x = \"timestamp\")"
   ]
  },
  {
   "cell_type": "code",
   "execution_count": null,
   "metadata": {},
   "outputs": [],
   "source": []
  },
  {
   "cell_type": "code",
   "execution_count": null,
   "metadata": {},
   "outputs": [],
   "source": [
    "_ = importlib.reload(nectarUtils)\n",
    "t = threading.Thread(target = nu.readAndSave, kwargs={\"serial_con\" : ser2, \"calibrationInfo\" : cal2 , \n",
    "                                                     \"dataDir\" : dataDir})\n",
    "t.start()"
   ]
  },
  {
   "cell_type": "code",
   "execution_count": null,
   "metadata": {},
   "outputs": [],
   "source": [
    "t"
   ]
  },
  {
   "cell_type": "code",
   "execution_count": null,
   "metadata": {},
   "outputs": [],
   "source": [
    "_ = importlib.reload(nectarUtils)\n",
    "nu.readAndSave(serial_con = ser2, calibrationInfo= cal2, dataDir = dataDir)"
   ]
  },
  {
   "cell_type": "code",
   "execution_count": null,
   "metadata": {},
   "outputs": [],
   "source": [
    "#cal2['topBaseline', 'midBaseline', 'baseBaseline', 'colNames', 'port', 'base_dec_bound', 'mid_dec_bound']"
   ]
  },
  {
   "cell_type": "code",
   "execution_count": null,
   "metadata": {},
   "outputs": [],
   "source": []
  },
  {
   "cell_type": "code",
   "execution_count": null,
   "metadata": {},
   "outputs": [],
   "source": []
  }
 ],
 "metadata": {
  "kernelspec": {
   "display_name": "NectarCamera",
   "language": "python",
   "name": "nectarcamera"
  },
  "language_info": {
   "codemirror_mode": {
    "name": "ipython",
    "version": 3
   },
   "file_extension": ".py",
   "mimetype": "text/x-python",
   "name": "python",
   "nbconvert_exporter": "python",
   "pygments_lexer": "ipython3",
   "version": "3.5.4"
  }
 },
 "nbformat": 4,
 "nbformat_minor": 2
}
