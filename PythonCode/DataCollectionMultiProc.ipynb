{
 "cells": [
  {
   "cell_type": "code",
   "execution_count": 1,
   "metadata": {},
   "outputs": [
    {
     "name": "stdout",
     "output_type": "stream",
     "text": [
      "3.6.6 | packaged by conda-forge | (default, Jul 26 2018, 11:48:23) [MSC v.1900 64 bit (AMD64)]\n",
      "C:\\Users\\Combes4\\Anaconda2\\envs\\NectarLearning\\python.exe\n"
     ]
    }
   ],
   "source": [
    "import nectarUtils\n",
    "from nectarUtils import *\n",
    "import nectarUtils as nu\n",
    "\n",
    "import importlib\n",
    "import threading\n",
    "import queue\n",
    "\n",
    "\n",
    "%matplotlib inline\n",
    "print(sys.version)\n",
    "print(sys.executable)\n",
    "\n",
    "# define directories\n",
    "baseDir = os.getcwd()\n",
    "\n",
    "# may want to make this directory somewhere else, if dropbox becomes a problem\n",
    "dataDir = r\"D:\\Dropbox\\AcademiaDropbox\\UW\\BeeDecisionProject\\NectarData\"\n",
    "if not os.path.isdir(dataDir):\n",
    "    os.mkdir(dataDir)\n",
    "\n",
    "figDir = r\"D:\\Dropbox\\AcademiaDropbox\\UW\\BeeDecisionProject\\NectarFigs\"\n",
    "if not os.path.isdir(figDir):\n",
    "    os.mkdir(figDir)"
   ]
  },
  {
   "cell_type": "code",
   "execution_count": 2,
   "metadata": {},
   "outputs": [
    {
     "data": {
      "text/plain": [
       "['COM4', 'COM8']"
      ]
     },
     "execution_count": 2,
     "metadata": {},
     "output_type": "execute_result"
    }
   ],
   "source": [
    "# list serial ports\n",
    "nu.serial_ports()"
   ]
  },
  {
   "cell_type": "code",
   "execution_count": 3,
   "metadata": {},
   "outputs": [
    {
     "name": "stdout",
     "output_type": "stream",
     "text": [
      "connected to arduino on COM4\n"
     ]
    },
    {
     "data": {
      "text/plain": [
       "' Setup complete\\r\\n'"
      ]
     },
     "execution_count": 3,
     "metadata": {},
     "output_type": "execute_result"
    }
   ],
   "source": [
    "# connect to com8\n",
    "PORT1 = \"COM4\"\n",
    "connected1 = False\n",
    "if \"ser1\" in globals():\n",
    "    ser1.close()\n",
    "ser1 = serial.Serial(PORT1,9600, timeout=1.0) # stop if no data comes in 1 second\n",
    "while not connected1:\n",
    "    serin1 = ser1.read()\n",
    "    connected1 = True\n",
    "    print(\"connected to arduino on \" + PORT1)\n",
    "str(ser1.readline().decode(\"UTF-8\"))    "
   ]
  },
  {
   "cell_type": "code",
   "execution_count": 4,
   "metadata": {},
   "outputs": [
    {
     "name": "stdout",
     "output_type": "stream",
     "text": [
      "connected to arduino on COM8\n"
     ]
    },
    {
     "data": {
      "text/plain": [
       "' Setup complete\\r\\n'"
      ]
     },
     "execution_count": 4,
     "metadata": {},
     "output_type": "execute_result"
    }
   ],
   "source": [
    "# connect to com8\n",
    "PORT2 = \"COM8\"\n",
    "connected2 = False\n",
    "if \"ser2\" in globals():\n",
    "    ser2.close()\n",
    "ser2 = serial.Serial(PORT2,9600, timeout=1.0) # stop if no data comes in 1 second\n",
    "while not connected2:\n",
    "    serin2 = ser2.read()\n",
    "    connected2 = True\n",
    "    print(\"connected to arduino on \" + PORT2)\n",
    "str(ser2.readline().decode(\"UTF-8\"))    "
   ]
  },
  {
   "cell_type": "code",
   "execution_count": 329,
   "metadata": {},
   "outputs": [
    {
     "data": {
      "text/plain": [
       "2"
      ]
     },
     "execution_count": 329,
     "metadata": {},
     "output_type": "execute_result"
    }
   ],
   "source": [
    "ser2.write(\"ff\".encode(\"utf-8\"))"
   ]
  },
  {
   "cell_type": "code",
   "execution_count": 489,
   "metadata": {},
   "outputs": [
    {
     "data": {
      "text/plain": [
       "2"
      ]
     },
     "execution_count": 489,
     "metadata": {},
     "output_type": "execute_result"
    }
   ],
   "source": [
    "ser1.write(\"ff\".encode(\"utf-8\"))"
   ]
  },
  {
   "cell_type": "code",
   "execution_count": 205,
   "metadata": {},
   "outputs": [],
   "source": [
    "def moveBack(ser):\n",
    "    ser.write(\"ff\".encode(\"utf-8\"))\n",
    "    #raise(\"ERROR\")\n",
    "    return(\"Hihi\" + ser.port)"
   ]
  },
  {
   "cell_type": "code",
   "execution_count": 206,
   "metadata": {},
   "outputs": [
    {
     "data": {
      "text/plain": [
       "'HihiCOM4'"
      ]
     },
     "execution_count": 206,
     "metadata": {},
     "output_type": "execute_result"
    }
   ],
   "source": [
    "moveBack(ser1)"
   ]
  },
  {
   "cell_type": "code",
   "execution_count": 1446,
   "metadata": {},
   "outputs": [
    {
     "data": {
      "text/plain": [
       "2"
      ]
     },
     "execution_count": 1446,
     "metadata": {},
     "output_type": "execute_result"
    }
   ],
   "source": [
    "ser2.write(\"ff\".encode(\"utf-8\"))\n",
    "ser1.write(\"ff\".encode(\"utf-8\"))"
   ]
  },
  {
   "cell_type": "code",
   "execution_count": 1447,
   "metadata": {},
   "outputs": [],
   "source": [
    "# calibrate both at the same time\n",
    "\n",
    "_ = importlib.reload(nectarUtils)\n",
    "\n",
    "def enthread(target, args):\n",
    "    q = queue.Queue()\n",
    "    def wrapper():\n",
    "        q.put(target(*args))\n",
    "    t = threading.Thread(target=wrapper)\n",
    "    t.start()\n",
    "    return(q)\n",
    "\n",
    "q1 = enthread(target = nu.calibrate, args=(ser1,))\n",
    "q2 = enthread(target = nu.calibrate, args=(ser2,))\n",
    "\n",
    "cal1 = q1.get(timeout=10)\n",
    "cal2 = q2.get(timeout=10)\n"
   ]
  },
  {
   "cell_type": "code",
   "execution_count": null,
   "metadata": {},
   "outputs": [],
   "source": []
  },
  {
   "cell_type": "code",
   "execution_count": 1448,
   "metadata": {},
   "outputs": [
    {
     "data": {
      "image/png": "[encoded data removed]",
      "text/plain": [
       "<Figure size 432x288 with 1 Axes>"
      ]
     },
     "metadata": {
      "needs_background": "light"
     },
     "output_type": "display_data"
    },
    {
     "data": {
      "image/png": "[encoded data removed]",
      "text/plain": [
       "<Figure size 432x288 with 1 Axes>"
      ]
     },
     "metadata": {
      "needs_background": "light"
     },
     "output_type": "display_data"
    }
   ],
   "source": [
    "_ = importlib.reload(nectarUtils)\n",
    "nu.plotCalibration(cal1)\n",
    "nu.plotCalibration(cal2)\n",
    "    \n"
   ]
  },
  {
   "cell_type": "code",
   "execution_count": 1329,
   "metadata": {},
   "outputs": [],
   "source": [
    "# cal2"
   ]
  },
  {
   "cell_type": "code",
   "execution_count": null,
   "metadata": {},
   "outputs": [],
   "source": []
  },
  {
   "cell_type": "markdown",
   "metadata": {},
   "source": [
    "# Simultaneous data collection\n"
   ]
  },
  {
   "cell_type": "code",
   "execution_count": 1475,
   "metadata": {},
   "outputs": [
    {
     "name": "stdout",
     "output_type": "stream",
     "text": [
      "4.0 seconds elapsed\n",
      "4.0 seconds elapsed\n",
      "ACTION\n",
      "ACTION\n"
     ]
    }
   ],
   "source": [
    "_ = importlib.reload(nectarUtils)\n",
    "\n",
    "def enthread(target, kwargs):\n",
    "    q = queue.Queue()\n",
    "    def wrapper():\n",
    "        q.put(target(**kwargs))\n",
    "    t = threading.Thread(target=wrapper)\n",
    "    t.start()\n",
    "    return(q)\n",
    "\n",
    "q1 = enthread(target = nu.readAndSave, \n",
    "              kwargs={ \"serial_con\" : ser1, \n",
    "                       \"calibrationInfo\" : cal1 , \n",
    "                       \"dataDir\" : dataDir, \n",
    "                       \"timeout\" : 100, \n",
    "                       \"maxTime\" : 15})\n",
    "q2 = enthread(target = nu.readAndSave, \n",
    "              kwargs={ \"serial_con\" : ser2, \n",
    "                       \"calibrationInfo\" : cal2 ,\n",
    "                       \"dataDir\" : dataDir, \n",
    "                       \"timeout\" : 100,\n",
    "                       \"maxTime\" : 15})\n",
    "\n",
    "dat1, dat1_file = q1.get(timeout=35)\n",
    "dat2, dat2_file = q2.get(timeout=35)"
   ]
  },
  {
   "cell_type": "code",
   "execution_count": 1492,
   "metadata": {},
   "outputs": [
    {
     "data": {
      "text/html": [
       "<div>\n",
       "<style scoped>\n",
       "    .dataframe tbody tr th:only-of-type {\n",
       "        vertical-align: middle;\n",
       "    }\n",
       "\n",
       "    .dataframe tbody tr th {\n",
       "        vertical-align: top;\n",
       "    }\n",
       "\n",
       "    .dataframe thead th {\n",
       "        text-align: right;\n",
       "    }\n",
       "</style>\n",
       "<table border=\"1\" class=\"dataframe\">\n",
       "  <thead>\n",
       "    <tr style=\"text-align: right;\">\n",
       "      <th></th>\n",
       "      <th>base</th>\n",
       "      <th>mid</th>\n",
       "      <th>top</th>\n",
       "      <th>limit_1</th>\n",
       "      <th>limit_2</th>\n",
       "      <th>timestamp</th>\n",
       "      <th>port</th>\n",
       "      <th>notes</th>\n",
       "    </tr>\n",
       "  </thead>\n",
       "  <tbody>\n",
       "    <tr>\n",
       "      <th>0</th>\n",
       "      <td>147</td>\n",
       "      <td>793</td>\n",
       "      <td>397</td>\n",
       "      <td>0</td>\n",
       "      <td>0</td>\n",
       "      <td>2019-03-15 15:12:38.708770</td>\n",
       "      <td>COM4</td>\n",
       "      <td>{'topBaseline': 416.875, 'midBaseline': 199.0,...</td>\n",
       "    </tr>\n",
       "    <tr>\n",
       "      <th>1</th>\n",
       "      <td>138</td>\n",
       "      <td>793</td>\n",
       "      <td>397</td>\n",
       "      <td>0</td>\n",
       "      <td>0</td>\n",
       "      <td>2019-03-15 15:12:38.757858</td>\n",
       "      <td>COM4</td>\n",
       "      <td>NaN</td>\n",
       "    </tr>\n",
       "    <tr>\n",
       "      <th>2</th>\n",
       "      <td>137</td>\n",
       "      <td>793</td>\n",
       "      <td>397</td>\n",
       "      <td>0</td>\n",
       "      <td>0</td>\n",
       "      <td>2019-03-15 15:12:38.802940</td>\n",
       "      <td>COM4</td>\n",
       "      <td>NaN</td>\n",
       "    </tr>\n",
       "    <tr>\n",
       "      <th>3</th>\n",
       "      <td>137</td>\n",
       "      <td>793</td>\n",
       "      <td>397</td>\n",
       "      <td>0</td>\n",
       "      <td>0</td>\n",
       "      <td>2019-03-15 15:12:38.847629</td>\n",
       "      <td>COM4</td>\n",
       "      <td>NaN</td>\n",
       "    </tr>\n",
       "    <tr>\n",
       "      <th>4</th>\n",
       "      <td>137</td>\n",
       "      <td>793</td>\n",
       "      <td>397</td>\n",
       "      <td>0</td>\n",
       "      <td>0</td>\n",
       "      <td>2019-03-15 15:12:38.893285</td>\n",
       "      <td>COM4</td>\n",
       "      <td>NaN</td>\n",
       "    </tr>\n",
       "  </tbody>\n",
       "</table>\n",
       "</div>"
      ],
      "text/plain": [
       "   base  mid  top  limit_1  limit_2                  timestamp  port  \\\n",
       "0   147  793  397        0        0 2019-03-15 15:12:38.708770  COM4   \n",
       "1   138  793  397        0        0 2019-03-15 15:12:38.757858  COM4   \n",
       "2   137  793  397        0        0 2019-03-15 15:12:38.802940  COM4   \n",
       "3   137  793  397        0        0 2019-03-15 15:12:38.847629  COM4   \n",
       "4   137  793  397        0        0 2019-03-15 15:12:38.893285  COM4   \n",
       "\n",
       "                                               notes  \n",
       "0  {'topBaseline': 416.875, 'midBaseline': 199.0,...  \n",
       "1                                                NaN  \n",
       "2                                                NaN  \n",
       "3                                                NaN  \n",
       "4                                                NaN  "
      ]
     },
     "execution_count": 1492,
     "metadata": {},
     "output_type": "execute_result"
    }
   ],
   "source": [
    "dat1.head()"
   ]
  },
  {
   "cell_type": "code",
   "execution_count": 1493,
   "metadata": {},
   "outputs": [
    {
     "data": {
      "text/html": [
       "<div>\n",
       "<style scoped>\n",
       "    .dataframe tbody tr th:only-of-type {\n",
       "        vertical-align: middle;\n",
       "    }\n",
       "\n",
       "    .dataframe tbody tr th {\n",
       "        vertical-align: top;\n",
       "    }\n",
       "\n",
       "    .dataframe thead th {\n",
       "        text-align: right;\n",
       "    }\n",
       "</style>\n",
       "<table border=\"1\" class=\"dataframe\">\n",
       "  <thead>\n",
       "    <tr style=\"text-align: right;\">\n",
       "      <th></th>\n",
       "      <th>base</th>\n",
       "      <th>mid</th>\n",
       "      <th>top</th>\n",
       "      <th>limit_1</th>\n",
       "      <th>limit_2</th>\n",
       "      <th>timestamp</th>\n",
       "      <th>port</th>\n",
       "      <th>notes</th>\n",
       "    </tr>\n",
       "  </thead>\n",
       "  <tbody>\n",
       "    <tr>\n",
       "      <th>450</th>\n",
       "      <td>476</td>\n",
       "      <td>649</td>\n",
       "      <td>149</td>\n",
       "      <td>0</td>\n",
       "      <td>0</td>\n",
       "      <td>2019-03-15 15:12:49.889000</td>\n",
       "      <td>COM8</td>\n",
       "      <td>NaN</td>\n",
       "    </tr>\n",
       "    <tr>\n",
       "      <th>451</th>\n",
       "      <td>476</td>\n",
       "      <td>649</td>\n",
       "      <td>149</td>\n",
       "      <td>0</td>\n",
       "      <td>0</td>\n",
       "      <td>2019-03-15 15:12:50.016735</td>\n",
       "      <td>COM8</td>\n",
       "      <td>NaN</td>\n",
       "    </tr>\n",
       "    <tr>\n",
       "      <th>452</th>\n",
       "      <td>484</td>\n",
       "      <td>649</td>\n",
       "      <td>148</td>\n",
       "      <td>0</td>\n",
       "      <td>0</td>\n",
       "      <td>2019-03-15 15:12:50.143670</td>\n",
       "      <td>COM8</td>\n",
       "      <td>NaN</td>\n",
       "    </tr>\n",
       "    <tr>\n",
       "      <th>453</th>\n",
       "      <td>671</td>\n",
       "      <td>649</td>\n",
       "      <td>149</td>\n",
       "      <td>0</td>\n",
       "      <td>0</td>\n",
       "      <td>2019-03-15 15:12:50.270590</td>\n",
       "      <td>COM8</td>\n",
       "      <td>NaN</td>\n",
       "    </tr>\n",
       "    <tr>\n",
       "      <th>454</th>\n",
       "      <td>174</td>\n",
       "      <td>653</td>\n",
       "      <td>149</td>\n",
       "      <td>0</td>\n",
       "      <td>0</td>\n",
       "      <td>2019-03-15 15:12:50.396888</td>\n",
       "      <td>COM8</td>\n",
       "      <td>NaN</td>\n",
       "    </tr>\n",
       "  </tbody>\n",
       "</table>\n",
       "</div>"
      ],
      "text/plain": [
       "     base  mid  top  limit_1  limit_2                  timestamp  port notes\n",
       "450   476  649  149        0        0 2019-03-15 15:12:49.889000  COM8   NaN\n",
       "451   476  649  149        0        0 2019-03-15 15:12:50.016735  COM8   NaN\n",
       "452   484  649  148        0        0 2019-03-15 15:12:50.143670  COM8   NaN\n",
       "453   671  649  149        0        0 2019-03-15 15:12:50.270590  COM8   NaN\n",
       "454   174  653  149        0        0 2019-03-15 15:12:50.396888  COM8   NaN"
      ]
     },
     "execution_count": 1493,
     "metadata": {},
     "output_type": "execute_result"
    }
   ],
   "source": [
    "# combine datasets\n",
    "dat_combined = dat1.append(pd.DataFrame( dat2), ignore_index=True, sort = False)\n",
    "dat_combined.tail()"
   ]
  },
  {
   "cell_type": "code",
   "execution_count": 1494,
   "metadata": {},
   "outputs": [],
   "source": [
    "# save combined dataset\n",
    "dat_combined.to_csv(os.path.join(dataDir, np.sort([dat2_file, dat1_file])[0].replace(\".\", \"___cmbnd.\")), index = False)"
   ]
  },
  {
   "cell_type": "code",
   "execution_count": 1512,
   "metadata": {},
   "outputs": [
    {
     "name": "stdout",
     "output_type": "stream",
     "text": [
      "Hi\n"
     ]
    }
   ],
   "source": [
    "%%bash \n",
    "for i in 1 2 3 4 5; do sleep 0.1s; done; echo \"Hi\"\n"
   ]
  },
  {
   "cell_type": "code",
   "execution_count": 1502,
   "metadata": {},
   "outputs": [],
   "source": [
    "import subprocess"
   ]
  },
  {
   "cell_type": "code",
   "execution_count": 1519,
   "metadata": {},
   "outputs": [
    {
     "data": {
      "text/plain": [
       "0"
      ]
     },
     "execution_count": 1519,
     "metadata": {},
     "output_type": "execute_result"
    }
   ],
   "source": [
    "# refref here: \n",
    "# I want to start a subprocess to collect video data\n",
    "subprocess.check_call(r\"for i in 1 2 3 4 5; do sleep 0.1s; done\", shell=True)"
   ]
  },
  {
   "cell_type": "code",
   "execution_count": null,
   "metadata": {},
   "outputs": [],
   "source": []
  },
  {
   "cell_type": "code",
   "execution_count": 1479,
   "metadata": {},
   "outputs": [
    {
     "data": {
      "image/png": "[encoded data removed]",
      "text/plain": [
       "<Figure size 1080x360 with 1 Axes>"
      ]
     },
     "metadata": {
      "needs_background": "light"
     },
     "output_type": "display_data"
    },
    {
     "data": {
      "image/png": "[encoded data removed]",
      "text/plain": [
       "<Figure size 1080x360 with 1 Axes>"
      ]
     },
     "metadata": {
      "needs_background": "light"
     },
     "output_type": "display_data"
    }
   ],
   "source": [
    "nu.plotTrial(dat1)\n",
    "nu.plotTrial(dat2)"
   ]
  },
  {
   "cell_type": "code",
   "execution_count": 1481,
   "metadata": {},
   "outputs": [
    {
     "data": {
      "image/png": "[encoded data removed]",
      "text/plain": [
       "<Figure size 1080x288 with 1 Axes>"
      ]
     },
     "metadata": {
      "needs_background": "light"
     },
     "output_type": "display_data"
    },
    {
     "data": {
      "image/png": "[encoded data removed]",
      "text/plain": [
       "<Figure size 1080x288 with 1 Axes>"
      ]
     },
     "metadata": {
      "needs_background": "light"
     },
     "output_type": "display_data"
    }
   ],
   "source": [
    "plt.figure(figsize = [15,4])\n",
    "plt.plot(dat_combined.loc[dat_combined.port == \"COM8\"][\"timestamp\"],\n",
    "         dat_combined.loc[dat_combined.port == \"COM8\"][[\"top\", \"mid\", \"base\"]], '-', marker = \"o\")\n",
    "\n",
    "plt.show()\n",
    "plt.figure(figsize = [15,4])\n",
    "plt.plot(dat_combined.loc[dat_combined.port == \"COM4\"][\"timestamp\"],\n",
    "         dat_combined.loc[dat_combined.port == \"COM4\"][[\"top\", \"mid\", \"base\"]], '-', marker = \"o\")\n",
    "plt.show()\n",
    "#dat_combined.loc[dat_combined.port == \"COM4\"].plot(y = \"base\", x = \"timestamp\")"
   ]
  },
  {
   "cell_type": "code",
   "execution_count": null,
   "metadata": {},
   "outputs": [],
   "source": []
  },
  {
   "cell_type": "code",
   "execution_count": 1331,
   "metadata": {},
   "outputs": [
    {
     "name": "stdout",
     "output_type": "stream",
     "text": [
      "4.0 seconds elapsed\n",
      "No action for 10 sec\n"
     ]
    }
   ],
   "source": [
    "_ = importlib.reload(nectarUtils)\n",
    "t = threading.Thread(target = nu.readAndSave, kwargs={\"serial_con\" : ser2, \"calibrationInfo\" : cal2 , \n",
    "                                                     \"dataDir\" : dataDir})\n",
    "t.start()"
   ]
  },
  {
   "cell_type": "code",
   "execution_count": 1332,
   "metadata": {},
   "outputs": [
    {
     "data": {
      "text/plain": [
       "<Thread(Thread-86, stopped 13700)>"
      ]
     },
     "execution_count": 1332,
     "metadata": {},
     "output_type": "execute_result"
    }
   ],
   "source": [
    "t"
   ]
  },
  {
   "cell_type": "code",
   "execution_count": 1304,
   "metadata": {},
   "outputs": [
    {
     "name": "stdout",
     "output_type": "stream",
     "text": [
      "4.0 seconds elapsed\n",
      "No action for 10 sec\n"
     ]
    },
    {
     "data": {
      "text/html": [
       "<div>\n",
       "<style scoped>\n",
       "    .dataframe tbody tr th:only-of-type {\n",
       "        vertical-align: middle;\n",
       "    }\n",
       "\n",
       "    .dataframe tbody tr th {\n",
       "        vertical-align: top;\n",
       "    }\n",
       "\n",
       "    .dataframe thead th {\n",
       "        text-align: right;\n",
       "    }\n",
       "</style>\n",
       "<table border=\"1\" class=\"dataframe\">\n",
       "  <thead>\n",
       "    <tr style=\"text-align: right;\">\n",
       "      <th></th>\n",
       "      <th>mid</th>\n",
       "      <th>top</th>\n",
       "      <th>base</th>\n",
       "      <th>limit_1</th>\n",
       "      <th>limit_2</th>\n",
       "      <th>timestamp</th>\n",
       "      <th>notes</th>\n",
       "    </tr>\n",
       "  </thead>\n",
       "  <tbody>\n",
       "    <tr>\n",
       "      <th>0</th>\n",
       "      <td>619</td>\n",
       "      <td>147</td>\n",
       "      <td>161</td>\n",
       "      <td>0</td>\n",
       "      <td>0</td>\n",
       "      <td>2019-03-15 13:30:08.353088</td>\n",
       "      <td>{'topBaseline': 144.55, 'midBaseline': 188.0, ...</td>\n",
       "    </tr>\n",
       "    <tr>\n",
       "      <th>1</th>\n",
       "      <td>619</td>\n",
       "      <td>147</td>\n",
       "      <td>161</td>\n",
       "      <td>0</td>\n",
       "      <td>0</td>\n",
       "      <td>2019-03-15 13:30:08.513127</td>\n",
       "      <td>NaN</td>\n",
       "    </tr>\n",
       "    <tr>\n",
       "      <th>2</th>\n",
       "      <td>619</td>\n",
       "      <td>147</td>\n",
       "      <td>163</td>\n",
       "      <td>0</td>\n",
       "      <td>0</td>\n",
       "      <td>2019-03-15 13:30:08.562098</td>\n",
       "      <td>NaN</td>\n",
       "    </tr>\n",
       "    <tr>\n",
       "      <th>3</th>\n",
       "      <td>619</td>\n",
       "      <td>147</td>\n",
       "      <td>160</td>\n",
       "      <td>0</td>\n",
       "      <td>0</td>\n",
       "      <td>2019-03-15 13:30:08.614879</td>\n",
       "      <td>NaN</td>\n",
       "    </tr>\n",
       "    <tr>\n",
       "      <th>4</th>\n",
       "      <td>619</td>\n",
       "      <td>147</td>\n",
       "      <td>161</td>\n",
       "      <td>0</td>\n",
       "      <td>0</td>\n",
       "      <td>2019-03-15 13:30:08.664774</td>\n",
       "      <td>NaN</td>\n",
       "    </tr>\n",
       "    <tr>\n",
       "      <th>5</th>\n",
       "      <td>619</td>\n",
       "      <td>147</td>\n",
       "      <td>160</td>\n",
       "      <td>0</td>\n",
       "      <td>0</td>\n",
       "      <td>2019-03-15 13:30:08.713742</td>\n",
       "      <td>NaN</td>\n",
       "    </tr>\n",
       "    <tr>\n",
       "      <th>6</th>\n",
       "      <td>619</td>\n",
       "      <td>147</td>\n",
       "      <td>161</td>\n",
       "      <td>0</td>\n",
       "      <td>0</td>\n",
       "      <td>2019-03-15 13:30:08.762605</td>\n",
       "      <td>NaN</td>\n",
       "    </tr>\n",
       "    <tr>\n",
       "      <th>7</th>\n",
       "      <td>619</td>\n",
       "      <td>147</td>\n",
       "      <td>161</td>\n",
       "      <td>0</td>\n",
       "      <td>0</td>\n",
       "      <td>2019-03-15 13:30:08.811577</td>\n",
       "      <td>NaN</td>\n",
       "    </tr>\n",
       "    <tr>\n",
       "      <th>8</th>\n",
       "      <td>619</td>\n",
       "      <td>147</td>\n",
       "      <td>160</td>\n",
       "      <td>0</td>\n",
       "      <td>0</td>\n",
       "      <td>2019-03-15 13:30:08.861046</td>\n",
       "      <td>NaN</td>\n",
       "    </tr>\n",
       "    <tr>\n",
       "      <th>9</th>\n",
       "      <td>619</td>\n",
       "      <td>147</td>\n",
       "      <td>160</td>\n",
       "      <td>0</td>\n",
       "      <td>0</td>\n",
       "      <td>2019-03-15 13:30:08.910017</td>\n",
       "      <td>NaN</td>\n",
       "    </tr>\n",
       "    <tr>\n",
       "      <th>10</th>\n",
       "      <td>619</td>\n",
       "      <td>147</td>\n",
       "      <td>160</td>\n",
       "      <td>0</td>\n",
       "      <td>0</td>\n",
       "      <td>2019-03-15 13:30:08.958988</td>\n",
       "      <td>NaN</td>\n",
       "    </tr>\n",
       "    <tr>\n",
       "      <th>11</th>\n",
       "      <td>619</td>\n",
       "      <td>147</td>\n",
       "      <td>161</td>\n",
       "      <td>0</td>\n",
       "      <td>0</td>\n",
       "      <td>2019-03-15 13:30:09.008959</td>\n",
       "      <td>NaN</td>\n",
       "    </tr>\n",
       "    <tr>\n",
       "      <th>12</th>\n",
       "      <td>619</td>\n",
       "      <td>147</td>\n",
       "      <td>160</td>\n",
       "      <td>0</td>\n",
       "      <td>0</td>\n",
       "      <td>2019-03-15 13:30:09.057931</td>\n",
       "      <td>NaN</td>\n",
       "    </tr>\n",
       "    <tr>\n",
       "      <th>13</th>\n",
       "      <td>619</td>\n",
       "      <td>147</td>\n",
       "      <td>160</td>\n",
       "      <td>0</td>\n",
       "      <td>0</td>\n",
       "      <td>2019-03-15 13:30:09.106902</td>\n",
       "      <td>NaN</td>\n",
       "    </tr>\n",
       "    <tr>\n",
       "      <th>14</th>\n",
       "      <td>619</td>\n",
       "      <td>147</td>\n",
       "      <td>160</td>\n",
       "      <td>0</td>\n",
       "      <td>0</td>\n",
       "      <td>2019-03-15 13:30:09.155877</td>\n",
       "      <td>NaN</td>\n",
       "    </tr>\n",
       "    <tr>\n",
       "      <th>15</th>\n",
       "      <td>619</td>\n",
       "      <td>147</td>\n",
       "      <td>160</td>\n",
       "      <td>0</td>\n",
       "      <td>0</td>\n",
       "      <td>2019-03-15 13:30:09.204847</td>\n",
       "      <td>NaN</td>\n",
       "    </tr>\n",
       "    <tr>\n",
       "      <th>16</th>\n",
       "      <td>619</td>\n",
       "      <td>147</td>\n",
       "      <td>160</td>\n",
       "      <td>0</td>\n",
       "      <td>0</td>\n",
       "      <td>2019-03-15 13:30:09.253818</td>\n",
       "      <td>NaN</td>\n",
       "    </tr>\n",
       "    <tr>\n",
       "      <th>17</th>\n",
       "      <td>619</td>\n",
       "      <td>147</td>\n",
       "      <td>160</td>\n",
       "      <td>0</td>\n",
       "      <td>0</td>\n",
       "      <td>2019-03-15 13:30:09.303790</td>\n",
       "      <td>NaN</td>\n",
       "    </tr>\n",
       "    <tr>\n",
       "      <th>18</th>\n",
       "      <td>619</td>\n",
       "      <td>147</td>\n",
       "      <td>160</td>\n",
       "      <td>0</td>\n",
       "      <td>0</td>\n",
       "      <td>2019-03-15 13:30:09.352762</td>\n",
       "      <td>NaN</td>\n",
       "    </tr>\n",
       "    <tr>\n",
       "      <th>19</th>\n",
       "      <td>619</td>\n",
       "      <td>147</td>\n",
       "      <td>160</td>\n",
       "      <td>0</td>\n",
       "      <td>0</td>\n",
       "      <td>2019-03-15 13:30:09.401734</td>\n",
       "      <td>NaN</td>\n",
       "    </tr>\n",
       "    <tr>\n",
       "      <th>20</th>\n",
       "      <td>618</td>\n",
       "      <td>147</td>\n",
       "      <td>160</td>\n",
       "      <td>0</td>\n",
       "      <td>0</td>\n",
       "      <td>2019-03-15 13:30:09.450706</td>\n",
       "      <td>NaN</td>\n",
       "    </tr>\n",
       "    <tr>\n",
       "      <th>21</th>\n",
       "      <td>619</td>\n",
       "      <td>147</td>\n",
       "      <td>160</td>\n",
       "      <td>0</td>\n",
       "      <td>0</td>\n",
       "      <td>2019-03-15 13:30:09.499678</td>\n",
       "      <td>NaN</td>\n",
       "    </tr>\n",
       "    <tr>\n",
       "      <th>22</th>\n",
       "      <td>619</td>\n",
       "      <td>147</td>\n",
       "      <td>160</td>\n",
       "      <td>0</td>\n",
       "      <td>0</td>\n",
       "      <td>2019-03-15 13:30:09.548650</td>\n",
       "      <td>NaN</td>\n",
       "    </tr>\n",
       "    <tr>\n",
       "      <th>23</th>\n",
       "      <td>618</td>\n",
       "      <td>147</td>\n",
       "      <td>160</td>\n",
       "      <td>0</td>\n",
       "      <td>0</td>\n",
       "      <td>2019-03-15 13:30:09.598621</td>\n",
       "      <td>NaN</td>\n",
       "    </tr>\n",
       "    <tr>\n",
       "      <th>24</th>\n",
       "      <td>619</td>\n",
       "      <td>147</td>\n",
       "      <td>160</td>\n",
       "      <td>0</td>\n",
       "      <td>0</td>\n",
       "      <td>2019-03-15 13:30:09.647594</td>\n",
       "      <td>NaN</td>\n",
       "    </tr>\n",
       "    <tr>\n",
       "      <th>25</th>\n",
       "      <td>619</td>\n",
       "      <td>147</td>\n",
       "      <td>160</td>\n",
       "      <td>0</td>\n",
       "      <td>0</td>\n",
       "      <td>2019-03-15 13:30:09.696565</td>\n",
       "      <td>NaN</td>\n",
       "    </tr>\n",
       "    <tr>\n",
       "      <th>26</th>\n",
       "      <td>618</td>\n",
       "      <td>147</td>\n",
       "      <td>160</td>\n",
       "      <td>0</td>\n",
       "      <td>0</td>\n",
       "      <td>2019-03-15 13:30:09.745537</td>\n",
       "      <td>NaN</td>\n",
       "    </tr>\n",
       "    <tr>\n",
       "      <th>27</th>\n",
       "      <td>618</td>\n",
       "      <td>147</td>\n",
       "      <td>160</td>\n",
       "      <td>0</td>\n",
       "      <td>0</td>\n",
       "      <td>2019-03-15 13:30:09.794510</td>\n",
       "      <td>NaN</td>\n",
       "    </tr>\n",
       "    <tr>\n",
       "      <th>28</th>\n",
       "      <td>618</td>\n",
       "      <td>147</td>\n",
       "      <td>160</td>\n",
       "      <td>0</td>\n",
       "      <td>0</td>\n",
       "      <td>2019-03-15 13:30:09.844480</td>\n",
       "      <td>NaN</td>\n",
       "    </tr>\n",
       "    <tr>\n",
       "      <th>29</th>\n",
       "      <td>619</td>\n",
       "      <td>147</td>\n",
       "      <td>160</td>\n",
       "      <td>0</td>\n",
       "      <td>0</td>\n",
       "      <td>2019-03-15 13:30:09.893453</td>\n",
       "      <td>NaN</td>\n",
       "    </tr>\n",
       "    <tr>\n",
       "      <th>...</th>\n",
       "      <td>...</td>\n",
       "      <td>...</td>\n",
       "      <td>...</td>\n",
       "      <td>...</td>\n",
       "      <td>...</td>\n",
       "      <td>...</td>\n",
       "      <td>...</td>\n",
       "    </tr>\n",
       "    <tr>\n",
       "      <th>86</th>\n",
       "      <td>619</td>\n",
       "      <td>147</td>\n",
       "      <td>159</td>\n",
       "      <td>0</td>\n",
       "      <td>0</td>\n",
       "      <td>2019-03-15 13:30:12.793086</td>\n",
       "      <td>NaN</td>\n",
       "    </tr>\n",
       "    <tr>\n",
       "      <th>87</th>\n",
       "      <td>619</td>\n",
       "      <td>147</td>\n",
       "      <td>159</td>\n",
       "      <td>0</td>\n",
       "      <td>0</td>\n",
       "      <td>2019-03-15 13:30:12.842058</td>\n",
       "      <td>NaN</td>\n",
       "    </tr>\n",
       "    <tr>\n",
       "      <th>88</th>\n",
       "      <td>618</td>\n",
       "      <td>147</td>\n",
       "      <td>159</td>\n",
       "      <td>0</td>\n",
       "      <td>0</td>\n",
       "      <td>2019-03-15 13:30:12.891031</td>\n",
       "      <td>NaN</td>\n",
       "    </tr>\n",
       "    <tr>\n",
       "      <th>89</th>\n",
       "      <td>619</td>\n",
       "      <td>147</td>\n",
       "      <td>159</td>\n",
       "      <td>0</td>\n",
       "      <td>0</td>\n",
       "      <td>2019-03-15 13:30:12.941000</td>\n",
       "      <td>NaN</td>\n",
       "    </tr>\n",
       "    <tr>\n",
       "      <th>90</th>\n",
       "      <td>619</td>\n",
       "      <td>147</td>\n",
       "      <td>159</td>\n",
       "      <td>0</td>\n",
       "      <td>0</td>\n",
       "      <td>2019-03-15 13:30:12.989972</td>\n",
       "      <td>NaN</td>\n",
       "    </tr>\n",
       "    <tr>\n",
       "      <th>91</th>\n",
       "      <td>619</td>\n",
       "      <td>147</td>\n",
       "      <td>159</td>\n",
       "      <td>0</td>\n",
       "      <td>0</td>\n",
       "      <td>2019-03-15 13:30:13.042942</td>\n",
       "      <td>NaN</td>\n",
       "    </tr>\n",
       "    <tr>\n",
       "      <th>92</th>\n",
       "      <td>619</td>\n",
       "      <td>147</td>\n",
       "      <td>159</td>\n",
       "      <td>0</td>\n",
       "      <td>0</td>\n",
       "      <td>2019-03-15 13:30:13.091915</td>\n",
       "      <td>NaN</td>\n",
       "    </tr>\n",
       "    <tr>\n",
       "      <th>93</th>\n",
       "      <td>619</td>\n",
       "      <td>147</td>\n",
       "      <td>159</td>\n",
       "      <td>0</td>\n",
       "      <td>0</td>\n",
       "      <td>2019-03-15 13:30:13.140887</td>\n",
       "      <td>NaN</td>\n",
       "    </tr>\n",
       "    <tr>\n",
       "      <th>94</th>\n",
       "      <td>619</td>\n",
       "      <td>147</td>\n",
       "      <td>159</td>\n",
       "      <td>0</td>\n",
       "      <td>0</td>\n",
       "      <td>2019-03-15 13:30:13.189859</td>\n",
       "      <td>NaN</td>\n",
       "    </tr>\n",
       "    <tr>\n",
       "      <th>95</th>\n",
       "      <td>619</td>\n",
       "      <td>147</td>\n",
       "      <td>159</td>\n",
       "      <td>0</td>\n",
       "      <td>0</td>\n",
       "      <td>2019-03-15 13:30:13.243827</td>\n",
       "      <td>NaN</td>\n",
       "    </tr>\n",
       "    <tr>\n",
       "      <th>96</th>\n",
       "      <td>619</td>\n",
       "      <td>147</td>\n",
       "      <td>159</td>\n",
       "      <td>0</td>\n",
       "      <td>0</td>\n",
       "      <td>2019-03-15 13:30:13.292799</td>\n",
       "      <td>NaN</td>\n",
       "    </tr>\n",
       "    <tr>\n",
       "      <th>97</th>\n",
       "      <td>618</td>\n",
       "      <td>147</td>\n",
       "      <td>159</td>\n",
       "      <td>0</td>\n",
       "      <td>0</td>\n",
       "      <td>2019-03-15 13:30:13.341771</td>\n",
       "      <td>NaN</td>\n",
       "    </tr>\n",
       "    <tr>\n",
       "      <th>98</th>\n",
       "      <td>618</td>\n",
       "      <td>147</td>\n",
       "      <td>159</td>\n",
       "      <td>0</td>\n",
       "      <td>0</td>\n",
       "      <td>2019-03-15 13:30:13.391001</td>\n",
       "      <td>NaN</td>\n",
       "    </tr>\n",
       "    <tr>\n",
       "      <th>99</th>\n",
       "      <td>618</td>\n",
       "      <td>147</td>\n",
       "      <td>159</td>\n",
       "      <td>0</td>\n",
       "      <td>0</td>\n",
       "      <td>2019-03-15 13:30:13.439972</td>\n",
       "      <td>NaN</td>\n",
       "    </tr>\n",
       "    <tr>\n",
       "      <th>100</th>\n",
       "      <td>619</td>\n",
       "      <td>147</td>\n",
       "      <td>159</td>\n",
       "      <td>0</td>\n",
       "      <td>0</td>\n",
       "      <td>2019-03-15 13:30:13.488944</td>\n",
       "      <td>NaN</td>\n",
       "    </tr>\n",
       "    <tr>\n",
       "      <th>101</th>\n",
       "      <td>619</td>\n",
       "      <td>147</td>\n",
       "      <td>159</td>\n",
       "      <td>0</td>\n",
       "      <td>0</td>\n",
       "      <td>2019-03-15 13:30:13.546911</td>\n",
       "      <td>NaN</td>\n",
       "    </tr>\n",
       "    <tr>\n",
       "      <th>102</th>\n",
       "      <td>619</td>\n",
       "      <td>147</td>\n",
       "      <td>159</td>\n",
       "      <td>0</td>\n",
       "      <td>0</td>\n",
       "      <td>2019-03-15 13:30:13.595883</td>\n",
       "      <td>NaN</td>\n",
       "    </tr>\n",
       "    <tr>\n",
       "      <th>103</th>\n",
       "      <td>619</td>\n",
       "      <td>147</td>\n",
       "      <td>159</td>\n",
       "      <td>0</td>\n",
       "      <td>0</td>\n",
       "      <td>2019-03-15 13:30:13.644855</td>\n",
       "      <td>NaN</td>\n",
       "    </tr>\n",
       "    <tr>\n",
       "      <th>104</th>\n",
       "      <td>619</td>\n",
       "      <td>147</td>\n",
       "      <td>159</td>\n",
       "      <td>0</td>\n",
       "      <td>0</td>\n",
       "      <td>2019-03-15 13:30:13.693827</td>\n",
       "      <td>NaN</td>\n",
       "    </tr>\n",
       "    <tr>\n",
       "      <th>105</th>\n",
       "      <td>619</td>\n",
       "      <td>147</td>\n",
       "      <td>159</td>\n",
       "      <td>0</td>\n",
       "      <td>0</td>\n",
       "      <td>2019-03-15 13:30:13.742799</td>\n",
       "      <td>NaN</td>\n",
       "    </tr>\n",
       "    <tr>\n",
       "      <th>106</th>\n",
       "      <td>619</td>\n",
       "      <td>147</td>\n",
       "      <td>159</td>\n",
       "      <td>0</td>\n",
       "      <td>0</td>\n",
       "      <td>2019-03-15 13:30:13.792773</td>\n",
       "      <td>NaN</td>\n",
       "    </tr>\n",
       "    <tr>\n",
       "      <th>107</th>\n",
       "      <td>619</td>\n",
       "      <td>147</td>\n",
       "      <td>159</td>\n",
       "      <td>0</td>\n",
       "      <td>0</td>\n",
       "      <td>2019-03-15 13:30:13.845741</td>\n",
       "      <td>NaN</td>\n",
       "    </tr>\n",
       "    <tr>\n",
       "      <th>108</th>\n",
       "      <td>618</td>\n",
       "      <td>147</td>\n",
       "      <td>159</td>\n",
       "      <td>0</td>\n",
       "      <td>0</td>\n",
       "      <td>2019-03-15 13:30:13.894712</td>\n",
       "      <td>NaN</td>\n",
       "    </tr>\n",
       "    <tr>\n",
       "      <th>109</th>\n",
       "      <td>619</td>\n",
       "      <td>147</td>\n",
       "      <td>159</td>\n",
       "      <td>0</td>\n",
       "      <td>0</td>\n",
       "      <td>2019-03-15 13:30:13.947681</td>\n",
       "      <td>NaN</td>\n",
       "    </tr>\n",
       "    <tr>\n",
       "      <th>110</th>\n",
       "      <td>619</td>\n",
       "      <td>147</td>\n",
       "      <td>159</td>\n",
       "      <td>0</td>\n",
       "      <td>0</td>\n",
       "      <td>2019-03-15 13:30:14.001651</td>\n",
       "      <td>NaN</td>\n",
       "    </tr>\n",
       "    <tr>\n",
       "      <th>111</th>\n",
       "      <td>619</td>\n",
       "      <td>147</td>\n",
       "      <td>159</td>\n",
       "      <td>0</td>\n",
       "      <td>0</td>\n",
       "      <td>2019-03-15 13:30:14.058619</td>\n",
       "      <td>NaN</td>\n",
       "    </tr>\n",
       "    <tr>\n",
       "      <th>112</th>\n",
       "      <td>618</td>\n",
       "      <td>147</td>\n",
       "      <td>159</td>\n",
       "      <td>0</td>\n",
       "      <td>0</td>\n",
       "      <td>2019-03-15 13:30:14.111588</td>\n",
       "      <td>NaN</td>\n",
       "    </tr>\n",
       "    <tr>\n",
       "      <th>113</th>\n",
       "      <td>619</td>\n",
       "      <td>147</td>\n",
       "      <td>159</td>\n",
       "      <td>0</td>\n",
       "      <td>0</td>\n",
       "      <td>2019-03-15 13:30:14.164557</td>\n",
       "      <td>NaN</td>\n",
       "    </tr>\n",
       "    <tr>\n",
       "      <th>114</th>\n",
       "      <td>618</td>\n",
       "      <td>147</td>\n",
       "      <td>159</td>\n",
       "      <td>0</td>\n",
       "      <td>0</td>\n",
       "      <td>2019-03-15 13:30:14.218526</td>\n",
       "      <td>NaN</td>\n",
       "    </tr>\n",
       "    <tr>\n",
       "      <th>115</th>\n",
       "      <td>619</td>\n",
       "      <td>147</td>\n",
       "      <td>159</td>\n",
       "      <td>0</td>\n",
       "      <td>0</td>\n",
       "      <td>2019-03-15 13:30:14.271497</td>\n",
       "      <td>NaN</td>\n",
       "    </tr>\n",
       "  </tbody>\n",
       "</table>\n",
       "<p>116 rows × 7 columns</p>\n",
       "</div>"
      ],
      "text/plain": [
       "     mid  top  base  limit_1  limit_2                   timestamp  \\\n",
       "0    619  147   161        0        0  2019-03-15 13:30:08.353088   \n",
       "1    619  147   161        0        0  2019-03-15 13:30:08.513127   \n",
       "2    619  147   163        0        0  2019-03-15 13:30:08.562098   \n",
       "3    619  147   160        0        0  2019-03-15 13:30:08.614879   \n",
       "4    619  147   161        0        0  2019-03-15 13:30:08.664774   \n",
       "5    619  147   160        0        0  2019-03-15 13:30:08.713742   \n",
       "6    619  147   161        0        0  2019-03-15 13:30:08.762605   \n",
       "7    619  147   161        0        0  2019-03-15 13:30:08.811577   \n",
       "8    619  147   160        0        0  2019-03-15 13:30:08.861046   \n",
       "9    619  147   160        0        0  2019-03-15 13:30:08.910017   \n",
       "10   619  147   160        0        0  2019-03-15 13:30:08.958988   \n",
       "11   619  147   161        0        0  2019-03-15 13:30:09.008959   \n",
       "12   619  147   160        0        0  2019-03-15 13:30:09.057931   \n",
       "13   619  147   160        0        0  2019-03-15 13:30:09.106902   \n",
       "14   619  147   160        0        0  2019-03-15 13:30:09.155877   \n",
       "15   619  147   160        0        0  2019-03-15 13:30:09.204847   \n",
       "16   619  147   160        0        0  2019-03-15 13:30:09.253818   \n",
       "17   619  147   160        0        0  2019-03-15 13:30:09.303790   \n",
       "18   619  147   160        0        0  2019-03-15 13:30:09.352762   \n",
       "19   619  147   160        0        0  2019-03-15 13:30:09.401734   \n",
       "20   618  147   160        0        0  2019-03-15 13:30:09.450706   \n",
       "21   619  147   160        0        0  2019-03-15 13:30:09.499678   \n",
       "22   619  147   160        0        0  2019-03-15 13:30:09.548650   \n",
       "23   618  147   160        0        0  2019-03-15 13:30:09.598621   \n",
       "24   619  147   160        0        0  2019-03-15 13:30:09.647594   \n",
       "25   619  147   160        0        0  2019-03-15 13:30:09.696565   \n",
       "26   618  147   160        0        0  2019-03-15 13:30:09.745537   \n",
       "27   618  147   160        0        0  2019-03-15 13:30:09.794510   \n",
       "28   618  147   160        0        0  2019-03-15 13:30:09.844480   \n",
       "29   619  147   160        0        0  2019-03-15 13:30:09.893453   \n",
       "..   ...  ...   ...      ...      ...                         ...   \n",
       "86   619  147   159        0        0  2019-03-15 13:30:12.793086   \n",
       "87   619  147   159        0        0  2019-03-15 13:30:12.842058   \n",
       "88   618  147   159        0        0  2019-03-15 13:30:12.891031   \n",
       "89   619  147   159        0        0  2019-03-15 13:30:12.941000   \n",
       "90   619  147   159        0        0  2019-03-15 13:30:12.989972   \n",
       "91   619  147   159        0        0  2019-03-15 13:30:13.042942   \n",
       "92   619  147   159        0        0  2019-03-15 13:30:13.091915   \n",
       "93   619  147   159        0        0  2019-03-15 13:30:13.140887   \n",
       "94   619  147   159        0        0  2019-03-15 13:30:13.189859   \n",
       "95   619  147   159        0        0  2019-03-15 13:30:13.243827   \n",
       "96   619  147   159        0        0  2019-03-15 13:30:13.292799   \n",
       "97   618  147   159        0        0  2019-03-15 13:30:13.341771   \n",
       "98   618  147   159        0        0  2019-03-15 13:30:13.391001   \n",
       "99   618  147   159        0        0  2019-03-15 13:30:13.439972   \n",
       "100  619  147   159        0        0  2019-03-15 13:30:13.488944   \n",
       "101  619  147   159        0        0  2019-03-15 13:30:13.546911   \n",
       "102  619  147   159        0        0  2019-03-15 13:30:13.595883   \n",
       "103  619  147   159        0        0  2019-03-15 13:30:13.644855   \n",
       "104  619  147   159        0        0  2019-03-15 13:30:13.693827   \n",
       "105  619  147   159        0        0  2019-03-15 13:30:13.742799   \n",
       "106  619  147   159        0        0  2019-03-15 13:30:13.792773   \n",
       "107  619  147   159        0        0  2019-03-15 13:30:13.845741   \n",
       "108  618  147   159        0        0  2019-03-15 13:30:13.894712   \n",
       "109  619  147   159        0        0  2019-03-15 13:30:13.947681   \n",
       "110  619  147   159        0        0  2019-03-15 13:30:14.001651   \n",
       "111  619  147   159        0        0  2019-03-15 13:30:14.058619   \n",
       "112  618  147   159        0        0  2019-03-15 13:30:14.111588   \n",
       "113  619  147   159        0        0  2019-03-15 13:30:14.164557   \n",
       "114  618  147   159        0        0  2019-03-15 13:30:14.218526   \n",
       "115  619  147   159        0        0  2019-03-15 13:30:14.271497   \n",
       "\n",
       "                                                 notes  \n",
       "0    {'topBaseline': 144.55, 'midBaseline': 188.0, ...  \n",
       "1                                                  NaN  \n",
       "2                                                  NaN  \n",
       "3                                                  NaN  \n",
       "4                                                  NaN  \n",
       "5                                                  NaN  \n",
       "6                                                  NaN  \n",
       "7                                                  NaN  \n",
       "8                                                  NaN  \n",
       "9                                                  NaN  \n",
       "10                                                 NaN  \n",
       "11                                                 NaN  \n",
       "12                                                 NaN  \n",
       "13                                                 NaN  \n",
       "14                                                 NaN  \n",
       "15                                                 NaN  \n",
       "16                                                 NaN  \n",
       "17                                                 NaN  \n",
       "18                                                 NaN  \n",
       "19                                                 NaN  \n",
       "20                                                 NaN  \n",
       "21                                                 NaN  \n",
       "22                                                 NaN  \n",
       "23                                                 NaN  \n",
       "24                                                 NaN  \n",
       "25                                                 NaN  \n",
       "26                                                 NaN  \n",
       "27                                                 NaN  \n",
       "28                                                 NaN  \n",
       "29                                                 NaN  \n",
       "..                                                 ...  \n",
       "86                                                 NaN  \n",
       "87                                                 NaN  \n",
       "88                                                 NaN  \n",
       "89                                                 NaN  \n",
       "90                                                 NaN  \n",
       "91                                                 NaN  \n",
       "92                                                 NaN  \n",
       "93                                                 NaN  \n",
       "94                                                 NaN  \n",
       "95                                                 NaN  \n",
       "96                                                 NaN  \n",
       "97                                                 NaN  \n",
       "98                                                 NaN  \n",
       "99                                                 NaN  \n",
       "100                                                NaN  \n",
       "101                                                NaN  \n",
       "102                                                NaN  \n",
       "103                                                NaN  \n",
       "104                                                NaN  \n",
       "105                                                NaN  \n",
       "106                                                NaN  \n",
       "107                                                NaN  \n",
       "108                                                NaN  \n",
       "109                                                NaN  \n",
       "110                                                NaN  \n",
       "111                                                NaN  \n",
       "112                                                NaN  \n",
       "113                                                NaN  \n",
       "114                                                NaN  \n",
       "115                                                NaN  \n",
       "\n",
       "[116 rows x 7 columns]"
      ]
     },
     "execution_count": 1304,
     "metadata": {},
     "output_type": "execute_result"
    }
   ],
   "source": [
    "_ = importlib.reload(nectarUtils)\n",
    "nu.readAndSave(serial_con = ser2, calibrationInfo= cal2, dataDir = dataDir)"
   ]
  },
  {
   "cell_type": "code",
   "execution_count": 1313,
   "metadata": {},
   "outputs": [
    {
     "ename": "KeyError",
     "evalue": "('topBaseline', 'midBaseline', 'baseBaseline', 'colNames', 'port', 'base_dec_bound', 'mid_dec_bound')",
     "output_type": "error",
     "traceback": [
      "\u001b[1;31m---------------------------------------------------------------------------\u001b[0m",
      "\u001b[1;31mKeyError\u001b[0m                                  Traceback (most recent call last)",
      "\u001b[1;32m<ipython-input-1313-a76445b35f9e>\u001b[0m in \u001b[0;36m<module>\u001b[1;34m\u001b[0m\n\u001b[1;32m----> 1\u001b[1;33m \u001b[0mcal2\u001b[0m\u001b[1;33m[\u001b[0m\u001b[1;34m'topBaseline'\u001b[0m\u001b[1;33m,\u001b[0m \u001b[1;34m'midBaseline'\u001b[0m\u001b[1;33m,\u001b[0m \u001b[1;34m'baseBaseline'\u001b[0m\u001b[1;33m,\u001b[0m \u001b[1;34m'colNames'\u001b[0m\u001b[1;33m,\u001b[0m \u001b[1;34m'port'\u001b[0m\u001b[1;33m,\u001b[0m \u001b[1;34m'base_dec_bound'\u001b[0m\u001b[1;33m,\u001b[0m \u001b[1;34m'mid_dec_bound'\u001b[0m\u001b[1;33m]\u001b[0m\u001b[1;33m\u001b[0m\u001b[0m\n\u001b[0m",
      "\u001b[1;31mKeyError\u001b[0m: ('topBaseline', 'midBaseline', 'baseBaseline', 'colNames', 'port', 'base_dec_bound', 'mid_dec_bound')"
     ]
    }
   ],
   "source": [
    "#cal2['topBaseline', 'midBaseline', 'baseBaseline', 'colNames', 'port', 'base_dec_bound', 'mid_dec_bound']"
   ]
  },
  {
   "cell_type": "code",
   "execution_count": 1315,
   "metadata": {},
   "outputs": [
    {
     "data": {
      "text/plain": [
       "{'topBaseline': 144.55,\n",
       " 'midBaseline': 188.0,\n",
       " 'baseBaseline': 160.0,\n",
       " 'colNames': array(['mid', 'top', 'base', 'limit', 'limit'], dtype=object),\n",
       " 'port': 'COM8',\n",
       " 'base_dec_bound': 312,\n",
       " 'mid_dec_bound': 382}"
      ]
     },
     "execution_count": 1315,
     "metadata": {},
     "output_type": "execute_result"
    }
   ],
   "source": []
  },
  {
   "cell_type": "code",
   "execution_count": null,
   "metadata": {},
   "outputs": [],
   "source": []
  }
 ],
 "metadata": {
  "kernelspec": {
   "display_name": "NectarLearning",
   "language": "python",
   "name": "nectarlearning"
  },
  "language_info": {
   "codemirror_mode": {
    "name": "ipython",
    "version": 3
   },
   "file_extension": ".py",
   "mimetype": "text/x-python",
   "name": "python",
   "nbconvert_exporter": "python",
   "pygments_lexer": "ipython3",
   "version": "3.6.6"
  }
 },
 "nbformat": 4,
 "nbformat_minor": 2
}
