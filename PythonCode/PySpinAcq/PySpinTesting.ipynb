{
 "cells": [
  {
   "cell_type": "code",
   "execution_count": null,
   "metadata": {},
   "outputs": [],
   "source": [
    "import numpy as np\n",
    "import cv2\n",
    "import datetime\n",
    "# import PyCapture2 as fc2\n",
    "import PySpin\n",
    "import sys\n",
    "import time\n",
    "import os\n",
    "import re\n",
    "import skimage.io as io\n",
    "import msvcrt\n",
    "\n",
    "import numpy as np\n",
    "import matplotlib.pyplot as plt\n",
    "import pandas as pd\n",
    "import serial\n",
    "import re\n",
    "import csv\n",
    "#import seaborn as sns\n",
    "import warnings\n",
    "\n",
    "import glob\n",
    "import msvcrt\n",
    "import winsound\n",
    "import sklearn\n",
    "import time\n",
    "\n",
    "import time\n",
    "import os\n",
    "\n",
    "import shutil\n",
    "import sys\n",
    "from datetime import datetime\n",
    "\n",
    "import threading\n",
    "import queue\n",
    "\n",
    "\n",
    "\n",
    "# packages for calibration\n",
    "from sklearn.cluster import KMeans\n",
    "import peakutils\n",
    "\n",
    "import importlib\n",
    "\n",
    "import pySpinCamSetup\n",
    "import pySpinCamSetup as camS"
   ]
  },
  {
   "cell_type": "code",
   "execution_count": null,
   "metadata": {},
   "outputs": [],
   "source": [
    "_ = importlib.reload(pySpinCamSetup)"
   ]
  },
  {
   "cell_type": "code",
   "execution_count": null,
   "metadata": {},
   "outputs": [],
   "source": [
    "camS.comConnect()"
   ]
  },
  {
   "cell_type": "code",
   "execution_count": null,
   "metadata": {},
   "outputs": [],
   "source": [
    "# check number of cameras\n",
    "system = PySpin.System.GetInstance()\n",
    "\n",
    "# Retrieve list of cameras from the system\n",
    "cam_list = system.GetCameras()\n",
    "numCams = cam_list.GetSize()\n",
    "\n",
    "\n",
    "print(\"Number of cameras detected: \", numCams)\n",
    "\n",
    "if not numCams:\n",
    "    #raise ValueError(\"Insufficient number of cameras. Exiting...\")\n",
    "    print(\"Insufficient number of cameras. Exiting...\")\n",
    "    exit()\n"
   ]
  },
  {
   "cell_type": "code",
   "execution_count": null,
   "metadata": {},
   "outputs": [],
   "source": []
  },
  {
   "cell_type": "code",
   "execution_count": null,
   "metadata": {},
   "outputs": [],
   "source": [
    "system = PySpin.System.GetInstance()\n",
    "\n",
    "# Retrieve list of cameras from the system\n",
    "cam_list = system.GetCameras()\n",
    "num_cameras = cam_list.GetSize()\n",
    "\n",
    "print('Number of cameras detected: %d' % num_cameras)"
   ]
  },
  {
   "cell_type": "code",
   "execution_count": null,
   "metadata": {},
   "outputs": [],
   "source": [
    "for i, cam in enumerate(cam_list):\n",
    "\n",
    "    # Retrieve TL device nodemap\n",
    "    nodemap_tldevice = cam.GetTLDeviceNodeMap()\n",
    "\n",
    "for i, cam in enumerate(cam_list):\n",
    "\n",
    "    # Initialize camera\n",
    "    cam.Init()\n"
   ]
  },
  {
   "cell_type": "code",
   "execution_count": null,
   "metadata": {},
   "outputs": [],
   "source": [
    "for i, cam in enumerate(cam_list):\n",
    "    node_acquisition_mode = PySpin.CEnumerationPtr(cam.GetNodeMap().GetNode('AcquisitionMode'))"
   ]
  },
  {
   "cell_type": "code",
   "execution_count": null,
   "metadata": {},
   "outputs": [],
   "source": [
    "def acquire_images(cam_list):\n",
    "    \"\"\"\n",
    "    This function acquires and saves 10 images from each device.\n",
    "\n",
    "    :param cam_list: List of cameras\n",
    "    :type cam_list: CameraList\n",
    "    :return: True if successful, False otherwise.\n",
    "    :rtype: bool\n",
    "    \"\"\"\n",
    "\n",
    "    print('*** IMAGE ACQUISITION ***\\n')\n",
    "\n",
    "    result = True\n",
    "\n",
    "    # Prepare each camera to acquire images\n",
    "    #\n",
    "    # *** NOTES ***\n",
    "    # For pseudo-simultaneous streaming, each camera is prepared as if it\n",
    "    # were just one, but in a loop. Notice that cameras are selected with\n",
    "    # an index. We demonstrate pseduo-simultaneous streaming because true\n",
    "    # simultaneous streaming would require multiple process or threads,\n",
    "    # which is too complex for an example. \n",
    "    #\n",
    "    # Serial numbers are the only persistent objects we gather in this\n",
    "    # example, which is why a vector is created.\n",
    "    for i, cam in enumerate(cam_list):\n",
    "\n",
    "        # Set acquisition mode to continuous\n",
    "        node_acquisition_mode = PySpin.CEnumerationPtr(cam.GetNodeMap().GetNode('AcquisitionMode'))\n",
    "        if not PySpin.IsAvailable(node_acquisition_mode) or not PySpin.IsWritable(node_acquisition_mode):\n",
    "            print('Unable to set acquisition mode to continuous (node retrieval; camera %d). Aborting... \\n' % i)\n",
    "            return False\n",
    "\n",
    "        node_acquisition_mode_continuous = node_acquisition_mode.GetEntryByName('Continuous')\n",
    "        if not PySpin.IsAvailable(node_acquisition_mode_continuous) or not PySpin.IsReadable(\n",
    "                node_acquisition_mode_continuous):\n",
    "            print('Unable to set acquisition mode to continuous (entry \\'continuous\\' retrieval %d). \\\n",
    "            Aborting... \\n' % i)\n",
    "            return False\n",
    "\n",
    "        acquisition_mode_continuous = node_acquisition_mode_continuous.GetValue()\n",
    "\n",
    "        node_acquisition_mode.SetIntValue(acquisition_mode_continuous)\n",
    "\n",
    "        print('Camera %d acquisition mode set to continuous...' % i)\n",
    "\n",
    "        # Begin acquiring images\n",
    "        cam.BeginAcquisition()\n",
    "\n",
    "        print('Camera %d started acquiring images...' % i)\n",
    "\n",
    "        # Retrieve device serial number for filename0\n",
    "        node_device_serial_number = PySpin.CStringPtr(cam.GetTLDeviceNodeMap().GetNode('DeviceSerialNumber'))\n",
    "\n",
    "        if PySpin.IsAvailable(node_device_serial_number) and PySpin.IsReadable(node_device_serial_number):\n",
    "            device_serial_number = node_device_serial_number.GetValue()\n",
    "            print('Camera %d serial number set to %s...' % (i, device_serial_number))\n",
    "\n",
    "        print()\n",
    "\n",
    "    # Retrieve, convert, and save images for each camera\n",
    "    #\n",
    "    # *** NOTES ***\n",
    "    # In order to work with simultaneous camera streams, nested loops are\n",
    "    # needed. It is important that the inner loop be the one iterating\n",
    "    # through the cameras; otherwise, all images will be grabbed from a\n",
    "    # single camera before grabbing any images from another.\n",
    "    n = 1\n",
    "    for i, cam in enumerate(cam_list):\n",
    "        try:\n",
    "            # Retrieve next received image and ensure image completion\n",
    "            image_result = cam.GetNextImage()\n",
    "\n",
    "            if image_result.IsIncomplete():\n",
    "                print('Image incomplete with image status %d ... \\n' % image_result.GetImageStatus())\n",
    "            else:\n",
    "                # Print image information\n",
    "                width = image_result.GetWidth()\n",
    "                height = image_result.GetHeight()\n",
    "                print('Camera %d grabbed image, width = %d, height = %d' % (i, width, height))\n",
    "\n",
    "                # Convert image to mono 8\n",
    "                image_converted = image_result.Convert(PySpin.PixelFormat_Mono8, PySpin.HQ_LINEAR)\n",
    "\n",
    "                # Create a unique filename\n",
    "                if device_serial_number:\n",
    "                    filename = 'AcquisitionMultipleCamera-%s-%d-%i.jpg' % (device_serial_number, n, i)\n",
    "                else:\n",
    "                    filename = 'AcquisitionMultipleCamera-%d-%d-%i.jpg' % (i, n)\n",
    "\n",
    "                # Save image\n",
    "                image_converted.Save(filename)\n",
    "                print('Image saved at %s' % filename)\n",
    "\n",
    "            # Release image\n",
    "            image_result.Release()\n",
    "            print()\n",
    "\n",
    "        except PySpin.SpinnakerException as ex:\n",
    "            print('Error: %s' % ex)\n",
    "            result = False\n",
    "\n",
    "    # End acquisition for each camera\n",
    "    #\n",
    "    # *** NOTES ***\n",
    "    # Notice that what is usually a one-step process is now two steps\n",
    "    # because of the additional step of selecting the camera. It is worth\n",
    "    # repeating that camera selection needs to be done once per loop.\n",
    "    #\n",
    "    # It is possible to interact with cameras through the camera list with\n",
    "    # GetByIndex(); this is an alternative to retrieving cameras as\n",
    "    # CameraPtr objects that can be quick and easy for small tasks.\n",
    "    for cam in cam_list:\n",
    "\n",
    "        # End acquisition\n",
    "        cam.EndAcquisition()\n",
    "\n",
    "\n",
    "    return result\n"
   ]
  },
  {
   "cell_type": "code",
   "execution_count": null,
   "metadata": {},
   "outputs": [],
   "source": [
    "for cam in cam_list:\n",
    "\n",
    "    # End acquisition\n",
    "    cam.EndAcquisition()"
   ]
  },
  {
   "cell_type": "code",
   "execution_count": null,
   "metadata": {},
   "outputs": [],
   "source": [
    "acquire_images(cam_list)\n",
    "    "
   ]
  },
  {
   "cell_type": "code",
   "execution_count": null,
   "metadata": {},
   "outputs": [],
   "source": [
    "for i, cam in enumerate(cam_list):\n",
    "\n",
    "            image_result = cam.GetNextImage()"
   ]
  },
  {
   "cell_type": "code",
   "execution_count": null,
   "metadata": {},
   "outputs": [],
   "source": [
    "for i, cam in enumerate(cam_list):\n",
    "    print(i)\n",
    "    print(cam)"
   ]
  },
  {
   "cell_type": "code",
   "execution_count": null,
   "metadata": {},
   "outputs": [],
   "source": []
  },
  {
   "cell_type": "code",
   "execution_count": null,
   "metadata": {},
   "outputs": [],
   "source": []
  },
  {
   "cell_type": "code",
   "execution_count": null,
   "metadata": {},
   "outputs": [],
   "source": []
  },
  {
   "cell_type": "code",
   "execution_count": null,
   "metadata": {},
   "outputs": [],
   "source": []
  },
  {
   "cell_type": "code",
   "execution_count": null,
   "metadata": {},
   "outputs": [],
   "source": []
  },
  {
   "cell_type": "code",
   "execution_count": null,
   "metadata": {},
   "outputs": [],
   "source": []
  },
  {
   "cell_type": "code",
   "execution_count": null,
   "metadata": {},
   "outputs": [],
   "source": []
  },
  {
   "cell_type": "code",
   "execution_count": null,
   "metadata": {},
   "outputs": [],
   "source": []
  },
  {
   "cell_type": "code",
   "execution_count": null,
   "metadata": {},
   "outputs": [],
   "source": []
  },
  {
   "cell_type": "code",
   "execution_count": null,
   "metadata": {},
   "outputs": [],
   "source": []
  },
  {
   "cell_type": "code",
   "execution_count": null,
   "metadata": {},
   "outputs": [],
   "source": [
    "import AcquisitionMultipleCamera"
   ]
  },
  {
   "cell_type": "code",
   "execution_count": null,
   "metadata": {},
   "outputs": [],
   "source": [
    "import importlib\n",
    "\n",
    "_ = importlib.reload(AcquisitionMultipleCamera)"
   ]
  },
  {
   "cell_type": "code",
   "execution_count": null,
   "metadata": {},
   "outputs": [],
   "source": [
    "AcquisitionMultipleCamera.main()"
   ]
  },
  {
   "cell_type": "code",
   "execution_count": null,
   "metadata": {},
   "outputs": [],
   "source": [
    "# Retrieve singleton reference to system object\n",
    "system = PySpin.System.GetInstance()\n",
    "\n",
    "# Get current library version\n",
    "version = system.GetLibraryVersion()\n",
    "print('Library version: %d.%d.%d.%d' % (version.major, version.minor, version.type, version.build))\n",
    "\n",
    "# Retrieve list of cameras from the system\n",
    "cam_list = system.GetCameras()\n",
    "\n",
    "num_cameras = cam_list.GetSize()\n",
    "\n",
    "print('Number of cameras detected: %d' % num_cameras)"
   ]
  },
  {
   "cell_type": "code",
   "execution_count": null,
   "metadata": {},
   "outputs": [],
   "source": [
    "node_acquisition_mode = PySpin.CEnumerationPtr(cam.GetNodeMap().GetNode('AcquisitionMode'))"
   ]
  },
  {
   "cell_type": "code",
   "execution_count": null,
   "metadata": {},
   "outputs": [],
   "source": [
    "# Get system\n",
    "system = PySpin.System.GetInstance()\n",
    "\n",
    "# Get camera list\n",
    "cam_list = system.GetCameras()\n",
    "\n",
    "# Figure out which is primary and secondary (usually webcam is primary and Flea3 is secondary)\n",
    "cam = cam_list.GetByIndex(0)\n",
    "\n",
    "# Initialize camera\n",
    "cam.Init()"
   ]
  },
  {
   "cell_type": "code",
   "execution_count": null,
   "metadata": {},
   "outputs": [],
   "source": [
    "# Retrieve TL device nodemap and print device information\n",
    "nodemap_tldevice = cam.GetTLDeviceNodeMap()\n",
    "\n",
    "\n",
    "# Retrieve GenICam nodemap\n",
    "nodemap = cam.GetNodeMap()"
   ]
  },
  {
   "cell_type": "code",
   "execution_count": null,
   "metadata": {},
   "outputs": [],
   "source": [
    "del cam\n",
    "\n",
    "# Clear camera list before releasing system\n",
    "cam_list.Clear()\n",
    "\n",
    "# Release system instance\n",
    "system.ReleaseInstance()\n"
   ]
  },
  {
   "cell_type": "code",
   "execution_count": null,
   "metadata": {},
   "outputs": [],
   "source": [
    "def print_device_info(nodemap):\n",
    "    \"\"\"\n",
    "    This function prints the device information of the camera from the transport\n",
    "    layer; please see NodeMapInfo example for more in-depth comments on printing\n",
    "    device information from the nodemap.\n",
    "\n",
    "    :param nodemap: Transport layer device nodemap from camera.\n",
    "    :type nodemap: INodeMap\n",
    "    :return: True if successful, False otherwise.\n",
    "    :rtype: bool\n",
    "    \"\"\"\n",
    "    try:\n",
    "        result = True\n",
    "        print('\\n*** DEVICE INFORMATION ***\\n')\n",
    "\n",
    "        # Retrieve and display Device Information\n",
    "        node_device_information = PySpin.CCategoryPtr(nodemap.GetNode('DeviceInformation'))\n",
    "        if PySpin.IsAvailable(node_device_information) and PySpin.IsReadable(node_device_information):\n",
    "            features = node_device_information.GetFeatures()\n",
    "            for feature in features:\n",
    "                node_feature = PySpin.CValuePtr(feature)\n",
    "                print('%s: %s' % (node_feature.GetName(),\n",
    "                                  node_feature.ToString() if PySpin.IsReadable(node_feature) else 'Node not readable'))\n",
    "\n",
    "        else:\n",
    "            print('Device control information not available.')\n",
    "\n",
    "    except PySpin.SpinnakerException as ex:\n",
    "        print('Error: %s' % ex)\n",
    "        result = False\n",
    "\n",
    "    return result\n"
   ]
  },
  {
   "cell_type": "code",
   "execution_count": null,
   "metadata": {},
   "outputs": [],
   "source": [
    "print_device_info(nodemap)"
   ]
  },
  {
   "cell_type": "code",
   "execution_count": null,
   "metadata": {},
   "outputs": [],
   "source": [
    " # Get system\n",
    "system = PySpin.System.GetInstance()\n",
    "\n",
    "# Get camera list\n",
    "cam_list = system.GetCameras()\n",
    "\n",
    "# Figure out which is primary and secondary (usually webcam is primary and Flea3 is secondary)\n",
    "cam = cam_list.GetByIndex(0)\n",
    "\n",
    "# Initialize camera\n",
    "cam.Init()"
   ]
  },
  {
   "cell_type": "code",
   "execution_count": null,
   "metadata": {},
   "outputs": [],
   "source": [
    "trigger_mode = PySpin.CEnumerationPtr(nodemap.GetNode('TriggerMode'))"
   ]
  },
  {
   "cell_type": "code",
   "execution_count": null,
   "metadata": {},
   "outputs": [],
   "source": [
    "trigger_mode.GetDescription()"
   ]
  },
  {
   "cell_type": "code",
   "execution_count": null,
   "metadata": {},
   "outputs": [],
   "source": [
    "# Start acquisition\n",
    "cam.BeginAcquisition()\n",
    "\n",
    "\n",
    "# Acquire images\n",
    "image_primary = cam.GetNextImage()\n",
    "width = image_primary.GetWidth()\n",
    "height = image_primary.GetHeight()\n",
    "print(\"width: \" + str(width) + \", height: \" + str(height))\n",
    "\n",
    "# Pixel array\n",
    "image_array = image_primary.GetData()"
   ]
  },
  {
   "cell_type": "code",
   "execution_count": null,
   "metadata": {},
   "outputs": [],
   "source": [
    "image_primary = cam.GetNextImage()\n",
    "img = image_primary.GetNDArray()"
   ]
  },
  {
   "cell_type": "code",
   "execution_count": null,
   "metadata": {},
   "outputs": [],
   "source": [
    "img"
   ]
  },
  {
   "cell_type": "code",
   "execution_count": null,
   "metadata": {},
   "outputs": [],
   "source": [
    "io.imshow(img)"
   ]
  },
  {
   "cell_type": "code",
   "execution_count": null,
   "metadata": {},
   "outputs": [],
   "source": [
    "cv2.imshow('image',img)\n",
    "cv2.waitKey(0)\n",
    "cv2.destroyAllWindows()"
   ]
  },
  {
   "cell_type": "code",
   "execution_count": null,
   "metadata": {},
   "outputs": [],
   "source": [
    "# Stop acquisition\n",
    "cam.EndAcquisition()\n",
    "\n",
    "# De-initialize\n",
    "cam.DeInit()\n",
    "\n",
    "# Clear references to images and cameras\n",
    "del image_primary\n",
    "del cam\n",
    "del cam_list"
   ]
  },
  {
   "cell_type": "code",
   "execution_count": null,
   "metadata": {},
   "outputs": [],
   "source": []
  }
 ],
 "metadata": {
  "kernelspec": {
   "display_name": "pyspintest",
   "language": "python",
   "name": "pyspintest"
  },
  "language_info": {
   "codemirror_mode": {
    "name": "ipython",
    "version": 3
   },
   "file_extension": ".py",
   "mimetype": "text/x-python",
   "name": "python",
   "nbconvert_exporter": "python",
   "pygments_lexer": "ipython3",
   "version": "3.5.6"
  }
 },
 "nbformat": 4,
 "nbformat_minor": 2
}
