{
 "cells": [
  {
   "cell_type": "code",
   "execution_count": 169,
   "metadata": {
    "collapsed": false
   },
   "outputs": [
    {
     "name": "stdout",
     "output_type": "stream",
     "text": [
      "3.7.2 (default, Feb 11 2019, 14:11:50) [MSC v.1915 64 bit (AMD64)]\n",
      "C:\\Users\\Combes4\\Anaconda2\\envs\\NectarLearning\\python.exe\n"
     ]
    }
   ],
   "source": [
    "import numpy as np\n",
    "import matplotlib.pyplot as plt\n",
    "%matplotlib inline\n",
    "import pandas as pd\n",
    "import serial\n",
    "import re\n",
    "import csv\n",
    "\n",
    "import glob\n",
    "import msvcrt\n",
    "import winsound\n",
    "import sklearn\n",
    "import time\n",
    "\n",
    "import time\n",
    "import os\n",
    "import shutil\n",
    "import sys\n",
    "from datetime import datetime\n",
    "print(sys.version)\n",
    "print(sys.executable)"
   ]
  },
  {
   "cell_type": "code",
   "execution_count": 3,
   "metadata": {},
   "outputs": [
    {
     "name": "stdout",
     "output_type": "stream",
     "text": [
      "C:\\Users\\Combes4\\Documents\\GitRepos\\NectarLearning\\PythonCode\n"
     ]
    }
   ],
   "source": [
    "# define directories\n",
    "baseDir = os.getcwd()\n",
    "\n",
    "# may want to make this directory somewhere else, if dropbox becomes a problem\n",
    "dataDir = r\"D:\\Dropbox\\AcademiaDropbox\\UW\\BeeDecisionProject\\NectarData\"\n",
    "if not os.path.isdir(dataDir):\n",
    "    os.mkdir(dataDir)\n",
    "\n",
    "figDir = r\"D:\\Dropbox\\AcademiaDropbox\\UW\\BeeDecisionProject\\NectarFigs\"\n",
    "if not os.path.isdir(figDir):\n",
    "    os.mkdir(figDir)\n",
    "\n",
    "print(baseDir)"
   ]
  },
  {
   "cell_type": "code",
   "execution_count": 4,
   "metadata": {
    "collapsed": false
   },
   "outputs": [
    {
     "data": {
      "text/plain": [
       "['COM8']"
      ]
     },
     "execution_count": 4,
     "metadata": {},
     "output_type": "execute_result"
    }
   ],
   "source": [
    "# list ports\n",
    "\n",
    "def serial_ports():\n",
    "    \"\"\" Lists serial port names\n",
    "\n",
    "        :raises EnvironmentError:\n",
    "            On unsupported or unknown platforms\n",
    "        :returns:\n",
    "            A list of the serial ports available on the system\n",
    "    \"\"\"\n",
    "    if sys.platform.startswith('win'):\n",
    "        ports = ['COM%s' % (i + 1) for i in range(256)]\n",
    "    elif sys.platform.startswith('linux') or sys.platform.startswith('cygwin'):\n",
    "        # this excludes your current terminal \"/dev/tty\"\n",
    "        ports = glob.glob('/dev/tty[A-Za-z]*')\n",
    "    elif sys.platform.startswith('darwin'):\n",
    "        ports = glob.glob('/dev/tty.*')\n",
    "    else:\n",
    "        raise EnvironmentError('Unsupported platform')\n",
    "\n",
    "    result = []\n",
    "    for port in ports:\n",
    "        try:\n",
    "            s = serial.Serial(port)\n",
    "            s.close()\n",
    "            result.append(port)\n",
    "        except (OSError, serial.SerialException):\n",
    "            pass\n",
    "    return result\n",
    "\n",
    "\n",
    "# I'm using COM3 and COM5 arduinos\n",
    "# COM4 is for the arduino controlling the cameras\n",
    "serial_ports()"
   ]
  },
  {
   "cell_type": "code",
   "execution_count": 5,
   "metadata": {
    "collapsed": false
   },
   "outputs": [
    {
     "name": "stdout",
     "output_type": "stream",
     "text": [
      "connected to arduino on COM8\n"
     ]
    },
    {
     "data": {
      "text/plain": [
       "' Setup complete\\r\\n'"
      ]
     },
     "execution_count": 5,
     "metadata": {},
     "output_type": "execute_result"
    }
   ],
   "source": [
    "# connect \n",
    "PORT1 = \"COM8\"\n",
    "connected1 = False\n",
    "if \"ser1\" in globals():\n",
    "    ser1.close()\n",
    "ser1 = serial.Serial(PORT1,9600, timeout=1.0) # stop if no data comes in 1 second\n",
    "while not connected1:\n",
    "    serin1 = ser1.read()\n",
    "    connected1 = True\n",
    "    print(\"connected to arduino on \" + PORT1)\n",
    "str(ser1.readline().decode(\"UTF-8\"))    "
   ]
  },
  {
   "cell_type": "code",
   "execution_count": 165,
   "metadata": {},
   "outputs": [],
   "source": [
    "def readData(serial_con, readlen = 500, wait_time = 0, save = False, returnVals = True):\n",
    "    tmp = np.empty((readlen, 6), dtype = '<U26')\n",
    "    while msvcrt.kbhit():\n",
    "        msvcrt.getch()\n",
    "        print('clearing characters ...')\n",
    "    \n",
    "    for ii in range(readlen):\n",
    "        serial_con.write(\"r\".encode(\"utf-8\"))\n",
    "        txt = serial_con.readline().decode(\"utf-8\")\n",
    "        tmp[ii, 0:5] = [int(i) for i in txt.split(',')]\n",
    "        tmp[ii, 5] = (datetime.now().strftime('%Y-%m-%d %H:%M:%S.%f'))\n",
    "        time.sleep(wait_time)\n",
    "        \n",
    "        if msvcrt.kbhit(): # if q is pressed, then break\n",
    "            k = msvcrt.getch()\n",
    "            if(k == b'q') | (k == b'\\x1b') | (k == b'\\x0b') :\n",
    "                print(\"keyboard break\")\n",
    "                winsound.MessageBeep()\n",
    "                break\n",
    "    if save:\n",
    "        s = tmp[0, 5]\n",
    "        s = re.sub(r'[^\\w\\s]','_',s)\n",
    "        s = re.sub(\" \", \"__\", s)[0:] + \".csv\"\n",
    "        print(s)\n",
    "        with open(os.path.join(dataDir, s), 'w', newline='') as myfile:\n",
    "            wr = csv.writer(myfile, quoting=csv.QUOTE_ALL)\n",
    "            wr.writerows(tmp)\n",
    "        \n",
    "    if returnVals:\n",
    "        return(tmp)\n",
    "    "
   ]
  },
  {
   "cell_type": "code",
   "execution_count": 187,
   "metadata": {},
   "outputs": [],
   "source": [
    " startTime = time.time()"
   ]
  },
  {
   "cell_type": "code",
   "execution_count": 188,
   "metadata": {},
   "outputs": [
    {
     "data": {
      "text/plain": [
       "7.335052967071533"
      ]
     },
     "execution_count": 188,
     "metadata": {},
     "output_type": "execute_result"
    }
   ],
   "source": [
    "time.time() - startTime"
   ]
  },
  {
   "cell_type": "code",
   "execution_count": 230,
   "metadata": {},
   "outputs": [
    {
     "data": {
      "text/plain": [
       "'2019_02_15__10_46_53_848889.csv'"
      ]
     },
     "execution_count": 230,
     "metadata": {},
     "output_type": "execute_result"
    }
   ],
   "source": [
    "s"
   ]
  },
  {
   "cell_type": "code",
   "execution_count": 233,
   "metadata": {},
   "outputs": [],
   "source": [
    "with open(os.path.join(dataDir, s), 'w+', newline='') as myfile:\n",
    "    wr = csv.writer(myfile, quoting=csv.QUOTE_ALL)\n",
    "    wr.writerows([np.array([\"base_sensor\", \"mid_sensor\", \"top_sensor\", \"limit_1\", \"limit_2\", \"timestamp\"], dtype = '<U26')])"
   ]
  },
  {
   "cell_type": "code",
   "execution_count": 301,
   "metadata": {},
   "outputs": [],
   "source": [
    "# save every sample, keep last 10 in memory\n",
    "\n",
    "\n",
    "def readAndSave(serial_con, maxTime = 600, wait_time = 0, \n",
    "                returnVals = True, saveData = True, dataDir = \"Need Path\", \n",
    "               PORT = PORT1, timeout = 10):\n",
    "    \n",
    "    \"\"\"\n",
    "    Reads data from Arduino, saves each line to a file\n",
    "  \n",
    "    Parameters: \n",
    "    maxTime (int): Max number of seconds the function run\n",
    "    wait_time (float): number of seconds between readings\n",
    "    returnVals (logical): True means return a data frame of values\n",
    "    saveData (logical): True means save data (in dataDir)\n",
    "    dataDir (diretory): folder where data are stored\n",
    "    PORT (string): the port from which we're reading\n",
    "    timeout (int): number of seconds to continue recording, if there is no action\n",
    "    \n",
    "    Returns: \n",
    "    array: data from the most recent 10 readings \n",
    "  \n",
    "    \"\"\"\n",
    "\n",
    "    startTime = time.time()\n",
    "    tmp = np.empty((1, 6), dtype = '<U26')\n",
    "    topSensorLastData = 999\n",
    "    timeOfLastVisit = time.time()\n",
    "    ctr = 0\n",
    "    if PORT == \"COM8\":\n",
    "        topSensorPosition = 2\n",
    "    \n",
    "    \n",
    "    while msvcrt.kbhit():\n",
    "        msvcrt.getch()\n",
    "        print('clearing characters ...')\n",
    "    \n",
    "    while (time.time() - startTime) < maxTime:    \n",
    "        serial_con.write(\"r\".encode(\"utf-8\"))\n",
    "        txt = serial_con.readline().decode(\"utf-8\")\n",
    "        tmp[0, 0:5] = [int(i) for i in txt.split(',')]\n",
    "        tmp[0, 5] = (datetime.now().strftime('%Y-%m-%d %H:%M:%S.%f'))\n",
    "        time.sleep(wait_time)\n",
    "        \n",
    "        if saveData:\n",
    "            if ctr == 0:\n",
    "                s = tmp[0, 5]\n",
    "                s = re.sub(r'[^\\w\\s]','_',s)\n",
    "                s = re.sub(\" \", \"__\", s)[0:] + \".csv\"\n",
    "                if PORT == \"COM8\":\n",
    "                    with open(os.path.join(dataDir, s), 'w+', newline='') as myfile:\n",
    "                        wr = csv.writer(myfile, quoting=csv.QUOTE_ALL)\n",
    "                        wr.writerows([np.array([\"base_sensor\", \"mid_sensor\", \"top_sensor\", \n",
    "                                               \"limit_1\", \"limit_2\", \"timestamp\"], dtype = '<U26')])\n",
    "                #refref add COM7        \n",
    "                        \n",
    "                    \n",
    "            with open(os.path.join(dataDir, s), 'a+', newline='') as myfile:\n",
    "                wr = csv.writer(myfile, quoting=csv.QUOTE_ALL)\n",
    "                wr.writerows(tmp)\n",
    "        \n",
    "        # stop if there is no action for XX min\n",
    "        if (abs(topSensorLastData - int(tmp[0, topSensorPosition])) > 5) and (ctr > 0):\n",
    "            print(\"ACTION\")\n",
    "            timeOfLastVisit = time.time()\n",
    "        # break if there is no action for XX sec\n",
    "        elif(time.time() - timeOfLastVisit > timeout):\n",
    "            print(\"No action for \" + str(timeout) + \" sec\")\n",
    "            break\n",
    "        \n",
    "        # update top sensor last data\n",
    "        topSensorLastData = int(tmp[0, topSensorPosition])\n",
    "        \n",
    "        if msvcrt.kbhit(): # if q is pressed, then break\n",
    "            k = msvcrt.getch()\n",
    "            if(k == b'q') | (k == b'\\x1b') | (k == b'\\x0b') :\n",
    "                print(\"keyboard break\")\n",
    "                winsound.MessageBeep()\n",
    "                break\n",
    "        ctr += 1\n",
    "    # read in data, if returnVals is True\n",
    "    if returnVals and saveData: \n",
    "        return(pd.read_csv(os.path.join(dataDir, s)))\n",
    "    "
   ]
  },
  {
   "cell_type": "code",
   "execution_count": 302,
   "metadata": {},
   "outputs": [
    {
     "name": "stdout",
     "output_type": "stream",
     "text": [
      "ACTION\n",
      "ACTION\n",
      "ACTION\n",
      "ACTION\n",
      "ACTION\n",
      "ACTION\n",
      "ACTION\n",
      "ACTION\n",
      "ACTION\n",
      "ACTION\n",
      "ACTION\n",
      "ACTION\n",
      "ACTION\n",
      "ACTION\n",
      "ACTION\n",
      "ACTION\n",
      "ACTION\n",
      "ACTION\n",
      "ACTION\n",
      "ACTION\n",
      "ACTION\n",
      "ACTION\n",
      "ACTION\n",
      "ACTION\n",
      "ACTION\n",
      "ACTION\n",
      "ACTION\n",
      "ACTION\n",
      "ACTION\n",
      "ACTION\n",
      "ACTION\n",
      "ACTION\n",
      "ACTION\n",
      "ACTION\n",
      "ACTION\n",
      "ACTION\n",
      "ACTION\n",
      "ACTION\n",
      "ACTION\n",
      "ACTION\n",
      "ACTION\n",
      "ACTION\n",
      "ACTION\n",
      "ACTION\n",
      "ACTION\n",
      "ACTION\n",
      "ACTION\n",
      "ACTION\n",
      "ACTION\n",
      "ACTION\n",
      "ACTION\n",
      "ACTION\n",
      "ACTION\n",
      "ACTION\n",
      "ACTION\n",
      "ACTION\n",
      "ACTION\n",
      "ACTION\n",
      "ACTION\n",
      "ACTION\n",
      "ACTION\n",
      "ACTION\n",
      "ACTION\n",
      "ACTION\n",
      "ACTION\n",
      "ACTION\n",
      "ACTION\n",
      "ACTION\n",
      "ACTION\n",
      "ACTION\n",
      "ACTION\n",
      "ACTION\n",
      "ACTION\n",
      "ACTION\n",
      "ACTION\n",
      "ACTION\n",
      "ACTION\n",
      "ACTION\n",
      "ACTION\n",
      "ACTION\n",
      "ACTION\n",
      "ACTION\n",
      "ACTION\n",
      "ACTION\n",
      "ACTION\n",
      "ACTION\n",
      "ACTION\n",
      "ACTION\n",
      "ACTION\n",
      "ACTION\n",
      "ACTION\n",
      "ACTION\n",
      "ACTION\n",
      "ACTION\n",
      "ACTION\n",
      "ACTION\n",
      "ACTION\n",
      "ACTION\n",
      "ACTION\n",
      "ACTION\n",
      "ACTION\n",
      "ACTION\n",
      "ACTION\n",
      "ACTION\n",
      "ACTION\n",
      "ACTION\n",
      "ACTION\n",
      "ACTION\n",
      "ACTION\n",
      "ACTION\n",
      "ACTION\n",
      "ACTION\n",
      "ACTION\n",
      "ACTION\n",
      "ACTION\n",
      "ACTION\n",
      "ACTION\n",
      "ACTION\n",
      "ACTION\n",
      "ACTION\n",
      "1200.0932602882385\n"
     ]
    },
    {
     "data": {
      "text/html": [
       "<div>\n",
       "<style scoped>\n",
       "    .dataframe tbody tr th:only-of-type {\n",
       "        vertical-align: middle;\n",
       "    }\n",
       "\n",
       "    .dataframe tbody tr th {\n",
       "        vertical-align: top;\n",
       "    }\n",
       "\n",
       "    .dataframe thead th {\n",
       "        text-align: right;\n",
       "    }\n",
       "</style>\n",
       "<table border=\"1\" class=\"dataframe\">\n",
       "  <thead>\n",
       "    <tr style=\"text-align: right;\">\n",
       "      <th></th>\n",
       "      <th>base_sensor</th>\n",
       "      <th>mid_sensor</th>\n",
       "      <th>top_sensor</th>\n",
       "      <th>limit_1</th>\n",
       "      <th>limit_2</th>\n",
       "      <th>timestamp</th>\n",
       "    </tr>\n",
       "  </thead>\n",
       "  <tbody>\n",
       "    <tr>\n",
       "      <th>0</th>\n",
       "      <td>455</td>\n",
       "      <td>472</td>\n",
       "      <td>155</td>\n",
       "      <td>0</td>\n",
       "      <td>0</td>\n",
       "      <td>2019-02-15 14:20:07.921347</td>\n",
       "    </tr>\n",
       "    <tr>\n",
       "      <th>1</th>\n",
       "      <td>455</td>\n",
       "      <td>472</td>\n",
       "      <td>155</td>\n",
       "      <td>0</td>\n",
       "      <td>0</td>\n",
       "      <td>2019-02-15 14:20:07.957325</td>\n",
       "    </tr>\n",
       "    <tr>\n",
       "      <th>2</th>\n",
       "      <td>455</td>\n",
       "      <td>472</td>\n",
       "      <td>155</td>\n",
       "      <td>0</td>\n",
       "      <td>0</td>\n",
       "      <td>2019-02-15 14:20:07.998302</td>\n",
       "    </tr>\n",
       "    <tr>\n",
       "      <th>3</th>\n",
       "      <td>455</td>\n",
       "      <td>472</td>\n",
       "      <td>155</td>\n",
       "      <td>0</td>\n",
       "      <td>0</td>\n",
       "      <td>2019-02-15 14:20:08.231781</td>\n",
       "    </tr>\n",
       "    <tr>\n",
       "      <th>4</th>\n",
       "      <td>455</td>\n",
       "      <td>472</td>\n",
       "      <td>155</td>\n",
       "      <td>0</td>\n",
       "      <td>0</td>\n",
       "      <td>2019-02-15 14:20:08.260782</td>\n",
       "    </tr>\n",
       "  </tbody>\n",
       "</table>\n",
       "</div>"
      ],
      "text/plain": [
       "   base_sensor  mid_sensor  top_sensor  limit_1  limit_2  \\\n",
       "0          455         472         155        0        0   \n",
       "1          455         472         155        0        0   \n",
       "2          455         472         155        0        0   \n",
       "3          455         472         155        0        0   \n",
       "4          455         472         155        0        0   \n",
       "\n",
       "                    timestamp  \n",
       "0  2019-02-15 14:20:07.921347  \n",
       "1  2019-02-15 14:20:07.957325  \n",
       "2  2019-02-15 14:20:07.998302  \n",
       "3  2019-02-15 14:20:08.231781  \n",
       "4  2019-02-15 14:20:08.260782  "
      ]
     },
     "execution_count": 302,
     "metadata": {},
     "output_type": "execute_result"
    }
   ],
   "source": [
    "stt = time.time()\n",
    "\n",
    "newDat = readAndSave(ser1, maxTime=600*2, saveData=True,dataDir = dataDir, timeout = 600*2)\n",
    "\n",
    "print(time.time() - stt)\n",
    "newDat.head()"
   ]
  },
  {
   "cell_type": "code",
   "execution_count": 303,
   "metadata": {},
   "outputs": [
    {
     "data": {
      "text/plain": [
       "<matplotlib.axes._subplots.AxesSubplot at 0x2221ae151d0>"
      ]
     },
     "execution_count": 303,
     "metadata": {},
     "output_type": "execute_result"
    },
    {
     "data": {
      "image/png": "[encoded data removed]",
      "text/plain": [
       "<Figure size 432x288 with 1 Axes>"
      ]
     },
     "metadata": {
      "needs_background": "light"
     },
     "output_type": "display_data"
    }
   ],
   "source": [
    "newDat['timestamp'] = pd.to_datetime(newDat['timestamp'])\n",
    "newDat['delta'] = (newDat['timestamp']-newDat['timestamp'].shift()).fillna(pd.Timedelta(seconds=0))\n",
    "\n",
    "newDat.plot(y=['top_sensor', 'mid_sensor', 'base_sensor'], x = \"timestamp\", style='-')"
   ]
  },
  {
   "cell_type": "code",
   "execution_count": 304,
   "metadata": {},
   "outputs": [
    {
     "data": {
      "text/plain": [
       "<matplotlib.axes._subplots.AxesSubplot at 0x2221b477358>"
      ]
     },
     "execution_count": 304,
     "metadata": {},
     "output_type": "execute_result"
    },
    {
     "data": {
      "image/png": "[encoded data removed]",
      "text/plain": [
       "<Figure size 432x288 with 1 Axes>"
      ]
     },
     "metadata": {
      "needs_background": "light"
     },
     "output_type": "display_data"
    }
   ],
   "source": [
    "newDat.plot(y=['delta'], x = \"timestamp\", style='-')"
   ]
  },
  {
   "cell_type": "code",
   "execution_count": 305,
   "metadata": {},
   "outputs": [
    {
     "data": {
      "text/html": [
       "<div>\n",
       "<style scoped>\n",
       "    .dataframe tbody tr th:only-of-type {\n",
       "        vertical-align: middle;\n",
       "    }\n",
       "\n",
       "    .dataframe tbody tr th {\n",
       "        vertical-align: top;\n",
       "    }\n",
       "\n",
       "    .dataframe thead th {\n",
       "        text-align: right;\n",
       "    }\n",
       "</style>\n",
       "<table border=\"1\" class=\"dataframe\">\n",
       "  <thead>\n",
       "    <tr style=\"text-align: right;\">\n",
       "      <th></th>\n",
       "      <th>base_sensor</th>\n",
       "      <th>mid_sensor</th>\n",
       "      <th>top_sensor</th>\n",
       "      <th>limit_1</th>\n",
       "      <th>limit_2</th>\n",
       "      <th>timestamp</th>\n",
       "      <th>delta</th>\n",
       "    </tr>\n",
       "  </thead>\n",
       "  <tbody>\n",
       "    <tr>\n",
       "      <th>0</th>\n",
       "      <td>455</td>\n",
       "      <td>472</td>\n",
       "      <td>155</td>\n",
       "      <td>0</td>\n",
       "      <td>0</td>\n",
       "      <td>2019-02-15 14:20:07.921347</td>\n",
       "      <td>00:00:00</td>\n",
       "    </tr>\n",
       "    <tr>\n",
       "      <th>1</th>\n",
       "      <td>455</td>\n",
       "      <td>472</td>\n",
       "      <td>155</td>\n",
       "      <td>0</td>\n",
       "      <td>0</td>\n",
       "      <td>2019-02-15 14:20:07.957325</td>\n",
       "      <td>00:00:00.035978</td>\n",
       "    </tr>\n",
       "    <tr>\n",
       "      <th>2</th>\n",
       "      <td>455</td>\n",
       "      <td>472</td>\n",
       "      <td>155</td>\n",
       "      <td>0</td>\n",
       "      <td>0</td>\n",
       "      <td>2019-02-15 14:20:07.998302</td>\n",
       "      <td>00:00:00.040977</td>\n",
       "    </tr>\n",
       "    <tr>\n",
       "      <th>3</th>\n",
       "      <td>455</td>\n",
       "      <td>472</td>\n",
       "      <td>155</td>\n",
       "      <td>0</td>\n",
       "      <td>0</td>\n",
       "      <td>2019-02-15 14:20:08.231781</td>\n",
       "      <td>00:00:00.233479</td>\n",
       "    </tr>\n",
       "    <tr>\n",
       "      <th>4</th>\n",
       "      <td>455</td>\n",
       "      <td>472</td>\n",
       "      <td>155</td>\n",
       "      <td>0</td>\n",
       "      <td>0</td>\n",
       "      <td>2019-02-15 14:20:08.260782</td>\n",
       "      <td>00:00:00.029001</td>\n",
       "    </tr>\n",
       "  </tbody>\n",
       "</table>\n",
       "</div>"
      ],
      "text/plain": [
       "   base_sensor  mid_sensor  top_sensor  limit_1  limit_2  \\\n",
       "0          455         472         155        0        0   \n",
       "1          455         472         155        0        0   \n",
       "2          455         472         155        0        0   \n",
       "3          455         472         155        0        0   \n",
       "4          455         472         155        0        0   \n",
       "\n",
       "                   timestamp           delta  \n",
       "0 2019-02-15 14:20:07.921347        00:00:00  \n",
       "1 2019-02-15 14:20:07.957325 00:00:00.035978  \n",
       "2 2019-02-15 14:20:07.998302 00:00:00.040977  \n",
       "3 2019-02-15 14:20:08.231781 00:00:00.233479  \n",
       "4 2019-02-15 14:20:08.260782 00:00:00.029001  "
      ]
     },
     "execution_count": 305,
     "metadata": {},
     "output_type": "execute_result"
    }
   ],
   "source": [
    "newDat.head()"
   ]
  },
  {
   "cell_type": "code",
   "execution_count": 307,
   "metadata": {},
   "outputs": [
    {
     "data": {
      "text/plain": [
       "<matplotlib.axes._subplots.AxesSubplot at 0x2221c800908>"
      ]
     },
     "execution_count": 307,
     "metadata": {},
     "output_type": "execute_result"
    },
    {
     "data": {
      "image/png": "[encoded data removed]",
      "text/plain": [
       "<Figure size 432x288 with 1 Axes>"
      ]
     },
     "metadata": {
      "needs_background": "light"
     },
     "output_type": "display_data"
    }
   ],
   "source": [
    "newDat.plot(y=['mid_sensor'], x = \"timestamp\", style='-')"
   ]
  },
  {
   "cell_type": "code",
   "execution_count": null,
   "metadata": {},
   "outputs": [],
   "source": []
  },
  {
   "cell_type": "code",
   "execution_count": null,
   "metadata": {},
   "outputs": [],
   "source": []
  },
  {
   "cell_type": "code",
   "execution_count": null,
   "metadata": {},
   "outputs": [],
   "source": []
  },
  {
   "cell_type": "code",
   "execution_count": null,
   "metadata": {},
   "outputs": [],
   "source": []
  },
  {
   "cell_type": "code",
   "execution_count": null,
   "metadata": {},
   "outputs": [],
   "source": []
  },
  {
   "cell_type": "code",
   "execution_count": null,
   "metadata": {},
   "outputs": [],
   "source": []
  },
  {
   "cell_type": "code",
   "execution_count": null,
   "metadata": {},
   "outputs": [],
   "source": []
  },
  {
   "cell_type": "markdown",
   "metadata": {},
   "source": [
    "\n",
    "# for com7\n",
    "df1[[\"base_sensor\", \"mid_sensor\", \n",
    "     \"top_sensor\", \"limit_1\", \"limit_2\"]] = \\\n",
    "    df1[[\"base_sensor\", \"mid_sensor\", \n",
    "        \"top_sensor\", \"limit_1\", \"limit_2\"]].astype(int)\n",
    "\n",
    "df1.head()"
   ]
  },
  {
   "cell_type": "code",
   "execution_count": 183,
   "metadata": {},
   "outputs": [
    {
     "name": "stdout",
     "output_type": "stream",
     "text": [
      "2019_02_15__11_41_03_310824.csv\n",
      "(10, 6)\n"
     ]
    },
    {
     "data": {
      "text/html": [
       "<div>\n",
       "<style scoped>\n",
       "    .dataframe tbody tr th:only-of-type {\n",
       "        vertical-align: middle;\n",
       "    }\n",
       "\n",
       "    .dataframe tbody tr th {\n",
       "        vertical-align: top;\n",
       "    }\n",
       "\n",
       "    .dataframe thead th {\n",
       "        text-align: right;\n",
       "    }\n",
       "</style>\n",
       "<table border=\"1\" class=\"dataframe\">\n",
       "  <thead>\n",
       "    <tr style=\"text-align: right;\">\n",
       "      <th></th>\n",
       "      <th>base_sensor</th>\n",
       "      <th>mid_sensor</th>\n",
       "      <th>top_sensor</th>\n",
       "      <th>limit_1</th>\n",
       "      <th>limit_2</th>\n",
       "      <th>timestamp</th>\n",
       "    </tr>\n",
       "  </thead>\n",
       "  <tbody>\n",
       "    <tr>\n",
       "      <th>0</th>\n",
       "      <td>456</td>\n",
       "      <td>465</td>\n",
       "      <td>161</td>\n",
       "      <td>0</td>\n",
       "      <td>0</td>\n",
       "      <td>2019-02-15 11:41:03.310824</td>\n",
       "    </tr>\n",
       "    <tr>\n",
       "      <th>1</th>\n",
       "      <td>456</td>\n",
       "      <td>465</td>\n",
       "      <td>161</td>\n",
       "      <td>0</td>\n",
       "      <td>0</td>\n",
       "      <td>2019-02-15 11:41:03.331811</td>\n",
       "    </tr>\n",
       "    <tr>\n",
       "      <th>2</th>\n",
       "      <td>456</td>\n",
       "      <td>465</td>\n",
       "      <td>161</td>\n",
       "      <td>0</td>\n",
       "      <td>0</td>\n",
       "      <td>2019-02-15 11:41:03.352782</td>\n",
       "    </tr>\n",
       "    <tr>\n",
       "      <th>3</th>\n",
       "      <td>456</td>\n",
       "      <td>465</td>\n",
       "      <td>161</td>\n",
       "      <td>0</td>\n",
       "      <td>0</td>\n",
       "      <td>2019-02-15 11:41:03.372788</td>\n",
       "    </tr>\n",
       "    <tr>\n",
       "      <th>4</th>\n",
       "      <td>456</td>\n",
       "      <td>465</td>\n",
       "      <td>161</td>\n",
       "      <td>0</td>\n",
       "      <td>0</td>\n",
       "      <td>2019-02-15 11:41:03.392777</td>\n",
       "    </tr>\n",
       "  </tbody>\n",
       "</table>\n",
       "</div>"
      ],
      "text/plain": [
       "   base_sensor  mid_sensor  top_sensor  limit_1  limit_2  \\\n",
       "0          456         465         161        0        0   \n",
       "1          456         465         161        0        0   \n",
       "2          456         465         161        0        0   \n",
       "3          456         465         161        0        0   \n",
       "4          456         465         161        0        0   \n",
       "\n",
       "                    timestamp  \n",
       "0  2019-02-15 11:41:03.310824  \n",
       "1  2019-02-15 11:41:03.331811  \n",
       "2  2019-02-15 11:41:03.352782  \n",
       "3  2019-02-15 11:41:03.372788  \n",
       "4  2019-02-15 11:41:03.392777  "
      ]
     },
     "execution_count": 183,
     "metadata": {},
     "output_type": "execute_result"
    }
   ],
   "source": [
    "# for com8, switch base and mid refref, double check\n",
    "tt = readData(ser1, readlen=10, wait_time=0.0, save=True, returnVals = True)\n",
    "df1 = pd.DataFrame(tt, columns=[\"base_sensor\", \"mid_sensor\", \"top_sensor\", \"limit_1\", \"limit_2\", \"timestamp\"])\n",
    "\n",
    "df1[[\"mid_sensor\", \"base_sensor\",\n",
    "     \"top_sensor\", \"limit_1\", \"limit_2\"]] = \\\n",
    "    df1[[\"base_sensor\", \"mid_sensor\", \n",
    "        \"top_sensor\", \"limit_1\", \"limit_2\"]].astype(int)\n",
    "\n",
    "print(df1.shape)\n",
    "df1.head()"
   ]
  },
  {
   "cell_type": "code",
   "execution_count": 184,
   "metadata": {},
   "outputs": [
    {
     "data": {
      "text/html": [
       "<div>\n",
       "<style scoped>\n",
       "    .dataframe tbody tr th:only-of-type {\n",
       "        vertical-align: middle;\n",
       "    }\n",
       "\n",
       "    .dataframe tbody tr th {\n",
       "        vertical-align: top;\n",
       "    }\n",
       "\n",
       "    .dataframe thead th {\n",
       "        text-align: right;\n",
       "    }\n",
       "</style>\n",
       "<table border=\"1\" class=\"dataframe\">\n",
       "  <thead>\n",
       "    <tr style=\"text-align: right;\">\n",
       "      <th></th>\n",
       "      <th>base_sensor</th>\n",
       "      <th>mid_sensor</th>\n",
       "      <th>top_sensor</th>\n",
       "      <th>limit_1</th>\n",
       "      <th>limit_2</th>\n",
       "      <th>timestamp</th>\n",
       "    </tr>\n",
       "  </thead>\n",
       "  <tbody>\n",
       "    <tr>\n",
       "      <th>5</th>\n",
       "      <td>456</td>\n",
       "      <td>465</td>\n",
       "      <td>160</td>\n",
       "      <td>0</td>\n",
       "      <td>0</td>\n",
       "      <td>2019-02-15 11:41:03.412077</td>\n",
       "    </tr>\n",
       "    <tr>\n",
       "      <th>6</th>\n",
       "      <td>456</td>\n",
       "      <td>465</td>\n",
       "      <td>161</td>\n",
       "      <td>0</td>\n",
       "      <td>0</td>\n",
       "      <td>2019-02-15 11:41:03.425797</td>\n",
       "    </tr>\n",
       "    <tr>\n",
       "      <th>7</th>\n",
       "      <td>456</td>\n",
       "      <td>465</td>\n",
       "      <td>161</td>\n",
       "      <td>0</td>\n",
       "      <td>0</td>\n",
       "      <td>2019-02-15 11:41:03.455042</td>\n",
       "    </tr>\n",
       "    <tr>\n",
       "      <th>8</th>\n",
       "      <td>456</td>\n",
       "      <td>465</td>\n",
       "      <td>160</td>\n",
       "      <td>0</td>\n",
       "      <td>0</td>\n",
       "      <td>2019-02-15 11:41:03.467232</td>\n",
       "    </tr>\n",
       "    <tr>\n",
       "      <th>9</th>\n",
       "      <td>456</td>\n",
       "      <td>465</td>\n",
       "      <td>160</td>\n",
       "      <td>0</td>\n",
       "      <td>0</td>\n",
       "      <td>2019-02-15 11:41:03.490360</td>\n",
       "    </tr>\n",
       "  </tbody>\n",
       "</table>\n",
       "</div>"
      ],
      "text/plain": [
       "   base_sensor  mid_sensor  top_sensor  limit_1  limit_2  \\\n",
       "5          456         465         160        0        0   \n",
       "6          456         465         161        0        0   \n",
       "7          456         465         161        0        0   \n",
       "8          456         465         160        0        0   \n",
       "9          456         465         160        0        0   \n",
       "\n",
       "                    timestamp  \n",
       "5  2019-02-15 11:41:03.412077  \n",
       "6  2019-02-15 11:41:03.425797  \n",
       "7  2019-02-15 11:41:03.455042  \n",
       "8  2019-02-15 11:41:03.467232  \n",
       "9  2019-02-15 11:41:03.490360  "
      ]
     },
     "execution_count": 184,
     "metadata": {},
     "output_type": "execute_result"
    }
   ],
   "source": [
    "df1.tail()"
   ]
  },
  {
   "cell_type": "code",
   "execution_count": 185,
   "metadata": {},
   "outputs": [],
   "source": [
    "#np.array(df1.iloc[:,0].astype(int))"
   ]
  },
  {
   "cell_type": "code",
   "execution_count": 186,
   "metadata": {},
   "outputs": [
    {
     "data": {
      "text/plain": [
       "<matplotlib.legend.Legend at 0x22216b4c0f0>"
      ]
     },
     "execution_count": 186,
     "metadata": {},
     "output_type": "execute_result"
    },
    {
     "data": {
      "image/png": "[encoded data removed]",
      "text/plain": [
       "<Figure size 432x288 with 1 Axes>"
      ]
     },
     "metadata": {
      "needs_background": "light"
     },
     "output_type": "display_data"
    }
   ],
   "source": [
    "ax1 = df1.iloc[:, 0:3].plot()\n",
    "lines, labels = ax1.get_legend_handles_labels()\n",
    "ax1.legend(lines, labels, loc='best')  "
   ]
  },
  {
   "cell_type": "code",
   "execution_count": null,
   "metadata": {},
   "outputs": [],
   "source": [
    "plt.plot(df1[[\"base_sensor\", \"mid_sensor\", \n",
    "     \"top_sensor\"]])\n",
    "plt.show()"
   ]
  },
  {
   "cell_type": "code",
   "execution_count": null,
   "metadata": {},
   "outputs": [],
   "source": [
    "plt.plot(np.array(df1.iloc[:,1].astype(int)))"
   ]
  },
  {
   "cell_type": "code",
   "execution_count": null,
   "metadata": {},
   "outputs": [],
   "source": [
    "plt.plot(np.array(df1.iloc[:,2].astype(int)))"
   ]
  },
  {
   "cell_type": "code",
   "execution_count": null,
   "metadata": {},
   "outputs": [],
   "source": [
    "(tt[0, 5])"
   ]
  },
  {
   "cell_type": "code",
   "execution_count": null,
   "metadata": {},
   "outputs": [],
   "source": [
    "# for com7\n",
    "# top sensor\n",
    "tt[:, 2]\n",
    "\n",
    "# mid sensor\n",
    "tt[:, 1]\n",
    "\n",
    "# base sensor\n",
    "tt[:, 0]"
   ]
  },
  {
   "cell_type": "code",
   "execution_count": null,
   "metadata": {},
   "outputs": [],
   "source": [
    "plt.plot(tt[:,2])"
   ]
  },
  {
   "cell_type": "code",
   "execution_count": null,
   "metadata": {},
   "outputs": [],
   "source": [
    "plt.plot(tt)"
   ]
  },
  {
   "cell_type": "code",
   "execution_count": null,
   "metadata": {},
   "outputs": [],
   "source": [
    "#ser1.close()"
   ]
  },
  {
   "cell_type": "code",
   "execution_count": null,
   "metadata": {},
   "outputs": [],
   "source": [
    "def moveToTop(serial_con, cutoff = 650):\n",
    "    # refref: may want to go 1 or two more moves forward after cutoff is passed --- \n",
    "    ## the cutoff is the meniscus\n",
    "    [[topVal, bottomLim, topLim]] = readData(serial_con, 1, 0)[:, [1,3,4]]\n",
    "    print(topVal)\n",
    "    while (topVal > cutoff) and not topLim:\n",
    "        #move forward\n",
    "        ser1.write(\"f\".encode(\"utf-8\"))\n",
    "        \n",
    "        # read data again\n",
    "        [[topVal, bottomLim, topLim]] = readData(serial_con, 1, 0)[:,[1,3,4]]\n",
    "        # rror if limit switch is hit\n",
    "        if topLim:\n",
    "            raise RuntimeError('Hit upper limit switch')\n",
    "        \n",
    "        \n",
    "        \n",
    "        "
   ]
  },
  {
   "cell_type": "code",
   "execution_count": null,
   "metadata": {},
   "outputs": [],
   "source": [
    "# refref: problem -- liquid stays stuck on the sides -- may need to move back slower\n",
    "\n",
    "def moveBack(serial_con, cutoff = 650):\n",
    "    \n",
    "    [[topVal, bottomLim, topLim]] = readData(serial_con, 1, 0)[:, [1,3,4]]\n",
    "    \n",
    "    \n",
    "    while (topVal < cutoff) and not bottomLim:\n",
    "        #move backward\n",
    "        for jj in range(7):\n",
    "            ser1.write(\"b\".encode(\"utf-8\"))\n",
    "            time.sleep(0.3)\n",
    "        \n",
    "        # read data again\n",
    "        [[topVal, bottomLim, topLim]] = readData(serial_con, 1, 0)[:, [1,3,4]]\n",
    "        # rror if limit switch is hit\n",
    "        if bottomLim:\n",
    "            raise RuntimeError('Hit lower limit switch')"
   ]
  },
  {
   "cell_type": "code",
   "execution_count": null,
   "metadata": {},
   "outputs": [],
   "source": [
    "readData(ser1, 1, 0)"
   ]
  },
  {
   "cell_type": "code",
   "execution_count": null,
   "metadata": {},
   "outputs": [],
   "source": [
    "moveToTop(ser1)\n",
    "readData(ser1, 1, 0)"
   ]
  },
  {
   "cell_type": "code",
   "execution_count": null,
   "metadata": {},
   "outputs": [],
   "source": [
    "moveBack(ser1)\n",
    "readData(ser1, 1, 0)"
   ]
  },
  {
   "cell_type": "code",
   "execution_count": null,
   "metadata": {},
   "outputs": [],
   "source": [
    "ser1.write(\"f\".encode(\"utf-8\"))"
   ]
  },
  {
   "cell_type": "code",
   "execution_count": null,
   "metadata": {},
   "outputs": [],
   "source": [
    "[[vals, bottomLim, topLim]] = readData(ser1, 1, 0)[:, 2:]"
   ]
  },
  {
   "cell_type": "code",
   "execution_count": null,
   "metadata": {},
   "outputs": [],
   "source": [
    "readData(ser1, 1, 0)[:, 2:]"
   ]
  },
  {
   "cell_type": "code",
   "execution_count": null,
   "metadata": {},
   "outputs": [],
   "source": [
    "toplim = 1"
   ]
  },
  {
   "cell_type": "code",
   "execution_count": null,
   "metadata": {},
   "outputs": [],
   "source": [
    "not toplim"
   ]
  },
  {
   "cell_type": "markdown",
   "metadata": {},
   "source": [
    "for ii in range(20): \n",
    "    written = ser1.write(\"f\".encode(\"utf-8\"))\n",
    "\n",
    "\n",
    "ser1.write(\"f\".encode(\"utf-8\"))\n",
    "\n",
    "for ii in range(100): \n",
    "    written = ser1.write(\"b\".encode(\"utf-8\"))\n",
    "\n",
    "\"c\".encode(\"utf-8\")\n",
    "int.from_bytes(b'c', byteorder='big') # this is what the arduino will see\n",
    "\n",
    "int.from_bytes(b'c', byteorder='big')\n",
    "\n",
    "ser1.write(\"c\".encode(\"utf-8\"))"
   ]
  },
  {
   "cell_type": "code",
   "execution_count": null,
   "metadata": {},
   "outputs": [],
   "source": []
  }
 ],
 "metadata": {
  "kernelspec": {
   "display_name": "NectarLearning",
   "language": "python",
   "name": "nectarlearning"
  },
  "language_info": {
   "codemirror_mode": {
    "name": "ipython",
    "version": 3
   },
   "file_extension": ".py",
   "mimetype": "text/x-python",
   "name": "python",
   "nbconvert_exporter": "python",
   "pygments_lexer": "ipython3",
   "version": "3.7.2"
  }
 },
 "nbformat": 4,
 "nbformat_minor": 2
}
