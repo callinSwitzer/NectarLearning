{
 "cells": [
  {
   "cell_type": "markdown",
   "metadata": {},
   "source": [
    "### Code for running experiment\n",
    "### Callin Switzer\n",
    "### 21 Feb 2019"
   ]
  },
  {
   "cell_type": "code",
   "execution_count": null,
   "metadata": {},
   "outputs": [],
   "source": [
    "import nectarUtils\n",
    "from nectarUtils import *\n",
    "import nectarUtils as nu\n",
    "\n",
    "import importlib\n",
    "\n",
    "\n",
    "%matplotlib inline\n",
    "print(sys.version)\n",
    "print(sys.executable)\n",
    "\n",
    "# define directories\n",
    "baseDir = os.getcwd()\n",
    "\n",
    "# may want to make this directory somewhere else, if dropbox becomes a problem\n",
    "dataDir = r\"D:\\Dropbox\\AcademiaDropbox\\UW\\BeeDecisionProject\\NectarData\"\n",
    "if not os.path.isdir(dataDir):\n",
    "    os.mkdir(dataDir)\n",
    "\n",
    "figDir = r\"D:\\Dropbox\\AcademiaDropbox\\UW\\BeeDecisionProject\\NectarFigs\"\n",
    "if not os.path.isdir(figDir):\n",
    "    os.mkdir(figDir)"
   ]
  },
  {
   "cell_type": "code",
   "execution_count": null,
   "metadata": {
    "collapsed": false
   },
   "outputs": [],
   "source": [
    "# list serial ports\n",
    "nu.serial_ports()"
   ]
  },
  {
   "cell_type": "code",
   "execution_count": null,
   "metadata": {
    "collapsed": false
   },
   "outputs": [],
   "source": [
    "# connect to com8\n",
    "PORT1 = \"COM4\"\n",
    "connected1 = False\n",
    "if \"ser1\" in globals():\n",
    "    ser1.close()\n",
    "ser1 = serial.Serial(PORT1,9600, timeout=1.0) # stop if no data comes in 1 second\n",
    "while not connected1:\n",
    "    serin1 = ser1.read()\n",
    "    connected1 = True\n",
    "    print(\"connected to arduino on \" + PORT1)\n",
    "str(ser1.readline().decode(\"UTF-8\"))    "
   ]
  },
  {
   "cell_type": "code",
   "execution_count": null,
   "metadata": {},
   "outputs": [],
   "source": [
    "ser1.write(\"ff\".encode(\"utf-8\"))"
   ]
  },
  {
   "cell_type": "code",
   "execution_count": null,
   "metadata": {},
   "outputs": [],
   "source": [
    "#ser1.close()"
   ]
  },
  {
   "cell_type": "code",
   "execution_count": null,
   "metadata": {},
   "outputs": [],
   "source": [
    "# reload package if changed\n",
    "_ = importlib.reload(nectarUtils)\n",
    "\n",
    "calb = nu.calibrate(ser1)"
   ]
  },
  {
   "cell_type": "code",
   "execution_count": null,
   "metadata": {},
   "outputs": [],
   "source": [
    "# reload package if changed\n",
    "_ = importlib.reload(nectarUtils)\n",
    "\n",
    "\n",
    "# read and save data\n",
    "stt = time.time()\n",
    "\n",
    "newDat = nu.readAndSave(ser1, maxTime=600*2, saveData=True, \n",
    "                        dataDir = dataDir, timeout = 600*2, \n",
    "                        minRewardThreshold = int(1.10*calb[\"topBaseline\"]), \n",
    "                       colNames = calb[\"colNames\"], \n",
    "                       baseSensorThreshold = calb['base_dec_bound'], \n",
    "                       calibrationInfo = calb)\n",
    "\n",
    "print(time.time() - stt)\n",
    "newDat.head()\n",
    "\n",
    "newDat['timestamp'] = pd.to_datetime(newDat['timestamp'])\n",
    "newDat['delta'] = (newDat['timestamp']-newDat['timestamp'].shift()).fillna(pd.Timedelta(seconds=0))\n",
    "\n",
    "newDat.plot(y=['top', 'mid', 'base'], x = \"timestamp\", style='-', figsize=np.array([15, 5]))\n",
    "\n",
    "plt.scatter(y=newDat['top'], x = newDat[\"timestamp\"])\n",
    "plt.vlines(newDat[newDat.notes == \"reward Triggered\"][\"timestamp\"], ymin = 0, ymax = 1000, label = \"reward\")\n",
    "plt.show()\n",
    "#newDat.plot(y=['delta'], x = \"timestamp\", style='-')"
   ]
  },
  {
   "cell_type": "code",
   "execution_count": 1,
   "metadata": {},
   "outputs": [],
   "source": [
    "#!/usr/bin/env python\n",
    "import subprocess\n",
    "# #  \n",
    "# # Call a bash script\n",
    "# subprocess.call(['./myBashScript.sh'])\n",
    " \n",
    "# # Call a javascript script with node\n",
    "# subprocess.call(['node', './myJSScript.js'])"
   ]
  },
  {
   "cell_type": "code",
   "execution_count": null,
   "metadata": {},
   "outputs": [],
   "source": []
  },
  {
   "cell_type": "code",
   "execution_count": null,
   "metadata": {},
   "outputs": [],
   "source": []
  },
  {
   "cell_type": "code",
   "execution_count": null,
   "metadata": {},
   "outputs": [],
   "source": []
  },
  {
   "cell_type": "code",
   "execution_count": null,
   "metadata": {},
   "outputs": [],
   "source": []
  },
  {
   "cell_type": "code",
   "execution_count": null,
   "metadata": {},
   "outputs": [],
   "source": [
    "# reload package if changed\n",
    "_ = importlib.reload(nectarUtils)\n",
    "\n",
    "\n",
    "# read and save data\n",
    "stt = time.time()\n",
    "\n",
    "newDat = nu.readOnly(ser1, maxTime=5, saveData=True, dataDir = dataDir, timeout = 600*2)\n",
    "\n",
    "print(time.time() - stt)\n",
    "newDat.head()\n",
    "\n",
    "newDat['timestamp'] = pd.to_datetime(newDat['timestamp'])\n",
    "newDat['delta'] = (newDat['timestamp']-newDat['timestamp'].shift()).fillna(pd.Timedelta(seconds=0))\n",
    "\n",
    "newDat.plot(y=['top_sensor', 'mid_sensor', 'base_sensor'], x = \"timestamp\", style='-', figsize=np.array([15, 5]))\n",
    "\n",
    "plt.scatter(y=newDat['top_sensor'], x = newDat[\"timestamp\"])\n",
    "plt.vlines(newDat[newDat.notes == \"reward Triggered\"][\"timestamp\"], ymin = 0, ymax = 1000, label = \"reward\")\n",
    "\n",
    "#newDat.plot(y=['delta'], x = \"timestamp\", style='-')"
   ]
  },
  {
   "cell_type": "code",
   "execution_count": null,
   "metadata": {},
   "outputs": [],
   "source": [
    "newDat.plot(y=['top_sensor', 'mid_sensor', 'base_sensor'], x = \"timestamp\", style='-', figsize=np.array([15, 5]))\n",
    "\n",
    "plt.scatter(y=newDat['top_sensor'], x = newDat[\"timestamp\"])\n",
    "plt.vlines(newDat[newDat.notes == \"reward Triggered\"][\"timestamp\"], ymin = 0, ymax = 1000, label = \"reward\")\n",
    "plt.hlines(y = 150, xmin = np.min(newDat[\"timestamp\"]), xmax = np.max(newDat[\"timestamp\"]), label = \"thresh\")"
   ]
  },
  {
   "cell_type": "code",
   "execution_count": null,
   "metadata": {},
   "outputs": [],
   "source": []
  },
  {
   "cell_type": "code",
   "execution_count": null,
   "metadata": {},
   "outputs": [],
   "source": []
  },
  {
   "cell_type": "code",
   "execution_count": null,
   "metadata": {},
   "outputs": [],
   "source": [
    "int.from_bytes(b'b', byteorder='big')"
   ]
  },
  {
   "cell_type": "code",
   "execution_count": null,
   "metadata": {},
   "outputs": [],
   "source": [
    "numSteps = 4\n",
    "[ser1.write(\"b\".encode(\"utf-8\")) for ii in range(numSteps)]"
   ]
  },
  {
   "cell_type": "code",
   "execution_count": null,
   "metadata": {},
   "outputs": [],
   "source": []
  },
  {
   "cell_type": "code",
   "execution_count": null,
   "metadata": {},
   "outputs": [],
   "source": []
  },
  {
   "cell_type": "code",
   "execution_count": null,
   "metadata": {},
   "outputs": [],
   "source": []
  },
  {
   "cell_type": "code",
   "execution_count": null,
   "metadata": {},
   "outputs": [],
   "source": []
  },
  {
   "cell_type": "code",
   "execution_count": null,
   "metadata": {},
   "outputs": [],
   "source": []
  },
  {
   "cell_type": "code",
   "execution_count": null,
   "metadata": {},
   "outputs": [],
   "source": []
  },
  {
   "cell_type": "markdown",
   "metadata": {},
   "source": [
    "\n",
    "# for com7\n",
    "df1[[\"base_sensor\", \"mid_sensor\", \n",
    "     \"top_sensor\", \"limit_1\", \"limit_2\"]] = \\\n",
    "    df1[[\"base_sensor\", \"mid_sensor\", \n",
    "        \"top_sensor\", \"limit_1\", \"limit_2\"]].astype(int)\n",
    "\n",
    "df1.head()"
   ]
  },
  {
   "cell_type": "code",
   "execution_count": null,
   "metadata": {},
   "outputs": [],
   "source": [
    "# for com8, switch base and mid refref, double check\n",
    "tt = readData(ser1, readlen=10, wait_time=0.0, save=True, returnVals = True)\n",
    "df1 = pd.DataFrame(tt, columns=[\"base_sensor\", \"mid_sensor\", \"top_sensor\", \"limit_1\", \"limit_2\", \"timestamp\"])\n",
    "\n",
    "df1[[\"mid_sensor\", \"base_sensor\",\n",
    "     \"top_sensor\", \"limit_1\", \"limit_2\"]] = \\\n",
    "    df1[[\"base_sensor\", \"mid_sensor\", \n",
    "        \"top_sensor\", \"limit_1\", \"limit_2\"]].astype(int)\n",
    "\n",
    "print(df1.shape)\n",
    "df1.head()"
   ]
  },
  {
   "cell_type": "code",
   "execution_count": null,
   "metadata": {},
   "outputs": [],
   "source": [
    "df1.tail()"
   ]
  },
  {
   "cell_type": "code",
   "execution_count": null,
   "metadata": {},
   "outputs": [],
   "source": [
    "#np.array(df1.iloc[:,0].astype(int))"
   ]
  },
  {
   "cell_type": "code",
   "execution_count": null,
   "metadata": {},
   "outputs": [],
   "source": [
    "ax1 = df1.iloc[:, 0:3].plot()\n",
    "lines, labels = ax1.get_legend_handles_labels()\n",
    "ax1.legend(lines, labels, loc='best')  "
   ]
  },
  {
   "cell_type": "code",
   "execution_count": null,
   "metadata": {},
   "outputs": [],
   "source": [
    "plt.plot(df1[[\"base_sensor\", \"mid_sensor\", \n",
    "     \"top_sensor\"]])\n",
    "plt.show()"
   ]
  },
  {
   "cell_type": "code",
   "execution_count": null,
   "metadata": {},
   "outputs": [],
   "source": [
    "plt.plot(np.array(df1.iloc[:,1].astype(int)))"
   ]
  },
  {
   "cell_type": "code",
   "execution_count": null,
   "metadata": {},
   "outputs": [],
   "source": [
    "plt.plot(np.array(df1.iloc[:,2].astype(int)))"
   ]
  },
  {
   "cell_type": "code",
   "execution_count": null,
   "metadata": {},
   "outputs": [],
   "source": [
    "(tt[0, 5])"
   ]
  },
  {
   "cell_type": "code",
   "execution_count": null,
   "metadata": {},
   "outputs": [],
   "source": [
    "# for com7\n",
    "# top sensor\n",
    "tt[:, 2]\n",
    "\n",
    "# mid sensor\n",
    "tt[:, 1]\n",
    "\n",
    "# base sensor\n",
    "tt[:, 0]"
   ]
  },
  {
   "cell_type": "code",
   "execution_count": null,
   "metadata": {},
   "outputs": [],
   "source": [
    "plt.plot(tt[:,2])"
   ]
  },
  {
   "cell_type": "code",
   "execution_count": null,
   "metadata": {},
   "outputs": [],
   "source": [
    "plt.plot(tt)"
   ]
  },
  {
   "cell_type": "code",
   "execution_count": null,
   "metadata": {},
   "outputs": [],
   "source": [
    "#ser1.close()"
   ]
  },
  {
   "cell_type": "code",
   "execution_count": null,
   "metadata": {},
   "outputs": [],
   "source": [
    "def moveToTop(serial_con, cutoff = 650):\n",
    "    # refref: may want to go 1 or two more moves forward after cutoff is passed --- \n",
    "    ## the cutoff is the meniscus\n",
    "    [[topVal, bottomLim, topLim]] = readData(serial_con, 1, 0)[:, [1,3,4]]\n",
    "    print(topVal)\n",
    "    while (topVal > cutoff) and not topLim:\n",
    "        #move forward\n",
    "        ser1.write(\"f\".encode(\"utf-8\"))\n",
    "        \n",
    "        # read data again\n",
    "        [[topVal, bottomLim, topLim]] = readData(serial_con, 1, 0)[:,[1,3,4]]\n",
    "        # rror if limit switch is hit\n",
    "        if topLim:\n",
    "            raise RuntimeError('Hit upper limit switch')\n",
    "        \n",
    "        \n",
    "        \n",
    "        "
   ]
  },
  {
   "cell_type": "code",
   "execution_count": null,
   "metadata": {},
   "outputs": [],
   "source": [
    "# refref: problem -- liquid stays stuck on the sides -- may need to move back slower\n",
    "\n",
    "def moveBack(serial_con, cutoff = 650):\n",
    "    \n",
    "    [[topVal, bottomLim, topLim]] = readData(serial_con, 1, 0)[:, [1,3,4]]\n",
    "    \n",
    "    \n",
    "    while (topVal < cutoff) and not bottomLim:\n",
    "        #move backward\n",
    "        for jj in range(7):\n",
    "            ser1.write(\"b\".encode(\"utf-8\"))\n",
    "            time.sleep(0.3)\n",
    "        \n",
    "        # read data again\n",
    "        [[topVal, bottomLim, topLim]] = readData(serial_con, 1, 0)[:, [1,3,4]]\n",
    "        # rror if limit switch is hit\n",
    "        if bottomLim:\n",
    "            raise RuntimeError('Hit lower limit switch')"
   ]
  },
  {
   "cell_type": "code",
   "execution_count": null,
   "metadata": {},
   "outputs": [],
   "source": [
    "readData(ser1, 1, 0)"
   ]
  },
  {
   "cell_type": "code",
   "execution_count": null,
   "metadata": {},
   "outputs": [],
   "source": [
    "moveToTop(ser1)\n",
    "readData(ser1, 1, 0)"
   ]
  },
  {
   "cell_type": "code",
   "execution_count": null,
   "metadata": {},
   "outputs": [],
   "source": [
    "moveBack(ser1)\n",
    "readData(ser1, 1, 0)"
   ]
  },
  {
   "cell_type": "code",
   "execution_count": null,
   "metadata": {},
   "outputs": [],
   "source": [
    "ser1.write(\"f\".encode(\"utf-8\"))"
   ]
  },
  {
   "cell_type": "code",
   "execution_count": null,
   "metadata": {},
   "outputs": [],
   "source": [
    "[[vals, bottomLim, topLim]] = readData(ser1, 1, 0)[:, 2:]"
   ]
  },
  {
   "cell_type": "code",
   "execution_count": null,
   "metadata": {},
   "outputs": [],
   "source": [
    "readData(ser1, 1, 0)[:, 2:]"
   ]
  },
  {
   "cell_type": "code",
   "execution_count": null,
   "metadata": {},
   "outputs": [],
   "source": [
    "toplim = 1"
   ]
  },
  {
   "cell_type": "code",
   "execution_count": null,
   "metadata": {},
   "outputs": [],
   "source": [
    "not toplim"
   ]
  },
  {
   "cell_type": "markdown",
   "metadata": {},
   "source": [
    "for ii in range(20): \n",
    "    written = ser1.write(\"f\".encode(\"utf-8\"))\n",
    "\n",
    "\n",
    "ser1.write(\"f\".encode(\"utf-8\"))\n",
    "\n",
    "for ii in range(100): \n",
    "    written = ser1.write(\"b\".encode(\"utf-8\"))\n",
    "\n",
    "\"c\".encode(\"utf-8\")\n",
    "int.from_bytes(b'c', byteorder='big') # this is what the arduino will see\n",
    "\n",
    "int.from_bytes(b'c', byteorder='big')\n",
    "\n",
    "ser1.write(\"c\".encode(\"utf-8\"))"
   ]
  },
  {
   "cell_type": "code",
   "execution_count": null,
   "metadata": {},
   "outputs": [],
   "source": []
  }
 ],
 "metadata": {
  "kernelspec": {
   "display_name": "NectarLearning",
   "language": "python",
   "name": "nectarlearning"
  },
  "language_info": {
   "codemirror_mode": {
    "name": "ipython",
    "version": 3
   },
   "file_extension": ".py",
   "mimetype": "text/x-python",
   "name": "python",
   "nbconvert_exporter": "python",
   "pygments_lexer": "ipython3",
   "version": "3.6.6"
  }
 },
 "nbformat": 4,
 "nbformat_minor": 2
}
