{
 "cells": [
  {
   "cell_type": "markdown",
   "metadata": {},
   "source": [
    "### Code for running experiment\n",
    "### Callin Switzer\n",
    "### 21 Feb 2019"
   ]
  },
  {
   "cell_type": "code",
   "execution_count": 3,
   "metadata": {},
   "outputs": [],
   "source": [
    "import nectarUtils\n",
    "from nectarUtils import *\n",
    "import nectarUtils as nu\n",
    "\n",
    "import importlib\n"
   ]
  },
  {
   "cell_type": "code",
   "execution_count": 5,
   "metadata": {
    "collapsed": false
   },
   "outputs": [
    {
     "name": "stdout",
     "output_type": "stream",
     "text": [
      "3.6.6 | packaged by conda-forge | (default, Jul 26 2018, 11:48:23) [MSC v.1900 64 bit (AMD64)]\n",
      "C:\\Users\\Combes4\\Anaconda2\\envs\\NectarLearning\\python.exe\n"
     ]
    }
   ],
   "source": [
    "%matplotlib inline\n",
    "print(sys.version)\n",
    "print(sys.executable)"
   ]
  },
  {
   "cell_type": "code",
   "execution_count": 6,
   "metadata": {},
   "outputs": [],
   "source": [
    "# define directories\n",
    "baseDir = os.getcwd()\n",
    "\n",
    "# may want to make this directory somewhere else, if dropbox becomes a problem\n",
    "dataDir = r\"D:\\Dropbox\\AcademiaDropbox\\UW\\BeeDecisionProject\\NectarData\"\n",
    "if not os.path.isdir(dataDir):\n",
    "    os.mkdir(dataDir)\n",
    "\n",
    "figDir = r\"D:\\Dropbox\\AcademiaDropbox\\UW\\BeeDecisionProject\\NectarFigs\"\n",
    "if not os.path.isdir(figDir):\n",
    "    os.mkdir(figDir)"
   ]
  },
  {
   "cell_type": "code",
   "execution_count": 7,
   "metadata": {
    "collapsed": false
   },
   "outputs": [
    {
     "data": {
      "text/plain": [
       "['COM8']"
      ]
     },
     "execution_count": 7,
     "metadata": {},
     "output_type": "execute_result"
    }
   ],
   "source": [
    "# list serial ports\n",
    "nu.serial_ports()"
   ]
  },
  {
   "cell_type": "code",
   "execution_count": 8,
   "metadata": {
    "collapsed": false
   },
   "outputs": [
    {
     "name": "stdout",
     "output_type": "stream",
     "text": [
      "connected to arduino on COM8\n"
     ]
    },
    {
     "data": {
      "text/plain": [
       "' Setup complete\\r\\n'"
      ]
     },
     "execution_count": 8,
     "metadata": {},
     "output_type": "execute_result"
    }
   ],
   "source": [
    "# connect to com8\n",
    "PORT1 = \"COM8\"\n",
    "connected1 = False\n",
    "if \"ser1\" in globals():\n",
    "    ser1.close()\n",
    "ser1 = serial.Serial(PORT1,9600, timeout=1.0) # stop if no data comes in 1 second\n",
    "while not connected1:\n",
    "    serin1 = ser1.read()\n",
    "    connected1 = True\n",
    "    print(\"connected to arduino on \" + PORT1)\n",
    "str(ser1.readline().decode(\"UTF-8\"))    "
   ]
  },
  {
   "cell_type": "code",
   "execution_count": 501,
   "metadata": {},
   "outputs": [
    {
     "name": "stdin",
     "output_type": "stream",
     "text": [
      "Is nectar at the end of the tube, and the tube inserted correctly? [y/n]  y\n"
     ]
    },
    {
     "name": "stdout",
     "output_type": "stream",
     "text": [
      "{'base': 321, 'mid': 383}\n"
     ]
    },
    {
     "data": {
      "image/png": "[encoded data removed]",
      "text/plain": [
       "<Figure size 432x288 with 1 Axes>"
      ]
     },
     "metadata": {
      "needs_background": "light"
     },
     "output_type": "display_data"
    }
   ],
   "source": [
    "# reload package if changed\n",
    "_ = importlib.reload(nectarUtils)\n",
    "\n",
    "calb = nu.calibrate(ser1)"
   ]
  },
  {
   "cell_type": "code",
   "execution_count": 497,
   "metadata": {},
   "outputs": [
    {
     "data": {
      "text/plain": [
       "{'base': 325, 'mid': 408}"
      ]
     },
     "execution_count": 497,
     "metadata": {},
     "output_type": "execute_result"
    }
   ],
   "source": [
    "calb"
   ]
  },
  {
   "cell_type": "code",
   "execution_count": 496,
   "metadata": {},
   "outputs": [
    {
     "data": {
      "text/plain": [
       "3"
      ]
     },
     "execution_count": 496,
     "metadata": {},
     "output_type": "execute_result"
    }
   ],
   "source": [
    "ser1.write(\"\".encode(\"utf-8\"))"
   ]
  },
  {
   "cell_type": "code",
   "execution_count": 206,
   "metadata": {},
   "outputs": [
    {
     "data": {
      "text/html": [
       "<div>\n",
       "<style scoped>\n",
       "    .dataframe tbody tr th:only-of-type {\n",
       "        vertical-align: middle;\n",
       "    }\n",
       "\n",
       "    .dataframe tbody tr th {\n",
       "        vertical-align: top;\n",
       "    }\n",
       "\n",
       "    .dataframe thead th {\n",
       "        text-align: right;\n",
       "    }\n",
       "</style>\n",
       "<table border=\"1\" class=\"dataframe\">\n",
       "  <thead>\n",
       "    <tr style=\"text-align: right;\">\n",
       "      <th></th>\n",
       "      <th>a</th>\n",
       "      <th>b</th>\n",
       "      <th>c</th>\n",
       "      <th>d</th>\n",
       "      <th>e</th>\n",
       "      <th>f</th>\n",
       "      <th>timestamp</th>\n",
       "    </tr>\n",
       "  </thead>\n",
       "  <tbody>\n",
       "    <tr>\n",
       "      <th>0</th>\n",
       "      <td>182</td>\n",
       "      <td>141</td>\n",
       "      <td>158</td>\n",
       "      <td>0</td>\n",
       "      <td>0</td>\n",
       "      <td>2019-03-07 14:35:17.683530</td>\n",
       "      <td>2019-03-07 14:35:17.683530</td>\n",
       "    </tr>\n",
       "    <tr>\n",
       "      <th>1</th>\n",
       "      <td>182</td>\n",
       "      <td>141</td>\n",
       "      <td>158</td>\n",
       "      <td>0</td>\n",
       "      <td>0</td>\n",
       "      <td>2019-03-07 14:35:17.773083</td>\n",
       "      <td>2019-03-07 14:35:17.773083</td>\n",
       "    </tr>\n",
       "    <tr>\n",
       "      <th>2</th>\n",
       "      <td>182</td>\n",
       "      <td>141</td>\n",
       "      <td>158</td>\n",
       "      <td>0</td>\n",
       "      <td>0</td>\n",
       "      <td>2019-03-07 14:35:17.873252</td>\n",
       "      <td>2019-03-07 14:35:17.873252</td>\n",
       "    </tr>\n",
       "    <tr>\n",
       "      <th>3</th>\n",
       "      <td>182</td>\n",
       "      <td>141</td>\n",
       "      <td>158</td>\n",
       "      <td>0</td>\n",
       "      <td>0</td>\n",
       "      <td>2019-03-07 14:35:17.973105</td>\n",
       "      <td>2019-03-07 14:35:17.973105</td>\n",
       "    </tr>\n",
       "    <tr>\n",
       "      <th>4</th>\n",
       "      <td>182</td>\n",
       "      <td>141</td>\n",
       "      <td>158</td>\n",
       "      <td>0</td>\n",
       "      <td>0</td>\n",
       "      <td>2019-03-07 14:35:18.073459</td>\n",
       "      <td>2019-03-07 14:35:18.073459</td>\n",
       "    </tr>\n",
       "  </tbody>\n",
       "</table>\n",
       "</div>"
      ],
      "text/plain": [
       "     a    b    c  d  e                           f                  timestamp\n",
       "0  182  141  158  0  0  2019-03-07 14:35:17.683530 2019-03-07 14:35:17.683530\n",
       "1  182  141  158  0  0  2019-03-07 14:35:17.773083 2019-03-07 14:35:17.773083\n",
       "2  182  141  158  0  0  2019-03-07 14:35:17.873252 2019-03-07 14:35:17.873252\n",
       "3  182  141  158  0  0  2019-03-07 14:35:17.973105 2019-03-07 14:35:17.973105\n",
       "4  182  141  158  0  0  2019-03-07 14:35:18.073459 2019-03-07 14:35:18.073459"
      ]
     },
     "execution_count": 206,
     "metadata": {},
     "output_type": "execute_result"
    }
   ],
   "source": [
    "calb.head()"
   ]
  },
  {
   "cell_type": "code",
   "execution_count": 228,
   "metadata": {},
   "outputs": [
    {
     "data": {
      "text/plain": [
       "<matplotlib.axes._subplots.AxesSubplot at 0x1d2bf11c630>"
      ]
     },
     "execution_count": 228,
     "metadata": {},
     "output_type": "execute_result"
    },
    {
     "data": {
      "image/png": "[encoded data removed]",
      "text/plain": [
       "<Figure size 1080x360 with 1 Axes>"
      ]
     },
     "metadata": {
      "needs_background": "light"
     },
     "output_type": "display_data"
    }
   ],
   "source": [
    "calb.plot(y=['a', 'b', 'c', 'd', 'e'], x = \"timestamp\", style='-', figsize=np.array([15, 5]))"
   ]
  },
  {
   "cell_type": "code",
   "execution_count": 231,
   "metadata": {},
   "outputs": [],
   "source": []
  },
  {
   "cell_type": "code",
   "execution_count": 304,
   "metadata": {},
   "outputs": [
    {
     "name": "stdout",
     "output_type": "stream",
     "text": [
      "{'base': 302, 'mid': 405}\n"
     ]
    },
    {
     "data": {
      "image/png": "[encoded data removed]",
      "text/plain": [
       "<Figure size 432x288 with 1 Axes>"
      ]
     },
     "metadata": {
      "needs_background": "light"
     },
     "output_type": "display_data"
    }
   ],
   "source": [
    "onsets = np.zeros(calb.shape[1]-2, dtype = 'int')\n",
    "calb.columns = ['a', 'b', 'c', 'd', 'e', \"time\", \"timestamp\"]\n",
    "\n",
    "for jj in range(calb.shape[1] - 2):\n",
    "\n",
    "    dat = calb.iloc[:, jj].rolling(window=3, min_periods = 1, center = True).var()\n",
    "    peaks, hts = find_peaks(dat, height=100)\n",
    "    #print(calb.columns[jj])\n",
    "    if(peaks.shape[0] > 0):\n",
    "        onsets[jj] = int(peaks[np.argmax(hts['peak_heights'])])\n",
    "        #dat.plot()\n",
    "        #plt.scatter(x = peaks[np.argmax(hts['peak_heights'])], y = hts[\"peak_heights\"][np.argmax(hts['peak_heights'])])\n",
    "#         calb.plot(y=['a', 'b', 'c', 'd', 'e'], style='-')\n",
    "#         plt.vlines(x = peaks[np.argmax(hts['peak_heights'])], ymin = 0, ymax = 700)\n",
    "#         plt.show()\n",
    "    \n",
    "medVals = [np.median(calb.iloc[:,jj]) for jj in range(5)]\n",
    "\n",
    "columns = np.zeros(5, dtype = 'object')\n",
    "columns[onsets.argsort()[3]], columns[onsets.argsort()[4]] = \"mid\", \"base\"\n",
    "columns[(columns != \"mid\") & (columns !=\"base\") & (np.array(medVals) > 2)] = \"top\"\n",
    "columns[columns == 0] = \"limit\"\n",
    "\n",
    "columns = np.hstack([columns, [\"time_S\", \"time\"]])\n",
    "\n",
    "calb.columns = columns\n",
    "calb.head()\n",
    "calb.plot(y=['top', 'mid', 'base'], style='-')\n",
    "\n",
    "kmc = KMeans(n_clusters = 2)\n",
    "ctr2 = 0\n",
    "colors = [\"red\", 'blue']\n",
    "decBounds = {\"base\": \"\", \"mid\": \"\"}\n",
    "for location in [\"base\", \"mid\"]:\n",
    "    classes = kmc.fit_predict(np.array(calb[location]).reshape(-1, 1))\n",
    "    decBound = np.abs(np.median(np.array(calb[location])[classes == 1]) - \n",
    "                      np.median(np.array(calb[location])[classes == 0])).astype(int)\n",
    "    decBounds[location] = decBound\n",
    "    plt.plot(calb[location][classes == 0], 'bo', label = \"\")\n",
    "    plt.plot(calb[location][classes == 1], 'ro', label = \"\")\n",
    "    plt.hlines(y = decBound, xmin = 0, xmax = calb.shape[0], \n",
    "               linestyle = \"--\", color = colors[ctr2], label = \"dec. bound. -\" + str(location))\n",
    "    ctr2 += 1\n",
    "plt.ylabel(\"sensor light reading\")\n",
    "plt.xlabel(\"sample number\")\n",
    "plt.legend(loc='upper center', bbox_to_anchor=(0.5, 1.2),\n",
    "          fancybox=True, shadow=True, ncol=5)\n",
    "print(decBounds)"
   ]
  },
  {
   "cell_type": "code",
   "execution_count": 298,
   "metadata": {},
   "outputs": [
    {
     "data": {
      "text/plain": [
       "<matplotlib.legend.Legend at 0x1d2bfbc4b70>"
      ]
     },
     "execution_count": 298,
     "metadata": {},
     "output_type": "execute_result"
    },
    {
     "data": {
      "image/png": "[encoded data removed]",
      "text/plain": [
       "<Figure size 432x288 with 1 Axes>"
      ]
     },
     "metadata": {
      "needs_background": "light"
     },
     "output_type": "display_data"
    }
   ],
   "source": [
    "onsets = np.zeros(calb.shape[1]-2, dtype = 'int')\n",
    "calb.columns = ['a', 'b', 'c', 'd', 'e', \"time\", \"timestamp\"]\n",
    "\n",
    "for jj in range(calb.shape[1] - 2):\n",
    "\n",
    "    dat = calb.iloc[:, jj].rolling(window=3, min_periods = 1, center = True).var()\n",
    "    peaks, hts = find_peaks(dat, height=100)\n",
    "    #print(calb.columns[jj])\n",
    "    if(peaks.shape[0] > 0):\n",
    "        onsets[jj] = int(peaks[np.argmax(hts['peak_heights'])])\n",
    "        #dat.plot()\n",
    "        #plt.scatter(x = peaks[np.argmax(hts['peak_heights'])], y = hts[\"peak_heights\"][np.argmax(hts['peak_heights'])])\n",
    "#         calb.plot(y=['a', 'b', 'c', 'd', 'e'], style='-')\n",
    "#         plt.vlines(x = peaks[np.argmax(hts['peak_heights'])], ymin = 0, ymax = 700)\n",
    "#         plt.show()\n",
    "    \n",
    "medVals = [np.median(calb.iloc[:,jj]) for jj in range(5)]\n",
    "\n",
    "columns = np.zeros(5, dtype = 'object')\n",
    "columns[onsets.argsort()[3]], columns[onsets.argsort()[4]] = \"mid\", \"base\"\n",
    "columns[(columns != \"mid\") & (columns !=\"base\") & (np.array(medVals) > 2)] = \"top\"\n",
    "columns[columns == 0] = \"limit\"\n",
    "\n",
    "columns = np.hstack([columns, [\"time_S\", \"time\"]])\n",
    "\n",
    "calb.columns = columns\n",
    "calb.head()\n",
    "calb.plot(y=['top', 'mid', 'base'], style='-')\n",
    "\n",
    "\n",
    "from sklearn.cluster import DBSCAN\n",
    "kmc = KMeans(n_clusters = 2)\n",
    "\n",
    "#kmc = DBSCAN(eps = 10)\n",
    "ctr2 = 0\n",
    "colors = [\"red\", 'blue']\n",
    "for location in [\"base\", \"mid\"]:\n",
    "    classes = kmc.fit_predict(np.array(calb[location]).reshape(-1, 1))\n",
    "    decBound = np.abs(np.median(np.array(calb[location])[classes == 1]) - \n",
    "                      np.median(np.array(calb[location])[classes == 0]))\n",
    "    plt.plot(calb[location][classes == 0], 'bo', label = \"\")\n",
    "    plt.plot(calb[location][classes == 1], 'ro', label = \"\")\n",
    "    plt.hlines(y = decBound, xmin = 0, xmax = calb.shape[0], \n",
    "               linestyle = \"--\", color = colors[ctr2], label = \"decision boundary -\" + str(location))\n",
    "    ctr2 += 1\n",
    "plt.ylabel(\"sensor light reading\")\n",
    "plt.xlabel(\"sample number\")\n",
    "plt.legend(loc='upper center', bbox_to_anchor=(0.5, 1.2),\n",
    "          fancybox=True, shadow=True, ncol=5)"
   ]
  },
  {
   "cell_type": "code",
   "execution_count": 284,
   "metadata": {},
   "outputs": [
    {
     "ename": "ValueError",
     "evalue": "invalid literal for int() with base 10: 'cldh'",
     "output_type": "error",
     "traceback": [
      "\u001b[1;31m---------------------------------------------------------------------------\u001b[0m",
      "\u001b[1;31mValueError\u001b[0m                                Traceback (most recent call last)",
      "\u001b[1;32m<ipython-input-284-91570c619a75>\u001b[0m in \u001b[0;36m<module>\u001b[1;34m\u001b[0m\n\u001b[1;32m----> 1\u001b[1;33m \u001b[0mint\u001b[0m\u001b[1;33m(\u001b[0m\u001b[1;34m\"cldh\"\u001b[0m\u001b[1;33m)\u001b[0m\u001b[1;33m\u001b[0m\u001b[0m\n\u001b[0m",
      "\u001b[1;31mValueError\u001b[0m: invalid literal for int() with base 10: 'cldh'"
     ]
    }
   ],
   "source": []
  },
  {
   "cell_type": "code",
   "execution_count": 264,
   "metadata": {},
   "outputs": [
    {
     "data": {
      "image/png": "[encoded data removed]",
      "text/plain": [
       "<Figure size 432x288 with 1 Axes>"
      ]
     },
     "metadata": {
      "needs_background": "light"
     },
     "output_type": "display_data"
    }
   ],
   "source": [
    "# 2 find clusters for sensors\n",
    "# 1 label sensors automatically (first one to move is middle, second is base), no movement is top\n",
    "kmc = KMeans(n_clusters = 2)\n",
    "for location in [\"base\", \"mid\"]:\n",
    "    classes = kmc.fit_predict(np.array(calb[location]).reshape(-1, 1))\n",
    "    decBound = np.abs(np.median(np.array(calb[location])[classes == 1]) - \n",
    "                      np.median(np.array(calb[location])[classes == 0]))\n",
    "    plt.plot(calb[location][classes == 0])\n",
    "    plt.plot(calb[location][classes == 1])\n",
    "    plt.hlines(y = decBound, xmin = 0, xmax = calb.shape[0])"
   ]
  },
  {
   "cell_type": "code",
   "execution_count": 239,
   "metadata": {},
   "outputs": [
    {
     "data": {
      "text/plain": [
       "<matplotlib.collections.LineCollection at 0x1d2bf9adf98>"
      ]
     },
     "execution_count": 239,
     "metadata": {},
     "output_type": "execute_result"
    },
    {
     "data": {
      "image/png": "[encoded data removed]",
      "text/plain": [
       "<Figure size 432x288 with 1 Axes>"
      ]
     },
     "metadata": {
      "needs_background": "light"
     },
     "output_type": "display_data"
    }
   ],
   "source": [
    "plt.plot(calb[\"base\"][classes == 0])\n",
    "plt.plot(calb[\"base\"][classes == 1])\n",
    "plt.hlines(y = decBound, xmin = 0, xmax = calb.shape[0])"
   ]
  },
  {
   "cell_type": "code",
   "execution_count": null,
   "metadata": {},
   "outputs": [],
   "source": []
  },
  {
   "cell_type": "code",
   "execution_count": null,
   "metadata": {},
   "outputs": [],
   "source": []
  },
  {
   "cell_type": "code",
   "execution_count": null,
   "metadata": {},
   "outputs": [],
   "source": []
  },
  {
   "cell_type": "code",
   "execution_count": null,
   "metadata": {},
   "outputs": [],
   "source": []
  },
  {
   "cell_type": "code",
   "execution_count": null,
   "metadata": {},
   "outputs": [],
   "source": []
  },
  {
   "cell_type": "code",
   "execution_count": null,
   "metadata": {},
   "outputs": [],
   "source": []
  },
  {
   "cell_type": "code",
   "execution_count": null,
   "metadata": {},
   "outputs": [],
   "source": [
    "# reload package if changed\n",
    "_ = importlib.reload(nectarUtils)\n",
    "\n",
    "\n",
    "# read and save data\n",
    "stt = time.time()\n",
    "\n",
    "newDat = nu.readAndSave(ser1, maxTime=600*2, saveData=True, dataDir = dataDir, timeout = 600*2, minRewardThreshold = 170)\n",
    "\n",
    "print(time.time() - stt)\n",
    "newDat.head()\n",
    "\n",
    "newDat['timestamp'] = pd.to_datetime(newDat['timestamp'])\n",
    "newDat['delta'] = (newDat['timestamp']-newDat['timestamp'].shift()).fillna(pd.Timedelta(seconds=0))\n",
    "\n",
    "newDat.plot(y=['top_sensor', 'mid_sensor', 'base_sensor'], x = \"timestamp\", style='-', figsize=np.array([15, 5]))\n",
    "\n",
    "plt.scatter(y=newDat['top_sensor'], x = newDat[\"timestamp\"])\n",
    "plt.vlines(newDat[newDat.notes == \"reward Triggered\"][\"timestamp\"], ymin = 0, ymax = 1000, label = \"reward\")\n",
    "\n",
    "#newDat.plot(y=['delta'], x = \"timestamp\", style='-')"
   ]
  },
  {
   "cell_type": "code",
   "execution_count": null,
   "metadata": {},
   "outputs": [],
   "source": [
    "# reload package if changed\n",
    "_ = importlib.reload(nectarUtils)\n",
    "\n",
    "\n",
    "# read and save data\n",
    "stt = time.time()\n",
    "\n",
    "newDat = nu.readOnly(ser1, maxTime=5, saveData=True, dataDir = dataDir, timeout = 600*2)\n",
    "\n",
    "print(time.time() - stt)\n",
    "newDat.head()\n",
    "\n",
    "newDat['timestamp'] = pd.to_datetime(newDat['timestamp'])\n",
    "newDat['delta'] = (newDat['timestamp']-newDat['timestamp'].shift()).fillna(pd.Timedelta(seconds=0))\n",
    "\n",
    "newDat.plot(y=['top_sensor', 'mid_sensor', 'base_sensor'], x = \"timestamp\", style='-', figsize=np.array([15, 5]))\n",
    "\n",
    "plt.scatter(y=newDat['top_sensor'], x = newDat[\"timestamp\"])\n",
    "plt.vlines(newDat[newDat.notes == \"reward Triggered\"][\"timestamp\"], ymin = 0, ymax = 1000, label = \"reward\")\n",
    "\n",
    "#newDat.plot(y=['delta'], x = \"timestamp\", style='-')"
   ]
  },
  {
   "cell_type": "code",
   "execution_count": null,
   "metadata": {},
   "outputs": [],
   "source": [
    "newDat.plot(y=['top_sensor', 'mid_sensor', 'base_sensor'], x = \"timestamp\", style='-', figsize=np.array([15, 5]))\n",
    "\n",
    "plt.scatter(y=newDat['top_sensor'], x = newDat[\"timestamp\"])\n",
    "plt.vlines(newDat[newDat.notes == \"reward Triggered\"][\"timestamp\"], ymin = 0, ymax = 1000, label = \"reward\")\n",
    "plt.hlines(y = 150, xmin = np.min(newDat[\"timestamp\"]), xmax = np.max(newDat[\"timestamp\"]), label = \"thresh\")"
   ]
  },
  {
   "cell_type": "code",
   "execution_count": null,
   "metadata": {},
   "outputs": [],
   "source": []
  },
  {
   "cell_type": "code",
   "execution_count": null,
   "metadata": {},
   "outputs": [],
   "source": []
  },
  {
   "cell_type": "code",
   "execution_count": null,
   "metadata": {},
   "outputs": [],
   "source": [
    "int.from_bytes(b'b', byteorder='big')"
   ]
  },
  {
   "cell_type": "code",
   "execution_count": null,
   "metadata": {},
   "outputs": [],
   "source": [
    "numSteps = 4\n",
    "[ser1.write(\"b\".encode(\"utf-8\")) for ii in range(numSteps)]"
   ]
  },
  {
   "cell_type": "code",
   "execution_count": null,
   "metadata": {},
   "outputs": [],
   "source": []
  },
  {
   "cell_type": "code",
   "execution_count": null,
   "metadata": {},
   "outputs": [],
   "source": []
  },
  {
   "cell_type": "code",
   "execution_count": null,
   "metadata": {},
   "outputs": [],
   "source": []
  },
  {
   "cell_type": "code",
   "execution_count": null,
   "metadata": {},
   "outputs": [],
   "source": []
  },
  {
   "cell_type": "code",
   "execution_count": null,
   "metadata": {},
   "outputs": [],
   "source": []
  },
  {
   "cell_type": "code",
   "execution_count": null,
   "metadata": {},
   "outputs": [],
   "source": []
  },
  {
   "cell_type": "markdown",
   "metadata": {},
   "source": [
    "\n",
    "# for com7\n",
    "df1[[\"base_sensor\", \"mid_sensor\", \n",
    "     \"top_sensor\", \"limit_1\", \"limit_2\"]] = \\\n",
    "    df1[[\"base_sensor\", \"mid_sensor\", \n",
    "        \"top_sensor\", \"limit_1\", \"limit_2\"]].astype(int)\n",
    "\n",
    "df1.head()"
   ]
  },
  {
   "cell_type": "code",
   "execution_count": null,
   "metadata": {},
   "outputs": [],
   "source": [
    "# for com8, switch base and mid refref, double check\n",
    "tt = readData(ser1, readlen=10, wait_time=0.0, save=True, returnVals = True)\n",
    "df1 = pd.DataFrame(tt, columns=[\"base_sensor\", \"mid_sensor\", \"top_sensor\", \"limit_1\", \"limit_2\", \"timestamp\"])\n",
    "\n",
    "df1[[\"mid_sensor\", \"base_sensor\",\n",
    "     \"top_sensor\", \"limit_1\", \"limit_2\"]] = \\\n",
    "    df1[[\"base_sensor\", \"mid_sensor\", \n",
    "        \"top_sensor\", \"limit_1\", \"limit_2\"]].astype(int)\n",
    "\n",
    "print(df1.shape)\n",
    "df1.head()"
   ]
  },
  {
   "cell_type": "code",
   "execution_count": null,
   "metadata": {},
   "outputs": [],
   "source": [
    "df1.tail()"
   ]
  },
  {
   "cell_type": "code",
   "execution_count": null,
   "metadata": {},
   "outputs": [],
   "source": [
    "#np.array(df1.iloc[:,0].astype(int))"
   ]
  },
  {
   "cell_type": "code",
   "execution_count": null,
   "metadata": {},
   "outputs": [],
   "source": [
    "ax1 = df1.iloc[:, 0:3].plot()\n",
    "lines, labels = ax1.get_legend_handles_labels()\n",
    "ax1.legend(lines, labels, loc='best')  "
   ]
  },
  {
   "cell_type": "code",
   "execution_count": null,
   "metadata": {},
   "outputs": [],
   "source": [
    "plt.plot(df1[[\"base_sensor\", \"mid_sensor\", \n",
    "     \"top_sensor\"]])\n",
    "plt.show()"
   ]
  },
  {
   "cell_type": "code",
   "execution_count": null,
   "metadata": {},
   "outputs": [],
   "source": [
    "plt.plot(np.array(df1.iloc[:,1].astype(int)))"
   ]
  },
  {
   "cell_type": "code",
   "execution_count": null,
   "metadata": {},
   "outputs": [],
   "source": [
    "plt.plot(np.array(df1.iloc[:,2].astype(int)))"
   ]
  },
  {
   "cell_type": "code",
   "execution_count": null,
   "metadata": {},
   "outputs": [],
   "source": [
    "(tt[0, 5])"
   ]
  },
  {
   "cell_type": "code",
   "execution_count": null,
   "metadata": {},
   "outputs": [],
   "source": [
    "# for com7\n",
    "# top sensor\n",
    "tt[:, 2]\n",
    "\n",
    "# mid sensor\n",
    "tt[:, 1]\n",
    "\n",
    "# base sensor\n",
    "tt[:, 0]"
   ]
  },
  {
   "cell_type": "code",
   "execution_count": null,
   "metadata": {},
   "outputs": [],
   "source": [
    "plt.plot(tt[:,2])"
   ]
  },
  {
   "cell_type": "code",
   "execution_count": null,
   "metadata": {},
   "outputs": [],
   "source": [
    "plt.plot(tt)"
   ]
  },
  {
   "cell_type": "code",
   "execution_count": null,
   "metadata": {},
   "outputs": [],
   "source": [
    "#ser1.close()"
   ]
  },
  {
   "cell_type": "code",
   "execution_count": null,
   "metadata": {},
   "outputs": [],
   "source": [
    "def moveToTop(serial_con, cutoff = 650):\n",
    "    # refref: may want to go 1 or two more moves forward after cutoff is passed --- \n",
    "    ## the cutoff is the meniscus\n",
    "    [[topVal, bottomLim, topLim]] = readData(serial_con, 1, 0)[:, [1,3,4]]\n",
    "    print(topVal)\n",
    "    while (topVal > cutoff) and not topLim:\n",
    "        #move forward\n",
    "        ser1.write(\"f\".encode(\"utf-8\"))\n",
    "        \n",
    "        # read data again\n",
    "        [[topVal, bottomLim, topLim]] = readData(serial_con, 1, 0)[:,[1,3,4]]\n",
    "        # rror if limit switch is hit\n",
    "        if topLim:\n",
    "            raise RuntimeError('Hit upper limit switch')\n",
    "        \n",
    "        \n",
    "        \n",
    "        "
   ]
  },
  {
   "cell_type": "code",
   "execution_count": null,
   "metadata": {},
   "outputs": [],
   "source": [
    "# refref: problem -- liquid stays stuck on the sides -- may need to move back slower\n",
    "\n",
    "def moveBack(serial_con, cutoff = 650):\n",
    "    \n",
    "    [[topVal, bottomLim, topLim]] = readData(serial_con, 1, 0)[:, [1,3,4]]\n",
    "    \n",
    "    \n",
    "    while (topVal < cutoff) and not bottomLim:\n",
    "        #move backward\n",
    "        for jj in range(7):\n",
    "            ser1.write(\"b\".encode(\"utf-8\"))\n",
    "            time.sleep(0.3)\n",
    "        \n",
    "        # read data again\n",
    "        [[topVal, bottomLim, topLim]] = readData(serial_con, 1, 0)[:, [1,3,4]]\n",
    "        # rror if limit switch is hit\n",
    "        if bottomLim:\n",
    "            raise RuntimeError('Hit lower limit switch')"
   ]
  },
  {
   "cell_type": "code",
   "execution_count": null,
   "metadata": {},
   "outputs": [],
   "source": [
    "readData(ser1, 1, 0)"
   ]
  },
  {
   "cell_type": "code",
   "execution_count": null,
   "metadata": {},
   "outputs": [],
   "source": [
    "moveToTop(ser1)\n",
    "readData(ser1, 1, 0)"
   ]
  },
  {
   "cell_type": "code",
   "execution_count": null,
   "metadata": {},
   "outputs": [],
   "source": [
    "moveBack(ser1)\n",
    "readData(ser1, 1, 0)"
   ]
  },
  {
   "cell_type": "code",
   "execution_count": null,
   "metadata": {},
   "outputs": [],
   "source": [
    "ser1.write(\"f\".encode(\"utf-8\"))"
   ]
  },
  {
   "cell_type": "code",
   "execution_count": null,
   "metadata": {},
   "outputs": [],
   "source": [
    "[[vals, bottomLim, topLim]] = readData(ser1, 1, 0)[:, 2:]"
   ]
  },
  {
   "cell_type": "code",
   "execution_count": null,
   "metadata": {},
   "outputs": [],
   "source": [
    "readData(ser1, 1, 0)[:, 2:]"
   ]
  },
  {
   "cell_type": "code",
   "execution_count": null,
   "metadata": {},
   "outputs": [],
   "source": [
    "toplim = 1"
   ]
  },
  {
   "cell_type": "code",
   "execution_count": null,
   "metadata": {},
   "outputs": [],
   "source": [
    "not toplim"
   ]
  },
  {
   "cell_type": "markdown",
   "metadata": {},
   "source": [
    "for ii in range(20): \n",
    "    written = ser1.write(\"f\".encode(\"utf-8\"))\n",
    "\n",
    "\n",
    "ser1.write(\"f\".encode(\"utf-8\"))\n",
    "\n",
    "for ii in range(100): \n",
    "    written = ser1.write(\"b\".encode(\"utf-8\"))\n",
    "\n",
    "\"c\".encode(\"utf-8\")\n",
    "int.from_bytes(b'c', byteorder='big') # this is what the arduino will see\n",
    "\n",
    "int.from_bytes(b'c', byteorder='big')\n",
    "\n",
    "ser1.write(\"c\".encode(\"utf-8\"))"
   ]
  },
  {
   "cell_type": "code",
   "execution_count": null,
   "metadata": {},
   "outputs": [],
   "source": []
  }
 ],
 "metadata": {
  "kernelspec": {
   "display_name": "NectarLearning",
   "language": "python",
   "name": "nectarlearning"
  },
  "language_info": {
   "codemirror_mode": {
    "name": "ipython",
    "version": 3
   },
   "file_extension": ".py",
   "mimetype": "text/x-python",
   "name": "python",
   "nbconvert_exporter": "python",
   "pygments_lexer": "ipython3",
   "version": "3.6.6"
  }
 },
 "nbformat": 4,
 "nbformat_minor": 2
}
