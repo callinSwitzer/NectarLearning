{
 "cells": [
  {
   "cell_type": "code",
   "execution_count": 53,
   "metadata": {
    "collapsed": false
   },
   "outputs": [
    {
     "name": "stdout",
     "output_type": "stream",
     "text": [
      "3.6.6 | packaged by conda-forge | (default, Jul 26 2018, 11:48:23) [MSC v.1900 64 bit (AMD64)]\n",
      "C:\\Users\\Combes4\\Anaconda2\\envs\\nectarLearn\\python.exe\n"
     ]
    }
   ],
   "source": [
    "import numpy as np\n",
    "import matplotlib.pyplot as plt\n",
    "% matplotlib inline\n",
    "import pandas as pd\n",
    "import serial\n",
    "\n",
    "import glob\n",
    "import msvcrt\n",
    "\n",
    "import time\n",
    "import os\n",
    "import shutil\n",
    "import sys\n",
    "from datetime import datetime\n",
    "print(sys.version)\n",
    "print(sys.executable)"
   ]
  },
  {
   "cell_type": "code",
   "execution_count": 54,
   "metadata": {
    "collapsed": false
   },
   "outputs": [
    {
     "data": {
      "text/plain": [
       "['COM3', 'COM5']"
      ]
     },
     "execution_count": 54,
     "metadata": {},
     "output_type": "execute_result"
    }
   ],
   "source": [
    "# list ports\n",
    "\n",
    "def serial_ports():\n",
    "    \"\"\" Lists serial port names\n",
    "\n",
    "        :raises EnvironmentError:\n",
    "            On unsupported or unknown platforms\n",
    "        :returns:\n",
    "            A list of the serial ports available on the system\n",
    "    \"\"\"\n",
    "    if sys.platform.startswith('win'):\n",
    "        ports = ['COM%s' % (i + 1) for i in range(256)]\n",
    "    elif sys.platform.startswith('linux') or sys.platform.startswith('cygwin'):\n",
    "        # this excludes your current terminal \"/dev/tty\"\n",
    "        ports = glob.glob('/dev/tty[A-Za-z]*')\n",
    "    elif sys.platform.startswith('darwin'):\n",
    "        ports = glob.glob('/dev/tty.*')\n",
    "    else:\n",
    "        raise EnvironmentError('Unsupported platform')\n",
    "\n",
    "    result = []\n",
    "    for port in ports:\n",
    "        try:\n",
    "            s = serial.Serial(port)\n",
    "            s.close()\n",
    "            result.append(port)\n",
    "        except (OSError, serial.SerialException):\n",
    "            pass\n",
    "    return result\n",
    "\n",
    "\n",
    "# I'm using COM3 and COM5 arduinos\n",
    "# COM4 is for the arduino controlling the cameras\n",
    "serial_ports()"
   ]
  },
  {
   "cell_type": "code",
   "execution_count": 55,
   "metadata": {
    "collapsed": false
   },
   "outputs": [
    {
     "name": "stdout",
     "output_type": "stream",
     "text": [
      "connected to arduino on COM4\n"
     ]
    },
    {
     "data": {
      "text/plain": [
       "' Setup complete\\r\\n'"
      ]
     },
     "execution_count": 55,
     "metadata": {},
     "output_type": "execute_result"
    }
   ],
   "source": [
    "# connect \n",
    "PORT1 = \"COM4\"\n",
    "connected1 = False\n",
    "if \"ser1\" in globals():\n",
    "    ser1.close()\n",
    "ser1 = serial.Serial(PORT1,9600, timeout=1.0) # stop if no data comes in 1 second\n",
    "while not connected1:\n",
    "    serin1 = ser1.read()\n",
    "    connected1 = True\n",
    "    print(\"connected to arduino on \" + PORT1)\n",
    "str(ser1.readline().decode(\"UTF-8\"))    "
   ]
  },
  {
   "cell_type": "code",
   "execution_count": 56,
   "metadata": {
    "collapsed": false
   },
   "outputs": [],
   "source": [
    "for ii in range(20): \n",
    "    written = ser1.write(\"f\".encode(\"utf-8\"))\n"
   ]
  },
  {
   "cell_type": "code",
   "execution_count": 57,
   "metadata": {
    "collapsed": true
   },
   "outputs": [],
   "source": [
    "for ii in range(10): \n",
    "    written = ser1.write(\"b\".encode(\"utf-8\"))"
   ]
  },
  {
   "cell_type": "code",
   "execution_count": 58,
   "metadata": {
    "collapsed": false
   },
   "outputs": [
    {
     "data": {
      "text/plain": [
       "99"
      ]
     },
     "execution_count": 58,
     "metadata": {},
     "output_type": "execute_result"
    }
   ],
   "source": [
    "\"c\".encode(\"utf-8\")\n",
    "int.from_bytes(b'c', byteorder='big') # this is what the arduino will see"
   ]
  },
  {
   "cell_type": "code",
   "execution_count": 59,
   "metadata": {
    "collapsed": false
   },
   "outputs": [
    {
     "data": {
      "text/plain": [
       "99"
      ]
     },
     "execution_count": 59,
     "metadata": {},
     "output_type": "execute_result"
    }
   ],
   "source": [
    "int.from_bytes(b'c', byteorder='big')"
   ]
  },
  {
   "cell_type": "code",
   "execution_count": 62,
   "metadata": {},
   "outputs": [],
   "source": [
    "def readData(serial_con, readlen = 5, wait_time = 0):\n",
    "    tmp = []\n",
    "    while msvcrt.kbhit():\n",
    "        msvcrt.getch()\n",
    "        print('clearing characters ...')\n",
    "    \n",
    "    for ii in range(readlen):\n",
    "        serial_con.write(\"r\".encode(\"utf-8\"))\n",
    "        txt = serial_con.readline().decode(\"UTF-8\")\n",
    "        values = [int(i) for i in txt.split(',')]\n",
    "        values.append(datetime.now().strftime('%Y-%m-%d %H:%M:%S.%f'))\n",
    "        tmp.append(values)\n",
    "        time.sleep(wait_time)\n",
    "        if msvcrt.kbhit(): # if q is pressed, then escape\n",
    "            if msvcrt.getch() == b'q':\n",
    "                print(\"keyboard q pressed\")\n",
    "                break\n",
    "    return(np.array(tmp))\n",
    "    "
   ]
  },
  {
   "cell_type": "code",
   "execution_count": 63,
   "metadata": {},
   "outputs": [
    {
     "name": "stdout",
     "output_type": "stream",
     "text": [
      "keyboard q pressed\n"
     ]
    }
   ],
   "source": [
    "# read data and write to file with timestamp\n",
    "tt = readData(ser1, 100, 0.01)\n",
    "\n"
   ]
  },
  {
   "cell_type": "code",
   "execution_count": 64,
   "metadata": {},
   "outputs": [
    {
     "data": {
      "text/html": [
       "<div>\n",
       "<style scoped>\n",
       "    .dataframe tbody tr th:only-of-type {\n",
       "        vertical-align: middle;\n",
       "    }\n",
       "\n",
       "    .dataframe tbody tr th {\n",
       "        vertical-align: top;\n",
       "    }\n",
       "\n",
       "    .dataframe thead th {\n",
       "        text-align: right;\n",
       "    }\n",
       "</style>\n",
       "<table border=\"1\" class=\"dataframe\">\n",
       "  <thead>\n",
       "    <tr style=\"text-align: right;\">\n",
       "      <th></th>\n",
       "      <th>0</th>\n",
       "      <th>1</th>\n",
       "      <th>2</th>\n",
       "      <th>3</th>\n",
       "      <th>4</th>\n",
       "      <th>5</th>\n",
       "    </tr>\n",
       "  </thead>\n",
       "  <tbody>\n",
       "    <tr>\n",
       "      <th>0</th>\n",
       "      <td>126</td>\n",
       "      <td>177</td>\n",
       "      <td>229</td>\n",
       "      <td>0</td>\n",
       "      <td>0</td>\n",
       "      <td>2018-08-07 10:10:21.893751</td>\n",
       "    </tr>\n",
       "    <tr>\n",
       "      <th>1</th>\n",
       "      <td>126</td>\n",
       "      <td>177</td>\n",
       "      <td>229</td>\n",
       "      <td>0</td>\n",
       "      <td>0</td>\n",
       "      <td>2018-08-07 10:10:21.926395</td>\n",
       "    </tr>\n",
       "    <tr>\n",
       "      <th>2</th>\n",
       "      <td>126</td>\n",
       "      <td>177</td>\n",
       "      <td>229</td>\n",
       "      <td>0</td>\n",
       "      <td>0</td>\n",
       "      <td>2018-08-07 10:10:21.967250</td>\n",
       "    </tr>\n",
       "    <tr>\n",
       "      <th>3</th>\n",
       "      <td>126</td>\n",
       "      <td>177</td>\n",
       "      <td>229</td>\n",
       "      <td>0</td>\n",
       "      <td>0</td>\n",
       "      <td>2018-08-07 10:10:22.000308</td>\n",
       "    </tr>\n",
       "    <tr>\n",
       "      <th>4</th>\n",
       "      <td>126</td>\n",
       "      <td>177</td>\n",
       "      <td>229</td>\n",
       "      <td>0</td>\n",
       "      <td>0</td>\n",
       "      <td>2018-08-07 10:10:22.041393</td>\n",
       "    </tr>\n",
       "    <tr>\n",
       "      <th>5</th>\n",
       "      <td>126</td>\n",
       "      <td>177</td>\n",
       "      <td>229</td>\n",
       "      <td>0</td>\n",
       "      <td>0</td>\n",
       "      <td>2018-08-07 10:10:22.074283</td>\n",
       "    </tr>\n",
       "    <tr>\n",
       "      <th>6</th>\n",
       "      <td>126</td>\n",
       "      <td>177</td>\n",
       "      <td>229</td>\n",
       "      <td>0</td>\n",
       "      <td>0</td>\n",
       "      <td>2018-08-07 10:10:22.115035</td>\n",
       "    </tr>\n",
       "    <tr>\n",
       "      <th>7</th>\n",
       "      <td>126</td>\n",
       "      <td>177</td>\n",
       "      <td>229</td>\n",
       "      <td>0</td>\n",
       "      <td>0</td>\n",
       "      <td>2018-08-07 10:10:22.147801</td>\n",
       "    </tr>\n",
       "    <tr>\n",
       "      <th>8</th>\n",
       "      <td>126</td>\n",
       "      <td>176</td>\n",
       "      <td>229</td>\n",
       "      <td>0</td>\n",
       "      <td>0</td>\n",
       "      <td>2018-08-07 10:10:22.180669</td>\n",
       "    </tr>\n",
       "    <tr>\n",
       "      <th>9</th>\n",
       "      <td>126</td>\n",
       "      <td>177</td>\n",
       "      <td>229</td>\n",
       "      <td>0</td>\n",
       "      <td>0</td>\n",
       "      <td>2018-08-07 10:10:22.221742</td>\n",
       "    </tr>\n",
       "    <tr>\n",
       "      <th>10</th>\n",
       "      <td>126</td>\n",
       "      <td>177</td>\n",
       "      <td>229</td>\n",
       "      <td>0</td>\n",
       "      <td>0</td>\n",
       "      <td>2018-08-07 10:10:22.258718</td>\n",
       "    </tr>\n",
       "    <tr>\n",
       "      <th>11</th>\n",
       "      <td>126</td>\n",
       "      <td>177</td>\n",
       "      <td>229</td>\n",
       "      <td>0</td>\n",
       "      <td>0</td>\n",
       "      <td>2018-08-07 10:10:22.299366</td>\n",
       "    </tr>\n",
       "    <tr>\n",
       "      <th>12</th>\n",
       "      <td>126</td>\n",
       "      <td>177</td>\n",
       "      <td>229</td>\n",
       "      <td>0</td>\n",
       "      <td>0</td>\n",
       "      <td>2018-08-07 10:10:22.340322</td>\n",
       "    </tr>\n",
       "    <tr>\n",
       "      <th>13</th>\n",
       "      <td>126</td>\n",
       "      <td>177</td>\n",
       "      <td>229</td>\n",
       "      <td>0</td>\n",
       "      <td>0</td>\n",
       "      <td>2018-08-07 10:10:22.377179</td>\n",
       "    </tr>\n",
       "    <tr>\n",
       "      <th>14</th>\n",
       "      <td>126</td>\n",
       "      <td>177</td>\n",
       "      <td>229</td>\n",
       "      <td>0</td>\n",
       "      <td>0</td>\n",
       "      <td>2018-08-07 10:10:22.410000</td>\n",
       "    </tr>\n",
       "    <tr>\n",
       "      <th>15</th>\n",
       "      <td>126</td>\n",
       "      <td>177</td>\n",
       "      <td>229</td>\n",
       "      <td>0</td>\n",
       "      <td>0</td>\n",
       "      <td>2018-08-07 10:10:22.442613</td>\n",
       "    </tr>\n",
       "    <tr>\n",
       "      <th>16</th>\n",
       "      <td>126</td>\n",
       "      <td>177</td>\n",
       "      <td>229</td>\n",
       "      <td>0</td>\n",
       "      <td>0</td>\n",
       "      <td>2018-08-07 10:10:22.475659</td>\n",
       "    </tr>\n",
       "    <tr>\n",
       "      <th>17</th>\n",
       "      <td>126</td>\n",
       "      <td>177</td>\n",
       "      <td>229</td>\n",
       "      <td>0</td>\n",
       "      <td>0</td>\n",
       "      <td>2018-08-07 10:10:22.508364</td>\n",
       "    </tr>\n",
       "    <tr>\n",
       "      <th>18</th>\n",
       "      <td>126</td>\n",
       "      <td>177</td>\n",
       "      <td>229</td>\n",
       "      <td>0</td>\n",
       "      <td>0</td>\n",
       "      <td>2018-08-07 10:10:22.541000</td>\n",
       "    </tr>\n",
       "    <tr>\n",
       "      <th>19</th>\n",
       "      <td>126</td>\n",
       "      <td>177</td>\n",
       "      <td>229</td>\n",
       "      <td>0</td>\n",
       "      <td>0</td>\n",
       "      <td>2018-08-07 10:10:22.581998</td>\n",
       "    </tr>\n",
       "    <tr>\n",
       "      <th>20</th>\n",
       "      <td>126</td>\n",
       "      <td>177</td>\n",
       "      <td>229</td>\n",
       "      <td>0</td>\n",
       "      <td>0</td>\n",
       "      <td>2018-08-07 10:10:22.622926</td>\n",
       "    </tr>\n",
       "    <tr>\n",
       "      <th>21</th>\n",
       "      <td>126</td>\n",
       "      <td>177</td>\n",
       "      <td>229</td>\n",
       "      <td>0</td>\n",
       "      <td>0</td>\n",
       "      <td>2018-08-07 10:10:22.660136</td>\n",
       "    </tr>\n",
       "    <tr>\n",
       "      <th>22</th>\n",
       "      <td>126</td>\n",
       "      <td>177</td>\n",
       "      <td>229</td>\n",
       "      <td>0</td>\n",
       "      <td>0</td>\n",
       "      <td>2018-08-07 10:10:22.692476</td>\n",
       "    </tr>\n",
       "    <tr>\n",
       "      <th>23</th>\n",
       "      <td>126</td>\n",
       "      <td>176</td>\n",
       "      <td>229</td>\n",
       "      <td>0</td>\n",
       "      <td>0</td>\n",
       "      <td>2018-08-07 10:10:22.733512</td>\n",
       "    </tr>\n",
       "    <tr>\n",
       "      <th>24</th>\n",
       "      <td>126</td>\n",
       "      <td>177</td>\n",
       "      <td>229</td>\n",
       "      <td>0</td>\n",
       "      <td>0</td>\n",
       "      <td>2018-08-07 10:10:22.770446</td>\n",
       "    </tr>\n",
       "    <tr>\n",
       "      <th>25</th>\n",
       "      <td>126</td>\n",
       "      <td>177</td>\n",
       "      <td>229</td>\n",
       "      <td>0</td>\n",
       "      <td>0</td>\n",
       "      <td>2018-08-07 10:10:22.811501</td>\n",
       "    </tr>\n",
       "    <tr>\n",
       "      <th>26</th>\n",
       "      <td>126</td>\n",
       "      <td>177</td>\n",
       "      <td>229</td>\n",
       "      <td>0</td>\n",
       "      <td>0</td>\n",
       "      <td>2018-08-07 10:10:22.852268</td>\n",
       "    </tr>\n",
       "    <tr>\n",
       "      <th>27</th>\n",
       "      <td>126</td>\n",
       "      <td>177</td>\n",
       "      <td>229</td>\n",
       "      <td>0</td>\n",
       "      <td>0</td>\n",
       "      <td>2018-08-07 10:10:22.884795</td>\n",
       "    </tr>\n",
       "    <tr>\n",
       "      <th>28</th>\n",
       "      <td>126</td>\n",
       "      <td>177</td>\n",
       "      <td>229</td>\n",
       "      <td>0</td>\n",
       "      <td>0</td>\n",
       "      <td>2018-08-07 10:10:22.921722</td>\n",
       "    </tr>\n",
       "    <tr>\n",
       "      <th>29</th>\n",
       "      <td>126</td>\n",
       "      <td>177</td>\n",
       "      <td>229</td>\n",
       "      <td>0</td>\n",
       "      <td>0</td>\n",
       "      <td>2018-08-07 10:10:22.958973</td>\n",
       "    </tr>\n",
       "    <tr>\n",
       "      <th>30</th>\n",
       "      <td>126</td>\n",
       "      <td>177</td>\n",
       "      <td>229</td>\n",
       "      <td>0</td>\n",
       "      <td>0</td>\n",
       "      <td>2018-08-07 10:10:22.999895</td>\n",
       "    </tr>\n",
       "    <tr>\n",
       "      <th>31</th>\n",
       "      <td>126</td>\n",
       "      <td>177</td>\n",
       "      <td>229</td>\n",
       "      <td>0</td>\n",
       "      <td>0</td>\n",
       "      <td>2018-08-07 10:10:23.040862</td>\n",
       "    </tr>\n",
       "    <tr>\n",
       "      <th>32</th>\n",
       "      <td>126</td>\n",
       "      <td>177</td>\n",
       "      <td>229</td>\n",
       "      <td>0</td>\n",
       "      <td>0</td>\n",
       "      <td>2018-08-07 10:10:23.081787</td>\n",
       "    </tr>\n",
       "    <tr>\n",
       "      <th>33</th>\n",
       "      <td>126</td>\n",
       "      <td>177</td>\n",
       "      <td>229</td>\n",
       "      <td>0</td>\n",
       "      <td>0</td>\n",
       "      <td>2018-08-07 10:10:23.118721</td>\n",
       "    </tr>\n",
       "    <tr>\n",
       "      <th>34</th>\n",
       "      <td>126</td>\n",
       "      <td>177</td>\n",
       "      <td>229</td>\n",
       "      <td>0</td>\n",
       "      <td>0</td>\n",
       "      <td>2018-08-07 10:10:23.151268</td>\n",
       "    </tr>\n",
       "    <tr>\n",
       "      <th>35</th>\n",
       "      <td>126</td>\n",
       "      <td>177</td>\n",
       "      <td>229</td>\n",
       "      <td>0</td>\n",
       "      <td>0</td>\n",
       "      <td>2018-08-07 10:10:23.184047</td>\n",
       "    </tr>\n",
       "    <tr>\n",
       "      <th>36</th>\n",
       "      <td>126</td>\n",
       "      <td>177</td>\n",
       "      <td>229</td>\n",
       "      <td>0</td>\n",
       "      <td>0</td>\n",
       "      <td>2018-08-07 10:10:23.216728</td>\n",
       "    </tr>\n",
       "    <tr>\n",
       "      <th>37</th>\n",
       "      <td>126</td>\n",
       "      <td>177</td>\n",
       "      <td>229</td>\n",
       "      <td>0</td>\n",
       "      <td>0</td>\n",
       "      <td>2018-08-07 10:10:23.249610</td>\n",
       "    </tr>\n",
       "    <tr>\n",
       "      <th>38</th>\n",
       "      <td>126</td>\n",
       "      <td>177</td>\n",
       "      <td>229</td>\n",
       "      <td>0</td>\n",
       "      <td>0</td>\n",
       "      <td>2018-08-07 10:10:23.290578</td>\n",
       "    </tr>\n",
       "    <tr>\n",
       "      <th>39</th>\n",
       "      <td>126</td>\n",
       "      <td>177</td>\n",
       "      <td>229</td>\n",
       "      <td>0</td>\n",
       "      <td>0</td>\n",
       "      <td>2018-08-07 10:10:23.327776</td>\n",
       "    </tr>\n",
       "    <tr>\n",
       "      <th>40</th>\n",
       "      <td>126</td>\n",
       "      <td>177</td>\n",
       "      <td>229</td>\n",
       "      <td>0</td>\n",
       "      <td>0</td>\n",
       "      <td>2018-08-07 10:10:23.368359</td>\n",
       "    </tr>\n",
       "    <tr>\n",
       "      <th>41</th>\n",
       "      <td>126</td>\n",
       "      <td>177</td>\n",
       "      <td>229</td>\n",
       "      <td>0</td>\n",
       "      <td>0</td>\n",
       "      <td>2018-08-07 10:10:23.401251</td>\n",
       "    </tr>\n",
       "    <tr>\n",
       "      <th>42</th>\n",
       "      <td>126</td>\n",
       "      <td>177</td>\n",
       "      <td>229</td>\n",
       "      <td>0</td>\n",
       "      <td>0</td>\n",
       "      <td>2018-08-07 10:10:23.433690</td>\n",
       "    </tr>\n",
       "    <tr>\n",
       "      <th>43</th>\n",
       "      <td>126</td>\n",
       "      <td>177</td>\n",
       "      <td>229</td>\n",
       "      <td>0</td>\n",
       "      <td>0</td>\n",
       "      <td>2018-08-07 10:10:23.466608</td>\n",
       "    </tr>\n",
       "    <tr>\n",
       "      <th>44</th>\n",
       "      <td>126</td>\n",
       "      <td>177</td>\n",
       "      <td>229</td>\n",
       "      <td>0</td>\n",
       "      <td>0</td>\n",
       "      <td>2018-08-07 10:10:23.499416</td>\n",
       "    </tr>\n",
       "  </tbody>\n",
       "</table>\n",
       "</div>"
      ],
      "text/plain": [
       "      0    1    2  3  4                           5\n",
       "0   126  177  229  0  0  2018-08-07 10:10:21.893751\n",
       "1   126  177  229  0  0  2018-08-07 10:10:21.926395\n",
       "2   126  177  229  0  0  2018-08-07 10:10:21.967250\n",
       "3   126  177  229  0  0  2018-08-07 10:10:22.000308\n",
       "4   126  177  229  0  0  2018-08-07 10:10:22.041393\n",
       "5   126  177  229  0  0  2018-08-07 10:10:22.074283\n",
       "6   126  177  229  0  0  2018-08-07 10:10:22.115035\n",
       "7   126  177  229  0  0  2018-08-07 10:10:22.147801\n",
       "8   126  176  229  0  0  2018-08-07 10:10:22.180669\n",
       "9   126  177  229  0  0  2018-08-07 10:10:22.221742\n",
       "10  126  177  229  0  0  2018-08-07 10:10:22.258718\n",
       "11  126  177  229  0  0  2018-08-07 10:10:22.299366\n",
       "12  126  177  229  0  0  2018-08-07 10:10:22.340322\n",
       "13  126  177  229  0  0  2018-08-07 10:10:22.377179\n",
       "14  126  177  229  0  0  2018-08-07 10:10:22.410000\n",
       "15  126  177  229  0  0  2018-08-07 10:10:22.442613\n",
       "16  126  177  229  0  0  2018-08-07 10:10:22.475659\n",
       "17  126  177  229  0  0  2018-08-07 10:10:22.508364\n",
       "18  126  177  229  0  0  2018-08-07 10:10:22.541000\n",
       "19  126  177  229  0  0  2018-08-07 10:10:22.581998\n",
       "20  126  177  229  0  0  2018-08-07 10:10:22.622926\n",
       "21  126  177  229  0  0  2018-08-07 10:10:22.660136\n",
       "22  126  177  229  0  0  2018-08-07 10:10:22.692476\n",
       "23  126  176  229  0  0  2018-08-07 10:10:22.733512\n",
       "24  126  177  229  0  0  2018-08-07 10:10:22.770446\n",
       "25  126  177  229  0  0  2018-08-07 10:10:22.811501\n",
       "26  126  177  229  0  0  2018-08-07 10:10:22.852268\n",
       "27  126  177  229  0  0  2018-08-07 10:10:22.884795\n",
       "28  126  177  229  0  0  2018-08-07 10:10:22.921722\n",
       "29  126  177  229  0  0  2018-08-07 10:10:22.958973\n",
       "30  126  177  229  0  0  2018-08-07 10:10:22.999895\n",
       "31  126  177  229  0  0  2018-08-07 10:10:23.040862\n",
       "32  126  177  229  0  0  2018-08-07 10:10:23.081787\n",
       "33  126  177  229  0  0  2018-08-07 10:10:23.118721\n",
       "34  126  177  229  0  0  2018-08-07 10:10:23.151268\n",
       "35  126  177  229  0  0  2018-08-07 10:10:23.184047\n",
       "36  126  177  229  0  0  2018-08-07 10:10:23.216728\n",
       "37  126  177  229  0  0  2018-08-07 10:10:23.249610\n",
       "38  126  177  229  0  0  2018-08-07 10:10:23.290578\n",
       "39  126  177  229  0  0  2018-08-07 10:10:23.327776\n",
       "40  126  177  229  0  0  2018-08-07 10:10:23.368359\n",
       "41  126  177  229  0  0  2018-08-07 10:10:23.401251\n",
       "42  126  177  229  0  0  2018-08-07 10:10:23.433690\n",
       "43  126  177  229  0  0  2018-08-07 10:10:23.466608\n",
       "44  126  177  229  0  0  2018-08-07 10:10:23.499416"
      ]
     },
     "execution_count": 64,
     "metadata": {},
     "output_type": "execute_result"
    }
   ],
   "source": [
    "pd.DataFrame(tt)"
   ]
  },
  {
   "cell_type": "code",
   "execution_count": 51,
   "metadata": {},
   "outputs": [],
   "source": [
    "saveDir = r\"C:\\Users\\Combes4\\Desktop\"\n",
    "\n",
    "df1 = pd.DataFrame(tt, columns=[\"base_sensor\", \"mid_sensor\", \"top_sensor\", \"limit_1\", \"limit_2\", \"timestamp\"])\n",
    "df1.to_csv(os.path.join(saveDir, datetime.now().strftime('%Y-%m-%d__%H_%M_%S_%f') + \".csv\"), index = False)"
   ]
  },
  {
   "cell_type": "code",
   "execution_count": 36,
   "metadata": {},
   "outputs": [
    {
     "data": {
      "text/plain": [
       "'2018-08-07 09:56:52.886993'"
      ]
     },
     "execution_count": 36,
     "metadata": {},
     "output_type": "execute_result"
    }
   ],
   "source": [
    "(tt[0, 5]).strftime('%Y-%m-%d %H:%M:%S.%f')"
   ]
  },
  {
   "cell_type": "code",
   "execution_count": 40,
   "metadata": {},
   "outputs": [
    {
     "data": {
      "text/plain": [
       "array([419, 420, 421, 421, 421, 421, 421, 422, 422, 423, 425, 426, 427,\n",
       "       427, 428, 428, 429, 429, 429, 429, 429, 429, 428, 428, 428, 428,\n",
       "       428, 429, 429, 430, 431, 432, 433, 434, 435, 436, 437, 437, 437,\n",
       "       439, 438, 438, 438, 438, 438, 438, 438, 438, 437, 436, 435, 435,\n",
       "       435, 436, 436, 437, 431, 427, 417, 414, 415, 416, 419, 420, 413,\n",
       "       387, 388, 388, 388, 388, 388, 387, 386, 385, 385, 383, 385, 387,\n",
       "       393, 392, 397, 399, 393, 404, 412, 413, 420, 425, 429, 432, 434,\n",
       "       435, 436, 437, 437, 438, 438, 439, 439, 439])"
      ]
     },
     "execution_count": 40,
     "metadata": {},
     "output_type": "execute_result"
    }
   ],
   "source": [
    "# top sensor\n",
    "tt[:, 2]\n",
    "\n",
    "# mid sensor\n",
    "tt[:, 1]\n",
    "\n",
    "# base sensor\n",
    "tt[:, 0]"
   ]
  },
  {
   "cell_type": "code",
   "execution_count": 41,
   "metadata": {},
   "outputs": [
    {
     "data": {
      "text/plain": [
       "[<matplotlib.lines.Line2D at 0x122bcd978>]"
      ]
     },
     "execution_count": 41,
     "metadata": {},
     "output_type": "execute_result"
    },
    {
     "data": {
      "image/png": "[encoded data removed]",
      "text/plain": [
       "<matplotlib.figure.Figure at 0x120760828>"
      ]
     },
     "metadata": {},
     "output_type": "display_data"
    }
   ],
   "source": [
    "plt.plot(tt[:,2])"
   ]
  },
  {
   "cell_type": "code",
   "execution_count": 42,
   "metadata": {},
   "outputs": [
    {
     "data": {
      "text/plain": [
       "[<matplotlib.lines.Line2D at 0x122cc3400>,\n",
       " <matplotlib.lines.Line2D at 0x122cc3550>,\n",
       " <matplotlib.lines.Line2D at 0x122cc36a0>,\n",
       " <matplotlib.lines.Line2D at 0x122cc37f0>,\n",
       " <matplotlib.lines.Line2D at 0x122cc3940>]"
      ]
     },
     "execution_count": 42,
     "metadata": {},
     "output_type": "execute_result"
    },
    {
     "data": {
      "image/png": "[encoded data removed]",
      "text/plain": [
       "<matplotlib.figure.Figure at 0x120bae278>"
      ]
     },
     "metadata": {},
     "output_type": "display_data"
    }
   ],
   "source": [
    "plt.plot(tt)"
   ]
  },
  {
   "cell_type": "code",
   "execution_count": 14,
   "metadata": {},
   "outputs": [],
   "source": [
    "#ser1.close()"
   ]
  },
  {
   "cell_type": "code",
   "execution_count": 43,
   "metadata": {},
   "outputs": [],
   "source": [
    "def moveToTop(serial_con, cutoff = 650):\n",
    "    # refref: may want to go 1 or two more moves forward after cutoff is passed --- \n",
    "    ## the cutoff is the meniscus\n",
    "    [[topVal, bottomLim, topLim]] = readData(serial_con, 1, 0)[:, [1,3,4]]\n",
    "    print(topVal)\n",
    "    while (topVal > cutoff) and not topLim:\n",
    "        #move forward\n",
    "        ser1.write(\"f\".encode(\"utf-8\"))\n",
    "        \n",
    "        # read data again\n",
    "        [[topVal, bottomLim, topLim]] = readData(serial_con, 1, 0)[:,[1,3,4]]\n",
    "        # rror if limit switch is hit\n",
    "        if topLim:\n",
    "            raise RuntimeError('Hit upper limit switch')\n",
    "        \n",
    "        \n",
    "        \n",
    "        "
   ]
  },
  {
   "cell_type": "code",
   "execution_count": 44,
   "metadata": {},
   "outputs": [],
   "source": [
    "# refref: problem -- liquid stays stuck on the sides -- may need to move back slower\n",
    "\n",
    "def moveBack(serial_con, cutoff = 650):\n",
    "    \n",
    "    [[topVal, bottomLim, topLim]] = readData(serial_con, 1, 0)[:, [1,3,4]]\n",
    "    \n",
    "    \n",
    "    while (topVal < cutoff) and not bottomLim:\n",
    "        #move backward\n",
    "        for jj in range(7):\n",
    "            ser1.write(\"b\".encode(\"utf-8\"))\n",
    "            time.sleep(0.3)\n",
    "        \n",
    "        # read data again\n",
    "        [[topVal, bottomLim, topLim]] = readData(serial_con, 1, 0)[:, [1,3,4]]\n",
    "        # rror if limit switch is hit\n",
    "        if bottomLim:\n",
    "            raise RuntimeError('Hit lower limit switch')"
   ]
  },
  {
   "cell_type": "code",
   "execution_count": 45,
   "metadata": {},
   "outputs": [
    {
     "data": {
      "text/plain": [
       "array([[452, 773, 247,   0,   0]])"
      ]
     },
     "execution_count": 45,
     "metadata": {},
     "output_type": "execute_result"
    }
   ],
   "source": [
    "readData(ser1, 1, 0)"
   ]
  },
  {
   "cell_type": "code",
   "execution_count": 51,
   "metadata": {},
   "outputs": [
    {
     "name": "stdout",
     "output_type": "stream",
     "text": [
      "764\n"
     ]
    },
    {
     "data": {
      "text/plain": [
       "array([[145, 308, 243,   0,   0]])"
      ]
     },
     "execution_count": 51,
     "metadata": {},
     "output_type": "execute_result"
    }
   ],
   "source": [
    "moveToTop(ser1)\n",
    "readData(ser1, 1, 0)"
   ]
  },
  {
   "cell_type": "code",
   "execution_count": 50,
   "metadata": {},
   "outputs": [
    {
     "data": {
      "text/plain": [
       "array([[427, 763, 245,   0,   0]])"
      ]
     },
     "execution_count": 50,
     "metadata": {},
     "output_type": "execute_result"
    }
   ],
   "source": [
    "moveBack(ser1)\n",
    "readData(ser1, 1, 0)"
   ]
  },
  {
   "cell_type": "code",
   "execution_count": 83,
   "metadata": {},
   "outputs": [
    {
     "data": {
      "text/plain": [
       "1"
      ]
     },
     "execution_count": 83,
     "metadata": {},
     "output_type": "execute_result"
    }
   ],
   "source": [
    "ser1.write(\"f\".encode(\"utf-8\"))"
   ]
  },
  {
   "cell_type": "code",
   "execution_count": null,
   "metadata": {},
   "outputs": [],
   "source": [
    "[[vals, bottomLim, topLim]] = readData(ser1, 1, 0)[:, 2:]"
   ]
  },
  {
   "cell_type": "code",
   "execution_count": null,
   "metadata": {},
   "outputs": [],
   "source": [
    "readData(ser1, 1, 0)[:, 2:]"
   ]
  },
  {
   "cell_type": "code",
   "execution_count": null,
   "metadata": {},
   "outputs": [],
   "source": [
    "toplim = 1"
   ]
  },
  {
   "cell_type": "code",
   "execution_count": null,
   "metadata": {},
   "outputs": [],
   "source": [
    "not toplim"
   ]
  },
  {
   "cell_type": "code",
   "execution_count": null,
   "metadata": {},
   "outputs": [],
   "source": []
  }
 ],
 "metadata": {
  "kernelspec": {
   "display_name": "nectarLearn",
   "language": "python",
   "name": "nectarlearn"
  },
  "language_info": {
   "codemirror_mode": {
    "name": "ipython",
    "version": 3
   },
   "file_extension": ".py",
   "mimetype": "text/x-python",
   "name": "python",
   "nbconvert_exporter": "python",
   "pygments_lexer": "ipython3",
   "version": "3.6.6"
  }
 },
 "nbformat": 4,
 "nbformat_minor": 2
}
