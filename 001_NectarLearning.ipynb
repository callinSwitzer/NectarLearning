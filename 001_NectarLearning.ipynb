{
 "cells": [
  {
   "cell_type": "code",
   "execution_count": 1,
   "metadata": {
    "collapsed": false
   },
   "outputs": [
    {
     "name": "stdout",
     "output_type": "stream",
     "text": [
      "3.6.5 | packaged by conda-forge | (default, Apr  6 2018, 13:44:09) \n",
      "[GCC 4.2.1 Compatible Apple LLVM 6.1.0 (clang-602.0.53)]\n",
      "/Users/cswitzer/anaconda/envs/nectarLearn/bin/python\n"
     ]
    }
   ],
   "source": [
    "import numpy as np\n",
    "import matplotlib.pyplot as plt\n",
    "% matplotlib inline\n",
    "import pandas as pd\n",
    "import serial\n",
    "\n",
    "import glob\n",
    "\n",
    "import time\n",
    "import os\n",
    "import shutil\n",
    "import sys\n",
    "from datetime import datetime\n",
    "print(sys.version)\n",
    "print(sys.executable)"
   ]
  },
  {
   "cell_type": "code",
   "execution_count": 2,
   "metadata": {
    "collapsed": false
   },
   "outputs": [
    {
     "data": {
      "text/plain": [
       "['/dev/tty.Bluetooth-Incoming-Port', '/dev/tty.usbmodem1411']"
      ]
     },
     "execution_count": 2,
     "metadata": {},
     "output_type": "execute_result"
    }
   ],
   "source": [
    "# list ports\n",
    "\n",
    "def serial_ports():\n",
    "    \"\"\" Lists serial port names\n",
    "\n",
    "        :raises EnvironmentError:\n",
    "            On unsupported or unknown platforms\n",
    "        :returns:\n",
    "            A list of the serial ports available on the system\n",
    "    \"\"\"\n",
    "    if sys.platform.startswith('win'):\n",
    "        ports = ['COM%s' % (i + 1) for i in range(256)]\n",
    "    elif sys.platform.startswith('linux') or sys.platform.startswith('cygwin'):\n",
    "        # this excludes your current terminal \"/dev/tty\"\n",
    "        ports = glob.glob('/dev/tty[A-Za-z]*')\n",
    "    elif sys.platform.startswith('darwin'):\n",
    "        ports = glob.glob('/dev/tty.*')\n",
    "    else:\n",
    "        raise EnvironmentError('Unsupported platform')\n",
    "\n",
    "    result = []\n",
    "    for port in ports:\n",
    "        try:\n",
    "            s = serial.Serial(port)\n",
    "            s.close()\n",
    "            result.append(port)\n",
    "        except (OSError, serial.SerialException):\n",
    "            pass\n",
    "    return result\n",
    "\n",
    "\n",
    "# I'm using COM3 and COM5 arduinos\n",
    "# COM4 is for the arduino controlling the cameras\n",
    "serial_ports()"
   ]
  },
  {
   "cell_type": "code",
   "execution_count": 3,
   "metadata": {
    "collapsed": false
   },
   "outputs": [
    {
     "name": "stdout",
     "output_type": "stream",
     "text": [
      "connected to arduino on /dev/tty.usbmodem1411\n"
     ]
    },
    {
     "data": {
      "text/plain": [
       "' Setup complete\\r\\n'"
      ]
     },
     "execution_count": 3,
     "metadata": {},
     "output_type": "execute_result"
    }
   ],
   "source": [
    "# connect \n",
    "PORT1 = \"/dev/tty.usbmodem1411\"\n",
    "connected1 = False\n",
    "if \"ser1\" in globals():\n",
    "    ser1.close()\n",
    "ser1 = serial.Serial(PORT1,9600, timeout=1.0) # stop if no data comes in 1 second\n",
    "while not connected1:\n",
    "    serin1 = ser1.read()\n",
    "    connected1 = True\n",
    "    print(\"connected to arduino on \" + PORT1)\n",
    "str(ser1.readline().decode(\"UTF-8\"))    "
   ]
  },
  {
   "cell_type": "code",
   "execution_count": 4,
   "metadata": {
    "collapsed": false
   },
   "outputs": [],
   "source": [
    "for ii in range(3): \n",
    "    written = ser1.write(\"f\".encode(\"utf-8\"))\n"
   ]
  },
  {
   "cell_type": "code",
   "execution_count": null,
   "metadata": {},
   "outputs": [],
   "source": []
  },
  {
   "cell_type": "code",
   "execution_count": 5,
   "metadata": {
    "collapsed": true
   },
   "outputs": [],
   "source": [
    "for ii in range(10): \n",
    "    written = ser1.write(\"b\".encode(\"utf-8\"))"
   ]
  },
  {
   "cell_type": "code",
   "execution_count": 6,
   "metadata": {
    "collapsed": false
   },
   "outputs": [
    {
     "data": {
      "text/plain": [
       "99"
      ]
     },
     "execution_count": 6,
     "metadata": {},
     "output_type": "execute_result"
    }
   ],
   "source": [
    "\"c\".encode(\"utf-8\")\n",
    "int.from_bytes(b'c', byteorder='big') # this is what the arduino will see"
   ]
  },
  {
   "cell_type": "code",
   "execution_count": 7,
   "metadata": {
    "collapsed": false
   },
   "outputs": [
    {
     "data": {
      "text/plain": [
       "99"
      ]
     },
     "execution_count": 7,
     "metadata": {},
     "output_type": "execute_result"
    }
   ],
   "source": [
    "int.from_bytes(b'c', byteorder='big')"
   ]
  },
  {
   "cell_type": "code",
   "execution_count": 8,
   "metadata": {
    "collapsed": true
   },
   "outputs": [
    {
     "ename": "SyntaxError",
     "evalue": "invalid syntax (<ipython-input-8-e527d897335e>, line 1)",
     "output_type": "error",
     "traceback": [
      "\u001b[0;36m  File \u001b[0;32m\"<ipython-input-8-e527d897335e>\"\u001b[0;36m, line \u001b[0;32m1\u001b[0m\n\u001b[0;31m    def calibration:\u001b[0m\n\u001b[0m                   ^\u001b[0m\n\u001b[0;31mSyntaxError\u001b[0m\u001b[0;31m:\u001b[0m invalid syntax\n"
     ]
    }
   ],
   "source": [
    "def calibration:\n",
    "    # put liquid to top of tube\n",
    "    "
   ]
  },
  {
   "cell_type": "code",
   "execution_count": 9,
   "metadata": {},
   "outputs": [],
   "source": [
    "def readData(serial_con, readlen = 5, wait_time = 0):\n",
    "    tmp = []\n",
    "    for ii in range(readlen):\n",
    "        serial_con.write(\"r\".encode(\"utf-8\"))\n",
    "        txt = serial_con.readline().decode(\"UTF-8\")\n",
    "        values = [int(i) for i in txt.split(',')]\n",
    "        tmp.append(values)\n",
    "        time.sleep(wait_time)\n",
    "    return(np.array(tmp))\n",
    "    "
   ]
  },
  {
   "cell_type": "code",
   "execution_count": 10,
   "metadata": {},
   "outputs": [],
   "source": [
    "tt = readData(ser1, 100, 0.1)"
   ]
  },
  {
   "cell_type": "code",
   "execution_count": 11,
   "metadata": {},
   "outputs": [
    {
     "data": {
      "text/plain": [
       "array([146, 146, 146, 146, 146, 146, 146, 146, 146, 146, 146, 146, 146,\n",
       "       146, 146, 146, 146, 146, 146, 146, 146, 146, 146, 146, 146, 146,\n",
       "       146, 146, 146, 146, 146, 146, 146, 146, 146, 146, 146, 146, 146,\n",
       "       146, 146, 146, 146, 146, 146, 146, 146, 146, 146, 146, 146, 146,\n",
       "       146, 146, 146, 146, 146, 146, 146, 146, 146, 146, 146, 146, 146,\n",
       "       146, 146, 146, 146, 146, 146, 146, 146, 146, 146, 146, 146, 146,\n",
       "       146, 146, 146, 146, 146, 146, 146, 146, 146, 146, 146, 146, 146,\n",
       "       146, 146, 146, 146, 146, 146, 146, 146, 146])"
      ]
     },
     "execution_count": 11,
     "metadata": {},
     "output_type": "execute_result"
    }
   ],
   "source": [
    "# top sensor\n",
    "tt[:, 2]\n",
    "\n",
    "# mid sensor\n",
    "tt[:, 1]\n",
    "\n",
    "# base sensor\n",
    "tt[:, 0]"
   ]
  },
  {
   "cell_type": "code",
   "execution_count": 12,
   "metadata": {},
   "outputs": [
    {
     "data": {
      "text/plain": [
       "[<matplotlib.lines.Line2D at 0x120ca0748>]"
      ]
     },
     "execution_count": 12,
     "metadata": {},
     "output_type": "execute_result"
    },
    {
     "data": {
      "image/png": "[encoded data removed]",
      "text/plain": [
       "<matplotlib.figure.Figure at 0x110734a90>"
      ]
     },
     "metadata": {},
     "output_type": "display_data"
    }
   ],
   "source": [
    "plt.plot(tt[:,2])"
   ]
  },
  {
   "cell_type": "code",
   "execution_count": 13,
   "metadata": {},
   "outputs": [
    {
     "data": {
      "text/plain": [
       "[<matplotlib.lines.Line2D at 0x120d38da0>,\n",
       " <matplotlib.lines.Line2D at 0x120d38ef0>,\n",
       " <matplotlib.lines.Line2D at 0x120d3f080>,\n",
       " <matplotlib.lines.Line2D at 0x120d3f1d0>,\n",
       " <matplotlib.lines.Line2D at 0x120d3f320>]"
      ]
     },
     "execution_count": 13,
     "metadata": {},
     "output_type": "execute_result"
    },
    {
     "data": {
      "image/png": "[encoded data removed]",
      "text/plain": [
       "<matplotlib.figure.Figure at 0x11ec76710>"
      ]
     },
     "metadata": {},
     "output_type": "display_data"
    }
   ],
   "source": [
    "plt.plot(tt)"
   ]
  },
  {
   "cell_type": "code",
   "execution_count": 14,
   "metadata": {},
   "outputs": [],
   "source": [
    "#ser1.close()"
   ]
  },
  {
   "cell_type": "code",
   "execution_count": 43,
   "metadata": {},
   "outputs": [],
   "source": [
    "def moveToTop(serial_con, cutoff = 650):\n",
    "    # refref: may want to go 1 or two more moves forward after cutoff is passed --- \n",
    "    ## the cutoff is the meniscus\n",
    "    [[topVal, bottomLim, topLim]] = readData(serial_con, 1, 0)[:, [1,3,4]]\n",
    "    print(topVal)\n",
    "    while (topVal > cutoff) and not topLim:\n",
    "        #move forward\n",
    "        ser1.write(\"f\".encode(\"utf-8\"))\n",
    "        \n",
    "        # read data again\n",
    "        [[topVal, bottomLim, topLim]] = readData(serial_con, 1, 0)[:,[1,3,4]]\n",
    "        # rror if limit switch is hit\n",
    "        if topLim:\n",
    "            raise RuntimeError('Hit upper limit switch')\n",
    "        \n",
    "        \n",
    "        \n",
    "        "
   ]
  },
  {
   "cell_type": "code",
   "execution_count": 44,
   "metadata": {},
   "outputs": [],
   "source": [
    "# refref: problem -- liquid stays stuck on the sides -- may need to move back slower\n",
    "\n",
    "def moveBack(serial_con, cutoff = 650):\n",
    "    \n",
    "    [[topVal, bottomLim, topLim]] = readData(serial_con, 1, 0)[:, [1,3,4]]\n",
    "    \n",
    "    \n",
    "    while (topVal < cutoff) and not bottomLim:\n",
    "        #move backward\n",
    "        for jj in range(7):\n",
    "            ser1.write(\"b\".encode(\"utf-8\"))\n",
    "            time.sleep(0.3)\n",
    "        \n",
    "        # read data again\n",
    "        [[topVal, bottomLim, topLim]] = readData(serial_con, 1, 0)[:, [1,3,4]]\n",
    "        # rror if limit switch is hit\n",
    "        if bottomLim:\n",
    "            raise RuntimeError('Hit lower limit switch')"
   ]
  },
  {
   "cell_type": "code",
   "execution_count": 50,
   "metadata": {},
   "outputs": [
    {
     "data": {
      "text/plain": [
       "array([[146, 249, 376,   0,   0]])"
      ]
     },
     "execution_count": 50,
     "metadata": {},
     "output_type": "execute_result"
    }
   ],
   "source": [
    "readData(ser1, 1, 0)"
   ]
  },
  {
   "cell_type": "code",
   "execution_count": 51,
   "metadata": {},
   "outputs": [
    {
     "name": "stdout",
     "output_type": "stream",
     "text": [
      "250\n"
     ]
    },
    {
     "data": {
      "text/plain": [
       "array([[146, 250, 375,   0,   0]])"
      ]
     },
     "execution_count": 51,
     "metadata": {},
     "output_type": "execute_result"
    }
   ],
   "source": [
    "moveToTop(ser1)\n",
    "readData(ser1, 1, 0)"
   ]
  },
  {
   "cell_type": "code",
   "execution_count": 48,
   "metadata": {},
   "outputs": [
    {
     "data": {
      "text/plain": [
       "array([[145, 786, 377,   0,   0]])"
      ]
     },
     "execution_count": 48,
     "metadata": {},
     "output_type": "execute_result"
    }
   ],
   "source": [
    "moveBack(ser1)\n",
    "readData(ser1, 1, 0)"
   ]
  },
  {
   "cell_type": "code",
   "execution_count": 83,
   "metadata": {},
   "outputs": [
    {
     "data": {
      "text/plain": [
       "1"
      ]
     },
     "execution_count": 83,
     "metadata": {},
     "output_type": "execute_result"
    }
   ],
   "source": [
    "ser1.write(\"f\".encode(\"utf-8\"))"
   ]
  },
  {
   "cell_type": "code",
   "execution_count": null,
   "metadata": {},
   "outputs": [],
   "source": [
    "[[vals, bottomLim, topLim]] = readData(ser1, 1, 0)[:, 2:]"
   ]
  },
  {
   "cell_type": "code",
   "execution_count": null,
   "metadata": {},
   "outputs": [],
   "source": [
    "readData(ser1, 1, 0)[:, 2:]"
   ]
  },
  {
   "cell_type": "code",
   "execution_count": null,
   "metadata": {},
   "outputs": [],
   "source": [
    "toplim = 1"
   ]
  },
  {
   "cell_type": "code",
   "execution_count": null,
   "metadata": {},
   "outputs": [],
   "source": [
    "not toplim"
   ]
  },
  {
   "cell_type": "code",
   "execution_count": null,
   "metadata": {},
   "outputs": [],
   "source": []
  }
 ],
 "metadata": {
  "kernelspec": {
   "display_name": "nectarLearn",
   "language": "python",
   "name": "nectarlearn"
  },
  "language_info": {
   "codemirror_mode": {
    "name": "ipython",
    "version": 3
   },
   "file_extension": ".py",
   "mimetype": "text/x-python",
   "name": "python",
   "nbconvert_exporter": "python",
   "pygments_lexer": "ipython3",
   "version": "3.6.5"
  }
 },
 "nbformat": 4,
 "nbformat_minor": 2
}
